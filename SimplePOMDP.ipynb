{
 "cells": [
  {
   "cell_type": "markdown",
   "metadata": {},
   "source": [
    "Discrete POMDP implemented using `github.com/JuliaPOMDP/QuickPOMDPs.jl` and tutorial [here](https://htmlview.glitch.me/?https://github.com/JuliaAcademy/Decision-Making-Under-Uncertainty/blob/master/html/2-POMDPs.jl.html)."
   ]
  },
  {
   "cell_type": "code",
   "execution_count": 1,
   "metadata": {},
   "outputs": [],
   "source": [
    "using POMDPs, QuickPOMDPs, POMDPModelTools, POMDPPolicies, Parameters, Random, Plots, LinearAlgebra\n",
    "using DiscreteValueIteration, TabularTDLearning, POMDPTools, QMDP"
   ]
  },
  {
   "cell_type": "code",
   "execution_count": 2,
   "metadata": {},
   "outputs": [
    {
     "name": "stdout",
     "output_type": "stream",
     "text": [
      "Hello World"
     ]
    }
   ],
   "source": [
    "# check Julia exists\n",
    "print(\"Hello World\")"
   ]
  },
  {
   "cell_type": "code",
   "execution_count": 3,
   "metadata": {},
   "outputs": [
    {
     "data": {
      "text/plain": [
       "MyParameters\n",
       "  N: Int64 4\n",
       "  K: Int64 3\n",
       "  M: Int64 2\n",
       "  y: Float64 1.0\n",
       "  umax: Int64 10\n"
      ]
     },
     "execution_count": 3,
     "metadata": {},
     "output_type": "execute_result"
    }
   ],
   "source": [
    "@with_kw struct MyParameters\n",
    "    N::Int = 4   # size of item set\n",
    "    K::Int = 3   # size of arm set\n",
    "    M::Int = 2   # size of beta set\n",
    "    y::Real = 1.0 # discount factor\n",
    "    umax::Real = 10  # max utility\n",
    "end\n",
    "\n",
    "params = MyParameters()"
   ]
  },
  {
   "cell_type": "code",
   "execution_count": 4,
   "metadata": {},
   "outputs": [],
   "source": [
    "struct State\n",
    "    u::Array{Int}          # list of N utility values for N items\n",
    "    d::Array{Array{Real}}  # list of K arm distributions, each assigning probabilities to N items\n",
    "    b::Array{Float64}      # list of M beta values\n",
    "end"
   ]
  },
  {
   "cell_type": "code",
   "execution_count": 5,
   "metadata": {},
   "outputs": [],
   "source": [
    "# space of possible utility functions (each must be length N)\n",
    "umax = 10\n",
    "U = [[params.umax, 0, 0, 0],\n",
    "    [0, params.umax, 0, 0],\n",
    "    [0, 0, params.umax, 0],\n",
    "    [0, 0, 0, params.umax]]\n",
    "\n",
    "# space of possible arm distributions (each must be size KxN)\n",
    "D = [[[1/params.N, 1/params.N, 1/params.N, 1/params.N], [1, 0, 0, 0], [0.5, 0.5, 0, 0]],\n",
    "    [[0, 0, 0, 1], [1/params.N, 1/params.N, 1/params.N, 1/params.N], [0.5, 0.5, 0, 0]]]\n",
    "\n",
    "# beta values (must be length M)\n",
    "B = [0.1,10]\n",
    "\n",
    "# State space\n",
    "S = [[State(u,d,B) for u in U, d in D]...,]\n",
    "\n",
    "# state comparator\n",
    "Base.:(==)(s1::State, s2::State) = (s1.u == s2.u) && (s1.d == s2.d)"
   ]
  },
  {
   "cell_type": "code",
   "execution_count": 6,
   "metadata": {},
   "outputs": [
    {
     "data": {
      "text/plain": [
       "5-element Vector{Action}:\n",
       " C1::Action = 0\n",
       " C2::Action = 1\n",
       " C3::Action = 2\n",
       " B1::Action = 3\n",
       " B2::Action = 4"
      ]
     },
     "execution_count": 6,
     "metadata": {},
     "output_type": "execute_result"
    }
   ],
   "source": [
    "# Action space - actions are arm choices (K) or beta selections (M)\n",
    "@enum Action C1 C2 C3 B1 B2\n",
    "A = [C1, C2, C3, B1, B2]"
   ]
  },
  {
   "cell_type": "code",
   "execution_count": 7,
   "metadata": {},
   "outputs": [
    {
     "data": {
      "text/plain": [
       "T (generic function with 1 method)"
      ]
     },
     "execution_count": 7,
     "metadata": {},
     "output_type": "execute_result"
    }
   ],
   "source": [
    "# Transition function\n",
    "function T(s::State, a::Action)\n",
    "    return SparseCat([s], [1.0])    # categorical distribution\n",
    "end"
   ]
  },
  {
   "cell_type": "code",
   "execution_count": 8,
   "metadata": {},
   "outputs": [
    {
     "data": {
      "text/plain": [
       "R (generic function with 1 method)"
      ]
     },
     "execution_count": 8,
     "metadata": {},
     "output_type": "execute_result"
    }
   ],
   "source": [
    "# Reward function\n",
    "function R(s::State, a::Action)\n",
    "    # if arm pulled, return that arm's avg utility\n",
    "    if a == C1\n",
    "        utilities = s.u\n",
    "        arm_dist = s.d[1]\n",
    "        return dot(utilities, arm_dist)\n",
    "    elseif a == C2\n",
    "        utilities = s.u\n",
    "        arm_dist = s.d[2]\n",
    "        return dot(utilities, arm_dist)\n",
    "    elseif a == C3\n",
    "        utilities = s.u\n",
    "        arm_dist = s.d[3]\n",
    "        return dot(utilities, arm_dist)\n",
    "    # if beta selected, return 0\n",
    "    else\n",
    "        return 0\n",
    "    end\n",
    "end"
   ]
  },
  {
   "cell_type": "code",
   "execution_count": 9,
   "metadata": {},
   "outputs": [
    {
     "data": {
      "text/plain": [
       "36-element Vector{Observation}:\n",
       " Observation(true, 1, Preference(-1, -1, -1))\n",
       " Observation(true, 2, Preference(-1, -1, -1))\n",
       " Observation(true, 3, Preference(-1, -1, -1))\n",
       " Observation(true, 4, Preference(-1, -1, -1))\n",
       " Observation(false, -1, Preference(1, 1, 0))\n",
       " Observation(false, -1, Preference(2, 1, 0))\n",
       " Observation(false, -1, Preference(3, 1, 0))\n",
       " Observation(false, -1, Preference(4, 1, 0))\n",
       " Observation(false, -1, Preference(1, 2, 0))\n",
       " Observation(false, -1, Preference(2, 2, 0))\n",
       " Observation(false, -1, Preference(3, 2, 0))\n",
       " Observation(false, -1, Preference(4, 2, 0))\n",
       " Observation(false, -1, Preference(1, 3, 0))\n",
       " ⋮\n",
       " Observation(false, -1, Preference(1, 2, 1))\n",
       " Observation(false, -1, Preference(2, 2, 1))\n",
       " Observation(false, -1, Preference(3, 2, 1))\n",
       " Observation(false, -1, Preference(4, 2, 1))\n",
       " Observation(false, -1, Preference(1, 3, 1))\n",
       " Observation(false, -1, Preference(2, 3, 1))\n",
       " Observation(false, -1, Preference(3, 3, 1))\n",
       " Observation(false, -1, Preference(4, 3, 1))\n",
       " Observation(false, -1, Preference(1, 4, 1))\n",
       " Observation(false, -1, Preference(2, 4, 1))\n",
       " Observation(false, -1, Preference(3, 4, 1))\n",
       " Observation(false, -1, Preference(4, 4, 1))"
      ]
     },
     "execution_count": 9,
     "metadata": {},
     "output_type": "execute_result"
    }
   ],
   "source": [
    "# item space\n",
    "I = 1:params.N\n",
    "\n",
    "# preference space\n",
    "struct Preference\n",
    "    i0::Int    # first item to compare, in {1,2,...,N}\n",
    "    i1::Int    # second item to compare, in {1,2,...,N}\n",
    "    label::Int # feedback label, in {0,1}\n",
    "end\n",
    "\n",
    "P = [[Preference(i0,i1,label) for i0 in I, i1 in I, label in [0,1]]...,]\n",
    "\n",
    "# observation space\n",
    "struct Observation\n",
    "    isItem::Bool    # true if item returned, false otherwise\n",
    "    i::Int          # item, if item returned\n",
    "    p::Preference   # preference, if preference returned\n",
    "end\n",
    "\n",
    "invalid_i = -1\n",
    "invalid_p = Preference(-1,-1,-1)\n",
    "I_obs = [Observation(true, i, invalid_p) for i in I]\n",
    "P_obs = [Observation(false, invalid_i, p) for p in P]\n",
    "omega = union(I_obs, P_obs)"
   ]
  },
  {
   "cell_type": "code",
   "execution_count": 10,
   "metadata": {},
   "outputs": [
    {
     "data": {
      "text/plain": [
       "O (generic function with 1 method)"
      ]
     },
     "execution_count": 10,
     "metadata": {},
     "output_type": "execute_result"
    }
   ],
   "source": [
    "# query profile (likelihood of querying 1,1; 2,1; 3,1; ... ; N,1; 1,2; 2,2; ... ; N,N)\n",
    "# not neccessarily normalized\n",
    "Q = ones(params.N*params.N)\n",
    "\n",
    "# preference probability (expected preference, or probability that preference=1)\n",
    "function Pr(p::Preference, s::State, b::Float64)\n",
    "    prob_pref_1 = exp(Float64(b)*s.u[p.i1])/(exp(Float64(b)*s.u[p.i1])+exp(Float64(b)*s.u[p.i0]))\n",
    "    if p.label == 1\n",
    "        return prob_pref_1\n",
    "    else\n",
    "        return 1.0-prob_pref_1\n",
    "    end\n",
    "end\n",
    "\n",
    "function O(s::State, a::Action, sp::State)\n",
    "    # if C action, obs in I_obs\n",
    "    A_c = [C1, C2, C3]\n",
    "    if a in A_c\n",
    "        arm_choice = Int(a)+1   # adding 1 b/c enums index from 0\n",
    "        return SparseCat(I_obs, s.d[arm_choice])\n",
    "    end\n",
    "    \n",
    "    # if B action, obs in P_obs\n",
    "    A_b = [B1, B2]\n",
    "    if a in A_b\n",
    "        b = Int(a)+1-length(A_c)\n",
    "        prob_of_pref = [Pr(o.p, s, s.b[b]) for o in P_obs]\n",
    "        prob_of_query = vcat(Q,Q)   # doubled because each query appears once for each label\n",
    "        \n",
    "        # weight by querying profile to get dist\n",
    "        dist = [prob_of_pref[i]*prob_of_query[i] for i in 1:length(prob_of_pref)]\n",
    "        normalized_dist = dist/sum(dist)        \n",
    "        return SparseCat(P_obs, normalized_dist)\n",
    "    end\n",
    "end"
   ]
  },
  {
   "cell_type": "code",
   "execution_count": 11,
   "metadata": {},
   "outputs": [],
   "source": [
    "# define POMDP\n",
    "abstract type MyPOMDP <: POMDP{State, Action, Observation} end\n",
    "pomdp = QuickPOMDP(MyPOMDP,\n",
    "    states       = S,\n",
    "    actions      = A,\n",
    "    observations = omega,\n",
    "    transition   = T,\n",
    "    observation  = O,\n",
    "    reward       = R,\n",
    "    discount     = params.y,\n",
    "    initialstate = S);"
   ]
  },
  {
   "cell_type": "code",
   "execution_count": 12,
   "metadata": {},
   "outputs": [
    {
     "name": "stdout",
     "output_type": "stream",
     "text": [
      "s = State([10, 0, 0, 0], Array{Real}[[0.25, 0.25, 0.25, 0.25], [1.0, 0.0, 0.0, 0.0], [0.5, 0.5, 0.0, 0.0]], [0.1, 10.0])\n",
      "a = B1\n",
      "r = 0\n",
      "o = Observation(false, -1, Preference(3, 4, 1))\n",
      "\n",
      "s = State([10, 0, 0, 0], Array{Real}[[0.25, 0.25, 0.25, 0.25], [1.0, 0.0, 0.0, 0.0], [0.5, 0.5, 0.0, 0.0]], [0.1, 10.0])\n",
      "a = B1\n",
      "r = 0\n",
      "o = Observation(false, -1, Preference(3, 3, 1))\n",
      "\n",
      "s = State([10, 0, 0, 0], Array{Real}[[0.25, 0.25, 0.25, 0.25], [1.0, 0.0, 0.0, 0.0], [0.5, 0.5, 0.0, 0.0]], [0.1, 10.0])\n",
      "a = C1\n",
      "r = 2.5\n",
      "o = Observation(true, 1, Preference(-1, -1, -1))\n",
      "\n"
     ]
    }
   ],
   "source": [
    "policy = RandomPolicy(pomdp)\n",
    "\n",
    "for (s,a,r,o) in stepthrough(pomdp, policy, \"s,a,r,o\", max_steps=3)\n",
    "    @show s\n",
    "    @show a\n",
    "    @show r\n",
    "    @show o\n",
    "    println()\n",
    "end"
   ]
  },
  {
   "cell_type": "code",
   "execution_count": 34,
   "metadata": {},
   "outputs": [
    {
     "name": "stdout",
     "output_type": "stream",
     "text": [
      "  0.000148 seconds (686 allocations: 21.000 KiB)\n",
      "iter: 1\n",
      "val: 2.5\n",
      "\n",
      "  0.000284 seconds (5.38 k allocations: 133.641 KiB)\n",
      "iter: 10\n",
      "val: 50.3125\n",
      "\n",
      "  0.002335 seconds (52.27 k allocations: 1.231 MiB)\n",
      "iter: 100\n",
      "val: 528.4375\n",
      "\n",
      "  0.023482 seconds (521.16 k allocations: 12.231 MiB)\n",
      "iter: 1000\n",
      "val: 5309.6875\n",
      "\n",
      "  0.247882 seconds (5.21 M allocations: 122.231 MiB, 7.21% gc time)\n",
      "iter: 10000\n",
      "val: 53122.1875\n",
      "\n",
      "  2.596224 seconds (52.10 M allocations: 1.194 GiB, 10.85% gc time)\n",
      "iter: 100000\n",
      "val: 531247.1875\n",
      "\n",
      " 24.195165 seconds (521.00 M allocations: 11.936 GiB, 9.44% gc time)\n",
      "iter: 1000000\n",
      "val: 5.3124971875e6\n",
      "\n",
      "239.952611 seconds (5.21 G allocations: 119.358 GiB, 9.47% gc time)\n",
      "iter: 10000000\n",
      "val: 5.31249971875e7\n",
      "\n",
      "done\n"
     ]
    }
   ],
   "source": [
    "for iter in [1, 10, 100, 1000, 10000, 100000, 1000000, 10000000]\n",
    "    \n",
    "    @time begin\n",
    "        solver = QMDPSolver(max_iterations=iter);\n",
    "        policy = solve(solver, pomdp)\n",
    "        val = value(policy, b)\n",
    "    end\n",
    "    \n",
    "    println(\"iter: \", iter)\n",
    "    println(\"val: \", val,\"\\n\")\n",
    "end\n",
    "\n",
    "println(\"done\")"
   ]
  },
  {
   "cell_type": "code",
   "execution_count": null,
   "metadata": {},
   "outputs": [],
   "source": []
  }
 ],
 "metadata": {
  "kernelspec": {
   "display_name": "Julia 1.7.3",
   "language": "julia",
   "name": "julia-1.7"
  },
  "language_info": {
   "file_extension": ".jl",
   "mimetype": "application/julia",
   "name": "julia",
   "version": "1.7.3"
  }
 },
 "nbformat": 4,
 "nbformat_minor": 2
}
