{
 "cells": [
  {
   "cell_type": "code",
   "execution_count": 1,
   "id": "b5a76b74",
   "metadata": {},
   "outputs": [],
   "source": [
    "using Serialization, ParticleFilters, JSON\n",
    "\n",
    "struct State\n",
    "    t::Int                    # timesteps remaining\n",
    "    u::Array{Float64}         # list of N utility values for N items\n",
    "    d::Array{Array{Float64}}  # list of K arm distributions, each assigning probabilities to N items\n",
    "    b::Array{Float64}         # list of M beta values\n",
    "end"
   ]
  },
  {
   "cell_type": "code",
   "execution_count": 2,
   "id": "23652602",
   "metadata": {},
   "outputs": [],
   "source": [
    "# ai: active infinite\n",
    "ids_ai = [\"active_infinite_23422_131424\", \"active_infinite_23419_153324\", \"active_infinite_23419_154231\", \"active_infinite_23419_155139\", \"active_infinite_23419_160549\", \"active_infinite_23419_161648\", \"active_infinite_23419_162359\", \"active_infinite_23419_163115\", \"active_infinite_23419_16401\", \"active_infinite_23419_164925\", \"active_infinite_23419_17049\", \"active_infinite_23419_171313\", \"active_infinite_23419_172230\", \"active_infinite_23419_172929\", \"active_infinite_23419_17394\", \"active_infinite_23419_174759\", \"active_infinite_23419_180013\", \"active_infinite_23419_181126\", \"active_infinite_23419_182029\", \"active_infinite_23419_183010\"]\n",
    "ids_ai = ids_ai[1:2]\n",
    "\n",
    "# af: active finite\n",
    "ids_af = [\"active_finite_23419_214856\", \"active_finite_23419_22017\", \"active_finite_23419_22124\", \"active_finite_23419_222216\", \"active_finite_23419_223627\", \"active_finite_23419_22505\", \"active_finite_23419_230052\", \"active_finite_23419_230927\", \"active_finite_23419_232011\", \"active_finite_23419_233116\", \"active_finite_23419_23426\", \"active_finite_23419_235054\", \"active_finite_23420_000135\", \"active_finite_23420_001238\", \"active_finite_23420_002515\", \"active_finite_23420_004012\", \"active_finite_23420_00540\", \"active_finite_23420_010552\", \"active_finite_23420_011651\", \"active_finite_23420_012749\"]\n",
    "ids_af = ids_af[1:2]\n",
    "\n",
    "# pi: passive infinite\n",
    "ids_pi = [\"passive_infinite_23419_183940\", \"passive_infinite_23419_184948\", \"passive_infinite_23419_18573\", \"passive_infinite_23419_191144\", \"passive_infinite_23419_193217\", \"passive_infinite_23419_194023\", \"passive_infinite_23419_194838\", \"passive_infinite_23419_195741\", \"passive_infinite_23419_200444\", \"passive_infinite_23419_201343\", \"passive_infinite_23419_202155\", \"passive_infinite_23419_203025\", \"passive_infinite_23419_203934\", \"passive_infinite_23419_205227\", \"passive_infinite_23419_205917\", \"passive_infinite_23419_210814\", \"passive_infinite_23419_211748\", \"passive_infinite_23419_21258\", \"passive_infinite_23419_213346\", \"passive_infinite_23419_214029\"]\n",
    "ids_pi = ids_pi[1:2]\n",
    "\n",
    "# pf: passive finite\n",
    "ids_pf = [\"passive_finite_23422_141255\", \"passive_finite_23422_142713\", \"passive_finite_23422_143917\", \"passive_finite_23422_145237\", \"passive_finite_23422_150344\", \"passive_finite_23422_151540\", \"passive_finite_23422_152710\", \"passive_finite_23422_153914\", \"passive_finite_23422_155019\", \"passive_finite_23422_16003\", \"passive_finite_23422_161248\", \"passive_finite_23422_162128\", \"passive_finite_23422_163156\", \"passive_finite_23422_164250\", \"passive_finite_23422_165540\", \"passive_finite_23422_17041\", \"passive_finite_23422_17148\", \"passive_finite_23422_172518\", \"passive_finite_23422_173548\", \"passive_finite_23422_174423\"]\n",
    "ids_pf = ids_pf[1:2]\n",
    "\n",
    "# n50: naive w/50 exploration steps\n",
    "ids_n50 = [\"naive_50_23420_013912\", \"naive_50_23420_013928\", \"naive_50_23420_013944\", \"naive_50_23420_01401\", \"naive_50_23420_014017\", \"naive_50_23420_014034\", \"naive_50_23420_014050\", \"naive_50_23420_01417\", \"naive_50_23420_014123\", \"naive_50_23420_014139\", \"naive_50_23420_014156\", \"naive_50_23420_014213\", \"naive_50_23420_014230\", \"naive_50_23420_014247\", \"naive_50_23420_01433\", \"naive_50_23420_014320\", \"naive_50_23420_014336\", \"naive_50_23420_014352\", \"naive_50_23420_01448\", \"naive_50_23420_014424\"]\n",
    "\n",
    "# n100: naive w/100 exploration steps\n",
    "ids_n100 = [\"naive_100_23420_014440\", \"naive_100_23420_014457\", \"naive_100_23420_014513\", \"naive_100_23420_014529\", \"naive_100_23420_014545\", \"naive_100_23420_01462\", \"naive_100_23420_014618\", \"naive_100_23420_014634\", \"naive_100_23420_014650\", \"naive_100_23420_01476\", \"naive_100_23420_014722\", \"naive_100_23420_014739\", \"naive_100_23420_014755\", \"naive_100_23420_014811\", \"naive_100_23420_014827\", \"naive_100_23420_014843\", \"naive_100_23420_01490\", \"naive_100_23420_014916\", \"naive_100_23420_014932\", \"naive_100_23420_014948\"]\n",
    "\n",
    "# n200: naive w/200 exploration steps\n",
    "ids_n200 = [\"naive_200_23420_01504\", \"naive_200_23420_015021\", \"naive_200_23420_015037\", \"naive_200_23420_015053\", \"naive_200_23420_01519\", \"naive_200_23420_015125\", \"naive_200_23420_015142\", \"naive_200_23420_015158\", \"naive_200_23420_015215\", \"naive_200_23420_015231\", \"naive_200_23420_015247\", \"naive_200_23420_01534\", \"naive_200_23420_015320\", \"naive_200_23420_015336\", \"naive_200_23420_015352\", \"naive_200_23420_01549\", \"naive_200_23420_015425\", \"naive_200_23420_015441\", \"naive_200_23420_015457\", \"naive_200_23420_015514\"]\n",
    "\n",
    "# ra: random arms\n",
    "ids_ra = [\"arms_23420_015531\", \"arms_23420_015549\", \"arms_23420_01568\", \"arms_23420_015626\", \"arms_23420_015645\", \"arms_23420_01573\", \"arms_23420_015722\", \"arms_23420_015740\", \"arms_23420_015759\", \"arms_23420_015817\", \"arms_23420_015835\", \"arms_23420_015854\", \"arms_23420_015912\", \"arms_23420_015931\", \"arms_23420_015949\", \"arms_23420_02007\", \"arms_23420_020026\", \"arms_23420_020044\", \"arms_23420_02013\", \"arms_23420_020121\"]\n",
    "\n",
    "# rr: random\n",
    "ids_rr = [\"random_23422_175947\", \"random_23422_18006\", \"random_23422_180025\", \"random_23422_180044\", \"random_23422_18014\", \"random_23422_180122\", \"random_23422_180141\", \"random_23422_180159\", \"random_23422_180218\", \"random_23422_180237\", \"random_23422_180256\", \"random_23422_180315\", \"random_23422_180334\", \"random_23422_180353\", \"random_23422_180412\", \"random_23422_180431\", \"random_23422_180450\", \"random_23422_18058\", \"random_23422_180527\", \"random_23422_180547\"]\n",
    ";"
   ]
  },
  {
   "cell_type": "code",
   "execution_count": 15,
   "id": "cb8e1f5b",
   "metadata": {},
   "outputs": [
    {
     "data": {
      "text/plain": [
       "write_to_json (generic function with 1 method)"
      ]
     },
     "execution_count": 15,
     "metadata": {},
     "output_type": "execute_result"
    }
   ],
   "source": [
    "function write_to_json(b::Dict{String, Matrix{Array{ParticleCollection{State}}}}; runs=25, test=False)\n",
    "    for id in keys(b)\n",
    "        id_dict = Vector{Vector{Dict{State, Float64}}}(undef, runs)\n",
    "        for i in 1:runs\n",
    "            result = map(ParticleFilters.probdict, b[id][i])\n",
    "            id_dict[i] = result\n",
    "        end\n",
    "        json_str = JSON.json(id_dict)\n",
    "        if test\n",
    "            id = \"test\"\n",
    "        end\n",
    "        open(\"../data/beliefs/\"*id*\".json\", \"w\") do f \n",
    "            write(f, json_str) \n",
    "        end\n",
    "        println(\"wrote \"*id*\".json\")\n",
    "    end\n",
    "end"
   ]
  },
  {
   "cell_type": "code",
   "execution_count": 16,
   "id": "0ca77106",
   "metadata": {},
   "outputs": [
    {
     "name": "stdout",
     "output_type": "stream",
     "text": [
      "beginning test\n"
     ]
    },
    {
     "ename": "LoadError",
     "evalue": "InterruptException:",
     "output_type": "error",
     "traceback": [
      "InterruptException:",
      "",
      "Stacktrace:",
      "  [1] deserialize(s::Serializer{IOStream}, t::DataType)",
      "    @ Serialization /Applications/Julia-1.8.app/Contents/Resources/julia/share/julia/stdlib/v1.8/Serialization/src/Serialization.jl:1485",
      "  [2] handle_deserialize(s::Serializer{IOStream}, b::Int32)",
      "    @ Serialization /Applications/Julia-1.8.app/Contents/Resources/julia/share/julia/stdlib/v1.8/Serialization/src/Serialization.jl:877",
      "  [3] deserialize_fillarray!(A::Vector{State}, s::Serializer{IOStream})",
      "    @ Serialization /Applications/Julia-1.8.app/Contents/Resources/julia/share/julia/stdlib/v1.8/Serialization/src/Serialization.jl:1256",
      "  [4] deserialize_array(s::Serializer{IOStream})",
      "    @ Serialization /Applications/Julia-1.8.app/Contents/Resources/julia/share/julia/stdlib/v1.8/Serialization/src/Serialization.jl:1248",
      "  [5] handle_deserialize(s::Serializer{IOStream}, b::Int32)",
      "    @ Serialization /Applications/Julia-1.8.app/Contents/Resources/julia/share/julia/stdlib/v1.8/Serialization/src/Serialization.jl:864",
      "  [6] deserialize(s::Serializer{IOStream}, t::DataType)",
      "    @ Serialization /Applications/Julia-1.8.app/Contents/Resources/julia/share/julia/stdlib/v1.8/Serialization/src/Serialization.jl:1467",
      "  [7] handle_deserialize(s::Serializer{IOStream}, b::Int32)",
      "    @ Serialization /Applications/Julia-1.8.app/Contents/Resources/julia/share/julia/stdlib/v1.8/Serialization/src/Serialization.jl:882",
      "  [8] deserialize_fillarray!(A::Vector{ParticleCollection{State}}, s::Serializer{IOStream})",
      "    @ Serialization /Applications/Julia-1.8.app/Contents/Resources/julia/share/julia/stdlib/v1.8/Serialization/src/Serialization.jl:1256",
      "  [9] deserialize_array(s::Serializer{IOStream})",
      "    @ Serialization /Applications/Julia-1.8.app/Contents/Resources/julia/share/julia/stdlib/v1.8/Serialization/src/Serialization.jl:1248",
      " [10] handle_deserialize(s::Serializer{IOStream}, b::Int32)",
      "    @ Serialization /Applications/Julia-1.8.app/Contents/Resources/julia/share/julia/stdlib/v1.8/Serialization/src/Serialization.jl:864",
      " [11] deserialize_fillarray!(A::Matrix{Array{ParticleCollection{State}}}, s::Serializer{IOStream})",
      "    @ Serialization /Applications/Julia-1.8.app/Contents/Resources/julia/share/julia/stdlib/v1.8/Serialization/src/Serialization.jl:1256",
      " [12] deserialize_array(s::Serializer{IOStream})",
      "    @ Serialization /Applications/Julia-1.8.app/Contents/Resources/julia/share/julia/stdlib/v1.8/Serialization/src/Serialization.jl:1248",
      " [13] handle_deserialize(s::Serializer{IOStream}, b::Int32)",
      "    @ Serialization /Applications/Julia-1.8.app/Contents/Resources/julia/share/julia/stdlib/v1.8/Serialization/src/Serialization.jl:864",
      " [14] deserialize(s::Serializer{IOStream})",
      "    @ Serialization /Applications/Julia-1.8.app/Contents/Resources/julia/share/julia/stdlib/v1.8/Serialization/src/Serialization.jl:813",
      " [15] handle_deserialize(s::Serializer{IOStream}, b::Int32)",
      "    @ Serialization /Applications/Julia-1.8.app/Contents/Resources/julia/share/julia/stdlib/v1.8/Serialization/src/Serialization.jl:919",
      " [16] deserialize",
      "    @ /Applications/Julia-1.8.app/Contents/Resources/julia/share/julia/stdlib/v1.8/Serialization/src/Serialization.jl:813 [inlined]",
      " [17] deserialize(s::IOStream)",
      "    @ Serialization /Applications/Julia-1.8.app/Contents/Resources/julia/share/julia/stdlib/v1.8/Serialization/src/Serialization.jl:800",
      " [18] macro expansion",
      "    @ ./In[16]:7 [inlined]",
      " [19] top-level scope",
      "    @ ./timing.jl:262 [inlined]",
      " [20] top-level scope",
      "    @ ./In[16]:0",
      " [21] eval",
      "    @ ./boot.jl:368 [inlined]",
      " [22] include_string(mapexpr::typeof(REPL.softscope), mod::Module, code::String, filename::String)",
      "    @ Base ./loading.jl:1428"
     ]
    }
   ],
   "source": [
    "println(\"beginning test\")\n",
    "\n",
    "@time begin\n",
    "    ids = [\"active_infinite_23422_131424\"]\n",
    "    beliefs_ai = Dict{String, Matrix{Array{ParticleCollection{State}}}}()\n",
    "    for id in ids\n",
    "        beliefs_ai[id] = deserialize(open(\"../beliefs/\"*id*\"_belief.txt\", \"r\"))\n",
    "        println(\"deserialized \", id)\n",
    "    end\n",
    "    write_to_json(beliefs_ai, test=true)\n",
    "end"
   ]
  },
  {
   "cell_type": "code",
   "execution_count": 4,
   "id": "36650b4f",
   "metadata": {},
   "outputs": [
    {
     "name": "stdout",
     "output_type": "stream",
     "text": [
      "999.247694 seconds (13.20 G allocations: 643.796 GiB, 5.57% gc time, 0.01% compilation time)\n"
     ]
    }
   ],
   "source": [
    "# deserialize stored belief as as a dict of ids:list(runs,steps) where each element is a ParticleCollection{State}\n",
    "# takes 8-9min PER ID (at least for 1 & 2 ids) - est 225m/4h per experiment\n",
    "@time begin\n",
    "    beliefs_ai = Dict{String, Matrix{Array{ParticleCollection{State}}}}()\n",
    "    for id in ids_ai\n",
    "        beliefs_ai[id] = deserialize(open(\"../beliefs/\"*id*\"_belief.txt\", \"r\"))\n",
    "    end\n",
    "end\n",
    ";"
   ]
  },
  {
   "cell_type": "code",
   "execution_count": 5,
   "id": "c4a038da",
   "metadata": {},
   "outputs": [
    {
     "name": "stdout",
     "output_type": "stream",
     "text": [
      "wrote active_infinite_23422_131424.json\n",
      "wrote active_infinite_23419_153324.json\n",
      " 23.813160 seconds (18.78 M allocations: 3.231 GiB, 2.33% compilation time)\n"
     ]
    }
   ],
   "source": [
    "@time begin\n",
    "    write_to_json(beliefs_ai, runs=2)\n",
    "end"
   ]
  },
  {
   "cell_type": "code",
   "execution_count": 6,
   "id": "5ec6bc68",
   "metadata": {},
   "outputs": [
    {
     "name": "stdout",
     "output_type": "stream",
     "text": [
      "1002.169088 seconds (13.18 G allocations: 643.445 GiB, 5.68% gc time)\n"
     ]
    }
   ],
   "source": [
    "# takes 8-9min PER ID (at least for 1 & 2 ids) - est 225m/4h per experiment\n",
    "@time begin\n",
    "    beliefs_pi = Dict{String, Matrix{Array{ParticleCollection{State}}}}()\n",
    "    for id in ids_pi\n",
    "        beliefs_pi[id] = deserialize(open(\"../beliefs/\"*id*\"_belief.txt\", \"r\"))\n",
    "    end\n",
    "end\n",
    "# each is matrix of (25 runs, 1000 steps)\n",
    "# each distribution is a ParticleCollection{State}\n",
    ";"
   ]
  },
  {
   "cell_type": "code",
   "execution_count": 7,
   "id": "0e68ed6f",
   "metadata": {},
   "outputs": [
    {
     "name": "stdout",
     "output_type": "stream",
     "text": [
      "wrote passive_infinite_23419_183940.json\n",
      "wrote passive_infinite_23419_184948.json\n",
      "142.948095 seconds (114.85 M allocations: 21.674 GiB, 0.78% gc time)\n"
     ]
    }
   ],
   "source": [
    "@time begin\n",
    "    write_to_json(beliefs_pi, runs=2)\n",
    "end"
   ]
  },
  {
   "cell_type": "code",
   "execution_count": 8,
   "id": "fd480e6a",
   "metadata": {},
   "outputs": [
    {
     "ename": "LoadError",
     "evalue": "InterruptException:",
     "output_type": "error",
     "traceback": [
      "InterruptException:",
      "",
      "Stacktrace:",
      "  [1] deserialize(s::Serializer{IOStream}, t::DataType)",
      "    @ Serialization /Applications/Julia-1.8.app/Contents/Resources/julia/share/julia/stdlib/v1.8/Serialization/src/Serialization.jl:1485",
      "  [2] handle_deserialize(s::Serializer{IOStream}, b::Int32)",
      "    @ Serialization /Applications/Julia-1.8.app/Contents/Resources/julia/share/julia/stdlib/v1.8/Serialization/src/Serialization.jl:877",
      "  [3] deserialize_fillarray!(A::Vector{State}, s::Serializer{IOStream})",
      "    @ Serialization /Applications/Julia-1.8.app/Contents/Resources/julia/share/julia/stdlib/v1.8/Serialization/src/Serialization.jl:1256",
      "  [4] deserialize_array(s::Serializer{IOStream})",
      "    @ Serialization /Applications/Julia-1.8.app/Contents/Resources/julia/share/julia/stdlib/v1.8/Serialization/src/Serialization.jl:1248",
      "  [5] handle_deserialize(s::Serializer{IOStream}, b::Int32)",
      "    @ Serialization /Applications/Julia-1.8.app/Contents/Resources/julia/share/julia/stdlib/v1.8/Serialization/src/Serialization.jl:864",
      "  [6] deserialize(s::Serializer{IOStream}, t::DataType)",
      "    @ Serialization /Applications/Julia-1.8.app/Contents/Resources/julia/share/julia/stdlib/v1.8/Serialization/src/Serialization.jl:1467",
      "  [7] handle_deserialize(s::Serializer{IOStream}, b::Int32)",
      "    @ Serialization /Applications/Julia-1.8.app/Contents/Resources/julia/share/julia/stdlib/v1.8/Serialization/src/Serialization.jl:882",
      "  [8] deserialize_fillarray!(A::Vector{ParticleCollection{State}}, s::Serializer{IOStream})",
      "    @ Serialization /Applications/Julia-1.8.app/Contents/Resources/julia/share/julia/stdlib/v1.8/Serialization/src/Serialization.jl:1256",
      "  [9] deserialize_array(s::Serializer{IOStream})",
      "    @ Serialization /Applications/Julia-1.8.app/Contents/Resources/julia/share/julia/stdlib/v1.8/Serialization/src/Serialization.jl:1248",
      " [10] handle_deserialize(s::Serializer{IOStream}, b::Int32)",
      "    @ Serialization /Applications/Julia-1.8.app/Contents/Resources/julia/share/julia/stdlib/v1.8/Serialization/src/Serialization.jl:864",
      " [11] deserialize_fillarray!(A::Matrix{Array{ParticleCollection{State}}}, s::Serializer{IOStream})",
      "    @ Serialization /Applications/Julia-1.8.app/Contents/Resources/julia/share/julia/stdlib/v1.8/Serialization/src/Serialization.jl:1256",
      " [12] deserialize_array(s::Serializer{IOStream})",
      "    @ Serialization /Applications/Julia-1.8.app/Contents/Resources/julia/share/julia/stdlib/v1.8/Serialization/src/Serialization.jl:1248",
      " [13] handle_deserialize(s::Serializer{IOStream}, b::Int32)",
      "    @ Serialization /Applications/Julia-1.8.app/Contents/Resources/julia/share/julia/stdlib/v1.8/Serialization/src/Serialization.jl:864",
      " [14] deserialize(s::Serializer{IOStream})",
      "    @ Serialization /Applications/Julia-1.8.app/Contents/Resources/julia/share/julia/stdlib/v1.8/Serialization/src/Serialization.jl:813",
      " [15] handle_deserialize(s::Serializer{IOStream}, b::Int32)",
      "    @ Serialization /Applications/Julia-1.8.app/Contents/Resources/julia/share/julia/stdlib/v1.8/Serialization/src/Serialization.jl:919",
      " [16] deserialize",
      "    @ /Applications/Julia-1.8.app/Contents/Resources/julia/share/julia/stdlib/v1.8/Serialization/src/Serialization.jl:813 [inlined]",
      " [17] deserialize(s::IOStream)",
      "    @ Serialization /Applications/Julia-1.8.app/Contents/Resources/julia/share/julia/stdlib/v1.8/Serialization/src/Serialization.jl:800",
      " [18] macro expansion",
      "    @ ./In[8]:5 [inlined]",
      " [19] top-level scope",
      "    @ ./timing.jl:262 [inlined]",
      " [20] top-level scope",
      "    @ ./In[8]:0",
      " [21] eval",
      "    @ ./boot.jl:368 [inlined]",
      " [22] include_string(mapexpr::typeof(REPL.softscope), mod::Module, code::String, filename::String)",
      "    @ Base ./loading.jl:1428"
     ]
    }
   ],
   "source": [
    "# takes 8-9min PER ID (at least for 1 & 2 ids) - est 225m/4h per experiment\n",
    "@time begin\n",
    "    beliefs_af = Dict{String, Matrix{Array{ParticleCollection{State}}}}()\n",
    "    for id in ids_af\n",
    "        beliefs_af[id] = deserialize(open(\"../beliefs/\"*id*\"_belief.txt\", \"r\"))\n",
    "    end\n",
    "end\n",
    "# each is matrix of (25 runs, 1000 steps)\n",
    "# each distribution is a ParticleCollection{State}\n",
    ";"
   ]
  },
  {
   "cell_type": "code",
   "execution_count": 9,
   "id": "dbc2eade",
   "metadata": {},
   "outputs": [
    {
     "name": "stdout",
     "output_type": "stream",
     "text": [
      "  0.000001 seconds\n"
     ]
    }
   ],
   "source": [
    "@time begin\n",
    "    write_to_json(beliefs_af, runs=2)\n",
    "end"
   ]
  },
  {
   "cell_type": "code",
   "execution_count": 10,
   "id": "61fec731",
   "metadata": {},
   "outputs": [
    {
     "ename": "LoadError",
     "evalue": "InterruptException:",
     "output_type": "error",
     "traceback": [
      "InterruptException:",
      "",
      "Stacktrace:",
      "  [1] deserialize_fillarray!(A::Vector{State}, s::Serializer{IOStream})",
      "    @ Serialization /Applications/Julia-1.8.app/Contents/Resources/julia/share/julia/stdlib/v1.8/Serialization/src/Serialization.jl:1256",
      "  [2] deserialize_array(s::Serializer{IOStream})",
      "    @ Serialization /Applications/Julia-1.8.app/Contents/Resources/julia/share/julia/stdlib/v1.8/Serialization/src/Serialization.jl:1248",
      "  [3] handle_deserialize(s::Serializer{IOStream}, b::Int32)",
      "    @ Serialization /Applications/Julia-1.8.app/Contents/Resources/julia/share/julia/stdlib/v1.8/Serialization/src/Serialization.jl:864",
      "  [4] deserialize(s::Serializer{IOStream}, t::DataType)",
      "    @ Serialization /Applications/Julia-1.8.app/Contents/Resources/julia/share/julia/stdlib/v1.8/Serialization/src/Serialization.jl:1467",
      "  [5] handle_deserialize(s::Serializer{IOStream}, b::Int32)",
      "    @ Serialization /Applications/Julia-1.8.app/Contents/Resources/julia/share/julia/stdlib/v1.8/Serialization/src/Serialization.jl:882",
      "  [6] deserialize_fillarray!(A::Vector{ParticleCollection{State}}, s::Serializer{IOStream})",
      "    @ Serialization /Applications/Julia-1.8.app/Contents/Resources/julia/share/julia/stdlib/v1.8/Serialization/src/Serialization.jl:1256",
      "  [7] deserialize_array(s::Serializer{IOStream})",
      "    @ Serialization /Applications/Julia-1.8.app/Contents/Resources/julia/share/julia/stdlib/v1.8/Serialization/src/Serialization.jl:1248",
      "  [8] handle_deserialize(s::Serializer{IOStream}, b::Int32)",
      "    @ Serialization /Applications/Julia-1.8.app/Contents/Resources/julia/share/julia/stdlib/v1.8/Serialization/src/Serialization.jl:864",
      "  [9] deserialize_fillarray!(A::Matrix{Array{ParticleCollection{State}}}, s::Serializer{IOStream})",
      "    @ Serialization /Applications/Julia-1.8.app/Contents/Resources/julia/share/julia/stdlib/v1.8/Serialization/src/Serialization.jl:1256",
      " [10] deserialize_array(s::Serializer{IOStream})",
      "    @ Serialization /Applications/Julia-1.8.app/Contents/Resources/julia/share/julia/stdlib/v1.8/Serialization/src/Serialization.jl:1248",
      " [11] handle_deserialize(s::Serializer{IOStream}, b::Int32)",
      "    @ Serialization /Applications/Julia-1.8.app/Contents/Resources/julia/share/julia/stdlib/v1.8/Serialization/src/Serialization.jl:864",
      " [12] deserialize(s::Serializer{IOStream})",
      "    @ Serialization /Applications/Julia-1.8.app/Contents/Resources/julia/share/julia/stdlib/v1.8/Serialization/src/Serialization.jl:813",
      " [13] handle_deserialize(s::Serializer{IOStream}, b::Int32)",
      "    @ Serialization /Applications/Julia-1.8.app/Contents/Resources/julia/share/julia/stdlib/v1.8/Serialization/src/Serialization.jl:919",
      " [14] deserialize",
      "    @ /Applications/Julia-1.8.app/Contents/Resources/julia/share/julia/stdlib/v1.8/Serialization/src/Serialization.jl:813 [inlined]",
      " [15] deserialize(s::IOStream)",
      "    @ Serialization /Applications/Julia-1.8.app/Contents/Resources/julia/share/julia/stdlib/v1.8/Serialization/src/Serialization.jl:800",
      " [16] macro expansion",
      "    @ ./In[10]:5 [inlined]",
      " [17] top-level scope",
      "    @ ./timing.jl:262 [inlined]",
      " [18] top-level scope",
      "    @ ./In[10]:0",
      " [19] eval",
      "    @ ./boot.jl:368 [inlined]",
      " [20] include_string(mapexpr::typeof(REPL.softscope), mod::Module, code::String, filename::String)",
      "    @ Base ./loading.jl:1428"
     ]
    }
   ],
   "source": [
    "# takes 8-9min PER ID (at least for 1 & 2 ids) - est 225m/4h per experiment\n",
    "@time begin\n",
    "    beliefs_pf = Dict{String, Matrix{Array{ParticleCollection{State}}}}()\n",
    "    for id in ids_pf\n",
    "        beliefs_pf[id] = deserialize(open(\"../beliefs/\"*id*\"_belief.txt\", \"r\"))\n",
    "    end\n",
    "end\n",
    "# each is matrix of (25 runs, 1000 steps)\n",
    "# each distribution is a ParticleCollection{State}\n",
    ";"
   ]
  },
  {
   "cell_type": "code",
   "execution_count": 11,
   "id": "388ec17d",
   "metadata": {},
   "outputs": [
    {
     "name": "stdout",
     "output_type": "stream",
     "text": [
      "  0.000009 seconds\n"
     ]
    }
   ],
   "source": [
    "@time begin\n",
    "    write_to_json(beliefs_pf, runs=2)\n",
    "end"
   ]
  },
  {
   "cell_type": "code",
   "execution_count": 12,
   "id": "31b0f3ac",
   "metadata": {},
   "outputs": [
    {
     "ename": "LoadError",
     "evalue": "UndefRefError: access to undefined reference",
     "output_type": "error",
     "traceback": [
      "UndefRefError: access to undefined reference",
      "",
      "Stacktrace:",
      " [1] getindex(A::Vector{Vector{Dict{State, Float64}}}, i1::Int64)",
      "   @ Base ./array.jl:924",
      " [2] top-level scope",
      "   @ ./In[12]:7",
      " [3] eval",
      "   @ ./boot.jl:368 [inlined]",
      " [4] include_string(mapexpr::typeof(REPL.softscope), mod::Module, code::String, filename::String)",
      "   @ Base ./loading.jl:1428"
     ]
    }
   ],
   "source": [
    "# convert to (25, 1000) State:Float64 dicts\n",
    "runs = 25\n",
    "b = \n",
    "\n",
    "b_dicts = Vector{Vector{Dict{State, Float64}}}(undef, runs)\n",
    "for i in 1:runs\n",
    "    result = map(ParticleFilters.probdict, b[i])\n",
    "    b_dicts[i] = result\n",
    "end"
   ]
  },
  {
   "cell_type": "code",
   "execution_count": 13,
   "id": "a4e13d89",
   "metadata": {},
   "outputs": [
    {
     "name": "stdout",
     "output_type": "stream",
     "text": [
      "  0.000001 seconds\n"
     ]
    }
   ],
   "source": [
    "@time begin\n",
    "    write_to_json(beliefs_pf, runs=2)\n",
    "end"
   ]
  },
  {
   "cell_type": "code",
   "execution_count": null,
   "id": "82e9af45",
   "metadata": {},
   "outputs": [],
   "source": []
  }
 ],
 "metadata": {
  "kernelspec": {
   "display_name": "Julia 1.8.1",
   "language": "julia",
   "name": "julia-1.8"
  },
  "language_info": {
   "file_extension": ".jl",
   "mimetype": "application/julia",
   "name": "julia",
   "version": "1.8.1"
  }
 },
 "nbformat": 4,
 "nbformat_minor": 5
}
