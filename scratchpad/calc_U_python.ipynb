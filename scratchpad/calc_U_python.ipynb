{
 "cells": [
  {
   "cell_type": "code",
   "execution_count": 1,
   "id": "743e2f5b",
   "metadata": {},
   "outputs": [],
   "source": [
    "import numpy as np\n",
    "import math"
   ]
  },
  {
   "cell_type": "code",
   "execution_count": 2,
   "id": "33c8b1f5",
   "metadata": {},
   "outputs": [],
   "source": [
    "# problem parameters\n",
    "probs1 = np.asarray([0.2, 0.4, 0.4])\n",
    "probs2 = np.asarray([0.1, 0.9, 0])\n",
    "probs3 = np.asarray([0.6, 0.1, 0.3])\n",
    "arm_dists = np.asarray([probs1, probs2, probs3])\n",
    "\n",
    "b_vals = np.asarray([0.1, 10.])\n",
    "u = np.asarray([10, 0, 4])\n",
    "umax = max(u)"
   ]
  },
  {
   "cell_type": "code",
   "execution_count": 3,
   "id": "fe656de7",
   "metadata": {},
   "outputs": [],
   "source": [
    "# define\n",
    "def select_arm(num_arms):\n",
    "    return np.random.randint(num_arms)\n",
    "\n",
    "def select_teacher(num_teachers):\n",
    "    return np.random.randint(num_teachers)\n",
    "\n",
    "def select_query(num_items):\n",
    "    i0, i1 = np.random.choice(num_items, size=2, replace=False)\n",
    "    if i0 < i1:\n",
    "        return i0, i1   \n",
    "    return i1, i0\n",
    "\n",
    "def try_arm():\n",
    "    return bool(np.random.choice([False, True]))"
   ]
  },
  {
   "cell_type": "code",
   "execution_count": 4,
   "id": "f83ef619",
   "metadata": {},
   "outputs": [],
   "source": [
    "# dynamics of problem\n",
    "def pull_arm(c, arm_dists):\n",
    "    return np.random.choice(3, size=1, p=arm_dists[c])\n",
    "    \n",
    "def query_teacher(b, q, b_vals, u):\n",
    "    p = math.exp(b_vals[b]*u[q[1]])/(math.exp(b_vals[b]*u[q[1]])+math.exp(b_vals[b]*u[q[0]]))\n",
    "    return np.random.binomial(1, p)        "
   ]
  },
  {
   "cell_type": "code",
   "execution_count": 22,
   "id": "e66dfaca",
   "metadata": {},
   "outputs": [],
   "source": [
    "# calculations\n",
    "def calc_deltas(P_hat, b_vals, num_items, teacher):\n",
    "    t = teacher\n",
    "    deltas = np.zeros((num_items, num_items))\n",
    "    for i in range(num_items):\n",
    "        for j in range(i+1, num_items):\n",
    "            deltas[j][i] = calc_delta(P_hat[t][i][j], b_vals[t])\n",
    "            deltas[i][j] = -deltas[j][i]\n",
    "\n",
    "    return deltas\n",
    "\n",
    "def calc_delta(p, b):\n",
    "    return (-1/b)*math.log((1/p)-1)\n",
    "\n",
    "def calc_scaled_vals1(deltas, rmax): \n",
    "    num_items = np.shape(deltas)[0]\n",
    "    rnge = np.amax(deltas)\n",
    "    result = np.where(np.isclose(deltas,rnge))\n",
    "    min_i = result[0][0]\n",
    "    max_i = result[1][0]\n",
    "\n",
    "    true_vals = np.zeros(num_items)\n",
    "    for i in range(num_items):\n",
    "        val = deltas[max_i][i]\n",
    "        true_vals[i] = -val*(rmax/rnge)\n",
    "    return true_vals\n",
    "\n",
    "def calc_scaled_vals2(deltas, rmax, rmin): \n",
    "    num_items = np.shape(deltas)[0]\n",
    "    rnge = np.amax(deltas)\n",
    "    result = np.where(np.isclose(deltas,rnge))\n",
    "    min_i = result[0][0]\n",
    "    max_i = result[1][0]\n",
    "\n",
    "    true_vals = np.zeros(num_items)\n",
    "    for i in range(num_items):\n",
    "        val = deltas[max_i][i]\n",
    "        print(val/np.amin(deltas))\n",
    "        true_vals[i] = rmin+(val/np.amin(deltas))*(rmax-rmin)\n",
    "    return true_vals"
   ]
  },
  {
   "cell_type": "code",
   "execution_count": 36,
   "id": "4b26f0bd",
   "metadata": {},
   "outputs": [
    {
     "name": "stdout",
     "output_type": "stream",
     "text": [
      "1.0\n",
      "-0.0\n",
      "0.7661859021829994\n"
     ]
    },
    {
     "name": "stderr",
     "output_type": "stream",
     "text": [
      "/var/folders/qk/84n2122j7tb80gs6t0zjdj0m0000gn/T/ipykernel_73798/254181735.py:28: RuntimeWarning: invalid value encountered in true_divide\n",
      "  P_hat = teach_query_prefs/count_teach_query_pulls\n"
     ]
    }
   ],
   "source": [
    "# given\n",
    "num_arms = 3\n",
    "num_teachers = 2\n",
    "num_items = 3\n",
    "\n",
    "# init\n",
    "count_arm_pulls = np.zeros((num_arms))\n",
    "count_arm_items = np.zeros((num_arms, num_items))\n",
    "count_teach_query_pulls = np.zeros((num_teachers, num_items, num_items))\n",
    "teach_query_prefs = np.zeros((num_teachers, num_items, num_items))\n",
    "\n",
    "# infer\n",
    "for _ in range(1000): #->infty\n",
    "    if try_arm():\n",
    "        c = select_arm(num_arms)\n",
    "        i = pull_arm(c, arm_dists)\n",
    "        count_arm_pulls[c] += 1\n",
    "        count_arm_items[c][i] += 1\n",
    "    else:\n",
    "        b = select_teacher(num_teachers)\n",
    "        q = select_query(num_items)\n",
    "        p = query_teacher(b, q, b_vals, u)\n",
    "        count_teach_query_pulls[b][q[0]][q[1]] += 1\n",
    "        teach_query_prefs[b][q[0]][q[1]] += p\n",
    "        \n",
    "# calculate\n",
    "D_hat = [[count_arm_items[c][i]/count_arm_pulls[c] for i in range(num_items)] for c in range(num_arms)]\n",
    "P_hat = teach_query_prefs/count_teach_query_pulls\n",
    "deltas = calc_deltas(P_hat, b_vals, num_items, 0)\n",
    "U_hat1 = calc_scaled_vals1(deltas, umax)\n",
    "U_hat2 = calc_scaled_vals2(deltas, umax-2, -2)"
   ]
  },
  {
   "cell_type": "code",
   "execution_count": 37,
   "id": "ab168a38",
   "metadata": {},
   "outputs": [
    {
     "name": "stdout",
     "output_type": "stream",
     "text": [
      "D*:\n",
      "[[0.2 0.4 0.4]\n",
      " [0.1 0.9 0. ]\n",
      " [0.6 0.1 0.3]]\n",
      "\n",
      "D est:\n",
      "[[0.23837209302325582, 0.3953488372093023, 0.36627906976744184], [0.10285714285714286, 0.8971428571428571, 0.0], [0.6580645161290323, 0.05161290322580645, 0.2903225806451613]]\n",
      "\n",
      "U*:\n",
      "[10  0  4]\n",
      "\n",
      "U est 1:\n",
      "[10.         -0.          7.66185902]\n",
      "\n",
      "U est 2:\n",
      "[ 8.         -2.          5.66185902]\n"
     ]
    }
   ],
   "source": [
    "# estimated arm distributions \n",
    "# (num_arms, num_items)\n",
    "print(\"D*:\")\n",
    "print(arm_dists)\n",
    "\n",
    "print(\"\\nD est:\")\n",
    "print(D_hat)\n",
    "\n",
    "print(\"\\nU*:\")\n",
    "print(u)\n",
    "\n",
    "print(\"\\nU est 1:\")\n",
    "print(U_hat1)\n",
    "\n",
    "print(\"\\nU est 2:\")\n",
    "print(U_hat2)"
   ]
  },
  {
   "cell_type": "code",
   "execution_count": 35,
   "id": "cff7a980",
   "metadata": {},
   "outputs": [
    {
     "name": "stdout",
     "output_type": "stream",
     "text": [
      "teacher 0 preferred item 2 to item 1 57.49999999999999 percent of the time\n",
      "\n",
      "deltas:\n",
      "[[  0.          10.57790294   8.75468737]\n",
      " [-10.57790294   0.          -3.01105093]\n",
      " [ -8.75468737   3.01105093   0.        ]]\n"
     ]
    }
   ],
   "source": [
    "# intermediate values\n",
    "t = 0\n",
    "i = 1\n",
    "j = 2\n",
    "P = P_hat[t][i][j]\n",
    "print(\"teacher\", t, \"preferred item\", j, \"to item\", i, round(P,3)*100, \"percent of the time\")\n",
    "\n",
    "# deltas[i][j] = U(i)-U(j)\n",
    "print(\"\\ndeltas:\")\n",
    "print(deltas)"
   ]
  },
  {
   "cell_type": "code",
   "execution_count": 9,
   "id": "e57156a7",
   "metadata": {},
   "outputs": [
    {
     "name": "stdout",
     "output_type": "stream",
     "text": [
      "[[0, 10, 6], [-10, 0, -4], [-6, 4, 0]]\n",
      "[10.  0.  4.]\n",
      "[[0, 5, 6], [-5, 0, -3], [-6, 3, 0]]\n",
      "[10. -5.  0.]\n"
     ]
    }
   ],
   "source": [
    "def generate_deltas(r):\n",
    "    num_items = len(r)\n",
    "    deltas = [[r[i]-r[j] for j in range(num_items)] for i in range(num_items)]\n",
    "    return deltas\n",
    "\n",
    "# [[0, u0-u1, u0-u2], [u1-u0, 0, u1-u2], [u2-u0, u2-u1, 0]]\n",
    "deltas1 = generate_deltas([10, 0, 4])\n",
    "deltas2 = generate_deltas([-1, 1, 1, 1, 15])\n",
    "\n",
    "print(deltas1)\n",
    "print(calc_scaled_vals(deltas1, umax))\n",
    "\n",
    "# instransitive\n",
    "deltas3 = [[0, 5, 6], [-5, 0, -3], [-6, 3, 0]]\n",
    "print(deltas3)\n",
    "print(calc_scaled_vals(deltas3, umax))"
   ]
  },
  {
   "cell_type": "code",
   "execution_count": null,
   "id": "19af7a73",
   "metadata": {},
   "outputs": [],
   "source": []
  }
 ],
 "metadata": {
  "kernelspec": {
   "display_name": "Python 3 (ipykernel)",
   "language": "python",
   "name": "python3"
  },
  "language_info": {
   "codemirror_mode": {
    "name": "ipython",
    "version": 3
   },
   "file_extension": ".py",
   "mimetype": "text/x-python",
   "name": "python",
   "nbconvert_exporter": "python",
   "pygments_lexer": "ipython3",
   "version": "3.9.12"
  }
 },
 "nbformat": 4,
 "nbformat_minor": 5
}
