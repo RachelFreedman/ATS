{
 "cells": [
  {
   "cell_type": "markdown",
   "metadata": {},
   "source": [
    "Approximation to continuous POMDP implemented using `github.com/JuliaPOMDP/QuickPOMDPs.jl` and solved using POMCP with reference to tutorial [here](https://htmlview.glitch.me/?https://github.com/JuliaAcademy/Decision-Making-Under-Uncertainty/blob/master/html/4-Approximate-Methods.jl.html)."
   ]
  },
  {
   "cell_type": "code",
   "execution_count": 2,
   "metadata": {},
   "outputs": [
    {
     "data": {
      "text/plain": [
       "3-element Vector{Float64}:\n",
       " 0.25\n",
       " 0.75\n",
       " 1.0"
      ]
     },
     "execution_count": 2,
     "metadata": {},
     "output_type": "execute_result"
    }
   ],
   "source": [
    "pr = [1, 3, 5]\n",
    "mr = [4, 4, 5]\n",
    "pr./mr"
   ]
  },
  {
   "cell_type": "code",
   "execution_count": 1,
   "metadata": {},
   "outputs": [],
   "source": [
    "using POMDPs, QuickPOMDPs, POMDPModelTools, POMDPPolicies, Parameters, Random, Plots, LinearAlgebra, Serialization\n",
    "using POMDPTools, BasicPOMCP, D3Trees, GridInterpolations, POMCPOW, POMDPModels, Combinatorics, Dates, CSV, ParticleFilters"
   ]
  },
  {
   "cell_type": "code",
   "execution_count": 2,
   "metadata": {},
   "outputs": [
    {
     "data": {
      "text/plain": [
       "\"2333_140736\""
      ]
     },
     "execution_count": 2,
     "metadata": {},
     "output_type": "execute_result"
    }
   ],
   "source": [
    "expID = Dates.format(Dates.now(), \"yymd_HHMMS\")"
   ]
  },
  {
   "cell_type": "code",
   "execution_count": 3,
   "metadata": {},
   "outputs": [
    {
     "data": {
      "text/plain": [
       "log (generic function with 1 method)"
      ]
     },
     "execution_count": 3,
     "metadata": {},
     "output_type": "execute_result"
    }
   ],
   "source": [
    "function log(s::String)\n",
    "    s_time = Dates.format(Dates.now(), \"HH:MM:SS\\t\")*s*\"\\n\"\n",
    "    open(\"./logs/\"*expID*\".txt\", \"a\") do file\n",
    "        write(file, s_time)\n",
    "    end\n",
    "    print(s_time)\n",
    "end"
   ]
  },
  {
   "cell_type": "code",
   "execution_count": 4,
   "metadata": {},
   "outputs": [
    {
     "name": "stdout",
     "output_type": "stream",
     "text": [
      "14:07:36\tRunning experiment with ID 2333_140736\n"
     ]
    }
   ],
   "source": [
    "log(\"Running experiment with ID \"*expID)"
   ]
  },
  {
   "cell_type": "markdown",
   "metadata": {},
   "source": [
    "# Define Problem"
   ]
  },
  {
   "cell_type": "code",
   "execution_count": 5,
   "metadata": {},
   "outputs": [
    {
     "name": "stdout",
     "output_type": "stream",
     "text": [
      "14:07:37\tMyParameters\n",
      "  N: Int64 3\n",
      "  K: Int64 3\n",
      "  M: Int64 3\n",
      "  y: Float64 0.999\n",
      "  umax: Int64 10\n",
      "  u_grain: Int64 3\n",
      "  d_grain: Int64 3\n",
      "  beta: Array{Float64}((3,)) [0.0, 0.01, 50.0]\n",
      "\n"
     ]
    }
   ],
   "source": [
    "@with_kw struct MyParameters\n",
    "    N::Int = 3         # size of item set\n",
    "    K::Int = 3         # size of arm set\n",
    "    M::Int = 3        # size of beta set\n",
    "    y::Real = 0.999     # discount factor\n",
    "    umax::Real = 10    # max utility\n",
    "    u_grain:: Int = 3  # granularity of utility approximation\n",
    "    d_grain:: Int = 3  # granularity of arm distribution approximation\n",
    "    beta:: Array{Float64} = [0, 0.01, 50.0]  # teacher beta values\n",
    "end\n",
    "\n",
    "params = MyParameters()\n",
    "log(string(params))"
   ]
  },
  {
   "cell_type": "markdown",
   "metadata": {},
   "source": [
    "# Create POMDP"
   ]
  },
  {
   "cell_type": "code",
   "execution_count": 6,
   "metadata": {},
   "outputs": [],
   "source": [
    "struct State\n",
    "    u::Array{Float64}         # list of N utility values for N items\n",
    "    d::Array{Array{Float64}}  # list of K arm distributions, each assigning probabilities to N items\n",
    "    b::Array{Float64}         # list of M beta values\n",
    "end"
   ]
  },
  {
   "cell_type": "code",
   "execution_count": 7,
   "metadata": {},
   "outputs": [
    {
     "name": "stdout",
     "output_type": "stream",
     "text": [
      "  0.143240 seconds (163.60 k allocations: 8.391 MiB, 99.50% compilation time)\n",
      "14:07:37\tgenerated 27 utilities (each length 3 items)\n"
     ]
    }
   ],
   "source": [
    "# space of utility functions\n",
    "@time begin\n",
    "    umin = 0\n",
    "    grid_coor = fill(range(umin,params.umax,length=params.u_grain), params.N)\n",
    "    U = RectangleGrid(grid_coor...)\n",
    "end\n",
    "\n",
    "@assert length(U[1]) == params.N\n",
    "log(\"generated \"*string(length(U))*\" utilities (each length \"*string(length(U[1]))*\" items)\")"
   ]
  },
  {
   "cell_type": "code",
   "execution_count": 8,
   "metadata": {},
   "outputs": [
    {
     "data": {
      "text/plain": [
       "generate_probability_distributions (generic function with 2 methods)"
      ]
     },
     "execution_count": 8,
     "metadata": {},
     "output_type": "execute_result"
    }
   ],
   "source": [
    "function generate_probability_distributions(N::Int, coor::Array{Float64}, S::Float64=1.0)\n",
    "    if S == 0\n",
    "        return [[0. for _ in 1:N]]\n",
    "    end\n",
    "    if N == 1\n",
    "        return [[float(S)]]\n",
    "    end\n",
    "    out = []\n",
    "    range = coor[1:findall(x->isapprox(x,S,atol=1e-15), coor)[1]]\n",
    "    for k in range\n",
    "        subsolution = generate_probability_distributions(N-1, coor, S-k)\n",
    "        for lst in subsolution\n",
    "            if typeof(lst[1]) != Float64\n",
    "                log(\"ERROR: lst \"*string(lst)*\" has type \"*string(typeof(lst[1]))*\". Must be Float64.\")\n",
    "            end\n",
    "            prepend!(lst, float(k))\n",
    "        end\n",
    "        out = vcat(out, subsolution)\n",
    "    end\n",
    "    return out\n",
    "end"
   ]
  },
  {
   "cell_type": "code",
   "execution_count": 9,
   "metadata": {},
   "outputs": [
    {
     "name": "stdout",
     "output_type": "stream",
     "text": [
      "  0.296923 seconds (1.59 M allocations: 81.502 MiB, 4.08% gc time, 98.94% compilation time)\n",
      "14:07:38\tgenerated 216 arm distribution sets (each shape 3 arms x 3 items)\n"
     ]
    }
   ],
   "source": [
    "# space of arm distributions\n",
    "@time begin\n",
    "    coor = collect(range(0.,1.,length=params.d_grain))    \n",
    "    simplex_list = generate_probability_distributions(params.N, coor)\n",
    "    D_tuples = vec(collect(Base.product(fill(simplex_list, params.K)...)))\n",
    "    D = [collect(d) for d in D_tuples]\n",
    "end\n",
    "\n",
    "@assert length(D[1]) == params.K\n",
    "@assert length(D[1][1]) == params.N\n",
    "log(string(\"generated \"*string(length(D))*\" arm distribution sets (each shape \"*string(length(D[1]))*\" arms x \"*string(length(D[1][1]))*\" items)\"))\n",
    "    \n",
    "    "
   ]
  },
  {
   "cell_type": "code",
   "execution_count": 10,
   "metadata": {},
   "outputs": [
    {
     "name": "stdout",
     "output_type": "stream",
     "text": [
      "14:07:38\tgenerated 1 beta value sets (each length 3 teachers)\n"
     ]
    }
   ],
   "source": [
    "# beta values\n",
    "B = [params.beta]\n",
    "\n",
    "# each beta value set must be length M\n",
    "@assert length(B[1]) == params.M\n",
    "log(string(\"generated \"*string(length(B))*\" beta value sets (each length \"*string(length(B[1]))*\" teachers)\"))"
   ]
  },
  {
   "cell_type": "code",
   "execution_count": 11,
   "metadata": {},
   "outputs": [
    {
     "name": "stdout",
     "output_type": "stream",
     "text": [
      "  0.101615 seconds (747.86 k allocations: 38.895 MiB, 98.28% compilation time)\n",
      "14:07:38\tgenerated 5832 states\n"
     ]
    }
   ],
   "source": [
    "# State space\n",
    "@time begin     \n",
    "    S = [[State(u,d,b) for u in U, d in D, b in B]...,]\n",
    "end\n",
    "\n",
    "log(\"generated \"*string(length(S))*\" states\")"
   ]
  },
  {
   "cell_type": "code",
   "execution_count": 12,
   "metadata": {},
   "outputs": [
    {
     "data": {
      "text/plain": [
       "10-element Vector{Any}:\n",
       " 3617\n",
       " 4152\n",
       " 4427\n",
       " 3191\n",
       " 1712\n",
       " 4426\n",
       " 4151\n",
       " 1713\n",
       " 3195\n",
       " 3617"
      ]
     },
     "execution_count": 12,
     "metadata": {},
     "output_type": "execute_result"
    }
   ],
   "source": [
    "function interesting(s::State)\n",
    "    e = [dot(s.u, di) for di in s.d]\n",
    "    order = e[1] > e[2] && e[2] >= e[3] \n",
    "    diff = s.d[1] != s.d[2] != s.d[3]\n",
    "    stoch = all([s.d[i][j]!=1. for i in 1:3, j in 1:3])\n",
    "    return order && stoch && diff\n",
    "end\n",
    "\n",
    "to_print = false\n",
    "indices = []\n",
    "for i in 1:length(S)\n",
    "    if interesting(S[i])\n",
    "        if to_print\n",
    "            println(\"index \", i)\n",
    "            println(S[i])\n",
    "        end\n",
    "        push!(indices, i)\n",
    "    end\n",
    "end\n",
    "\n",
    "# length(indices)/length(S)\n",
    "rand(indices, 10)"
   ]
  },
  {
   "cell_type": "code",
   "execution_count": 101,
   "metadata": {},
   "outputs": [
    {
     "name": "stdout",
     "output_type": "stream",
     "text": [
      "\n",
      "State 12:\n",
      "\t u: [10.0, 0.0, 5.0]\n",
      "\t d1: [0.0, 0.0, 1.0]\t (exp val 5.0)\n",
      "\t d1: [0.0, 0.0, 1.0]\t (exp val 5.0)\n",
      "\t d1: [0.0, 0.0, 1.0]\t (exp val 5.0)\n"
     ]
    },
    {
     "data": {
      "text/plain": [
       "State([10.0, 0.0, 5.0], Array{Float64}[[0.0, 0.0, 1.0], [0.0, 0.0, 1.0], [0.0, 0.0, 1.0]], [0.0, 0.01, 50.0])"
      ]
     },
     "execution_count": 101,
     "metadata": {},
     "output_type": "execute_result"
    }
   ],
   "source": [
    "function print_state(s::State)\n",
    "    println(\"\\t u: \", s.u)\n",
    "    println(\"\\t d1: \", s.d[1], \"\\t (exp val \", dot(s.u, s.d[1]), \")\")\n",
    "    println(\"\\t d1: \", s.d[2], \"\\t (exp val \", dot(s.u, s.d[2]), \")\")\n",
    "    println(\"\\t d1: \", s.d[3], \"\\t (exp val \", dot(s.u, s.d[3]), \")\")\n",
    "end\n",
    "\n",
    "state_IDs = [12]\n",
    "\n",
    "for ID in state_IDs\n",
    "    println(\"\\nState \", ID, \":\")\n",
    "    print_state(S[ID])\n",
    "end"
   ]
  },
  {
   "cell_type": "code",
   "execution_count": 105,
   "metadata": {},
   "outputs": [
    {
     "data": {
      "text/plain": [
       "3-element Vector{SubString{String}}:\n",
       " \"State([10.0, 0.0, 5.0], Array\"\n",
       " \"Float64\"\n",
       " \"[[0.0, 0.0, 1.0], [0.0, 0.0, 1.0], [0.0, 0.0, 1.0]], [0.0, 0.01, 50.0])\""
      ]
     },
     "execution_count": 105,
     "metadata": {},
     "output_type": "execute_result"
    }
   ],
   "source": []
  },
  {
   "cell_type": "code",
   "execution_count": 14,
   "metadata": {},
   "outputs": [
    {
     "name": "stdout",
     "output_type": "stream",
     "text": [
      "14:07:39\tgenerated 6 actions\n"
     ]
    }
   ],
   "source": [
    "# Action space - actions are arm choices (K) or beta selections (M)\n",
    "struct Action\n",
    "    name::String      # valid names are {B,C} + index\n",
    "    isBeta::Bool      # true if 'B' action, false if 'C' action\n",
    "    index::Integer    # index of beta (if 'B' action) or arm choice (if 'C' action)\n",
    "end\n",
    "\n",
    "A = Array{Action}(undef, params.K+params.M)\n",
    "for i in 1:params.K+params.M\n",
    "    if i <= params.K\n",
    "        A[i] = Action(\"C\"*string(i), false, i)\n",
    "    else\n",
    "        A[i] = Action(\"B\"*string(i-params.K), true, i-params.K)\n",
    "    end\n",
    "end\n",
    "log(\"generated \"*string(length(A))*\" actions\")"
   ]
  },
  {
   "cell_type": "code",
   "execution_count": 15,
   "metadata": {},
   "outputs": [
    {
     "name": "stdout",
     "output_type": "stream",
     "text": [
      "14:07:39\tgenerated transition function\n"
     ]
    }
   ],
   "source": [
    "# Transition function\n",
    "function T(s::State, a::Action)\n",
    "    return SparseCat([s], [1.0])    # categorical distribution\n",
    "end\n",
    "log(\"generated transition function\")"
   ]
  },
  {
   "cell_type": "code",
   "execution_count": 16,
   "metadata": {},
   "outputs": [
    {
     "name": "stdout",
     "output_type": "stream",
     "text": [
      "14:07:39\tgenerated reward function\n"
     ]
    }
   ],
   "source": [
    "# Reward function\n",
    "function R(s::State, a::Action)\n",
    "    # if beta selected, return 0\n",
    "    if a.isBeta\n",
    "        return 0\n",
    "    # if arm pulled, return that arm's avg utility\n",
    "    else\n",
    "        utilities = s.u\n",
    "        arm_dist = s.d[a.index]\n",
    "        return dot(utilities, arm_dist)\n",
    "    end\n",
    "end\n",
    "log(\"generated reward function\")"
   ]
  },
  {
   "cell_type": "code",
   "execution_count": 17,
   "metadata": {},
   "outputs": [
    {
     "name": "stdout",
     "output_type": "stream",
     "text": [
      "14:07:39\tgenerated 21 observations\n"
     ]
    }
   ],
   "source": [
    "# item space\n",
    "I = 1:params.N\n",
    "\n",
    "# preference space\n",
    "struct Preference\n",
    "    i0::Int    # first item to compare, in {1,2,...,N}\n",
    "    i1::Int    # second item to compare, in {1,2,...,N}\n",
    "    label::Int # feedback label, in {0,1}\n",
    "end\n",
    "\n",
    "P = [[Preference(i0,i1,label) for i0 in I, i1 in I, label in [0,1]]...,]\n",
    "\n",
    "# observation space\n",
    "struct Observation\n",
    "    isItem::Bool    # true if item returned, false otherwise\n",
    "    i::Int          # item, if item returned\n",
    "    p::Preference   # preference, if preference returned\n",
    "end\n",
    "\n",
    "invalid_i = -1\n",
    "invalid_p = Preference(-1,-1,-1)\n",
    "I_obs = [Observation(true, i, invalid_p) for i in I]\n",
    "P_obs = [Observation(false, invalid_i, p) for p in P]\n",
    "omega = union(I_obs, P_obs)\n",
    "\n",
    "log(\"generated \"*string(length(omega))*\" observations\")"
   ]
  },
  {
   "cell_type": "code",
   "execution_count": 18,
   "metadata": {},
   "outputs": [
    {
     "data": {
      "text/plain": [
       "Pr (generic function with 1 method)"
      ]
     },
     "execution_count": 18,
     "metadata": {},
     "output_type": "execute_result"
    }
   ],
   "source": [
    "# unnormalized query profile (likelihood of querying 1,1; 2,1; 3,1; ... ; N,1; 1,2; 2,2; ... ; N,N)\n",
    "Q = [o.p.i0 != o.p.i1 for o in P_obs]\n",
    "\n",
    "# preference probability (expected preference, or probability that preference=1)\n",
    "function Pr(p::Preference, s::State, b::Float64)\n",
    "    prob_pref_1 = exp(Float64(b)*s.u[p.i1])/(exp(Float64(b)*s.u[p.i1])+exp(Float64(b)*s.u[p.i0]))\n",
    "    if p.label == 1\n",
    "        return prob_pref_1\n",
    "    else\n",
    "        return 1.0-prob_pref_1\n",
    "    end\n",
    "end"
   ]
  },
  {
   "cell_type": "code",
   "execution_count": 19,
   "metadata": {},
   "outputs": [
    {
     "name": "stdout",
     "output_type": "stream",
     "text": [
      "14:07:39\tgenerated observation function\n"
     ]
    }
   ],
   "source": [
    "function O(s::State, a::Action, sp::State)\n",
    "    # if B action, obs in P_obs\n",
    "    if a.isBeta\n",
    "        prob_of_pref = [Pr(o.p, s, s.b[a.index]) for o in P_obs]\n",
    "        prob_of_query = Q \n",
    "        \n",
    "        # weight by querying profile to get dist\n",
    "        dist = [prob_of_pref[i]*prob_of_query[i] for i in 1:length(prob_of_pref)]\n",
    "        normalized_dist = dist/sum(dist)        \n",
    "        return SparseCat(P_obs, normalized_dist)\n",
    "    # if C action, obs in I_obs\n",
    "    else\n",
    "        return SparseCat(I_obs, s.d[a.index])\n",
    "    end\n",
    "end\n",
    "\n",
    "log(\"generated observation function\")"
   ]
  },
  {
   "cell_type": "code",
   "execution_count": 20,
   "metadata": {},
   "outputs": [
    {
     "name": "stdout",
     "output_type": "stream",
     "text": [
      "  0.546339 seconds (2.32 M allocations: 125.522 MiB, 4.44% gc time, 99.14% compilation time)\n",
      "14:07:40\tcreated POMDP\n"
     ]
    }
   ],
   "source": [
    "@time begin\n",
    "    \n",
    "    # define POMDP\n",
    "    abstract type MyPOMDP <: POMDP{State, Action, Observation} end\n",
    "    pomdp = QuickPOMDP(MyPOMDP,\n",
    "        states       = S,\n",
    "        actions      = A,\n",
    "        observations = omega,\n",
    "        transition   = T,\n",
    "        observation  = O,\n",
    "        reward       = R,\n",
    "        discount     = params.y,\n",
    "        initialstate = S);\n",
    "\n",
    "end\n",
    "\n",
    "log(\"created POMDP\")"
   ]
  },
  {
   "cell_type": "markdown",
   "metadata": {},
   "source": [
    "# Solve POMDP"
   ]
  },
  {
   "cell_type": "code",
   "execution_count": 93,
   "metadata": {
    "scrolled": false
   },
   "outputs": [
    {
     "name": "stdout",
     "output_type": "stream",
     "text": [
      "  0.000015 seconds (12 allocations: 784 bytes)\n",
      "14:44:12\tsolved POMDP\n",
      "14:44:12\tsaved policy to ./policies/2333_140736_policy.txt\n"
     ]
    }
   ],
   "source": [
    "@time begin\n",
    "    solver = POMCPOWSolver(max_depth=1)\n",
    "    planner = solve(solver, pomdp);\n",
    "end\n",
    "log(\"solved POMDP\")\n",
    "\n",
    "open(\"./policies/\"*expID*\"_policy.txt\", \"w\") do file\n",
    "    serialize(file, planner)\n",
    "end\n",
    "\n",
    "log(\"saved policy to \"*\"./policies/\"*expID*\"_policy.txt\")"
   ]
  },
  {
   "cell_type": "code",
   "execution_count": 94,
   "metadata": {},
   "outputs": [
    {
     "data": {
      "text/plain": [
       "Action(\"C3\", false, 3)"
      ]
     },
     "execution_count": 94,
     "metadata": {},
     "output_type": "execute_result"
    }
   ],
   "source": [
    "action(planner, Uniform(S))"
   ]
  },
  {
   "cell_type": "code",
   "execution_count": 95,
   "metadata": {},
   "outputs": [
    {
     "name": "stdout",
     "output_type": "stream",
     "text": [
      "s = State([0.0, 10.0, 10.0], Array{Float64}[[0.5, 0.0, 0.5], [0.0, 1.0, 0.0], [0.5, 0.5, 0.0]], [0.0, 0.01, 50.0])\n",
      "\n",
      "a = Action(\"C2\", false, 2)\n",
      "r = 10.0\n",
      "o = Observation(true, 2, Preference(-1, -1, -1))\n",
      "\n",
      "a = Action(\"C2\", false, 2)\n",
      "r = 10.0\n",
      "o = Observation(true, 2, Preference(-1, -1, -1))\n",
      "\n",
      "a = Action(\"C3\", false, 3)\n",
      "r = 5.0\n",
      "o = Observation(true, 1, Preference(-1, -1, -1))\n",
      "\n"
     ]
    }
   ],
   "source": [
    "rollout = true\n",
    "\n",
    "if rollout\n",
    "    show_state = true\n",
    "    for (s,a,r,o) in stepthrough(pomdp, planner, \"s,a,r,o\", max_steps=3)\n",
    "        if show_state\n",
    "            @show s\n",
    "            println(\"\")\n",
    "            show_state = false\n",
    "        end\n",
    "        @show a\n",
    "        @show r\n",
    "        @show o\n",
    "        println()\n",
    "    end\n",
    "end"
   ]
  },
  {
   "cell_type": "markdown",
   "metadata": {},
   "source": [
    "# Evaluate Solution"
   ]
  },
  {
   "cell_type": "code",
   "execution_count": 96,
   "metadata": {},
   "outputs": [
    {
     "data": {
      "text/plain": [
       "3-element Vector{Int64}:\n",
       " 4641\n",
       " 4589\n",
       " 3204"
      ]
     },
     "execution_count": 96,
     "metadata": {},
     "output_type": "execute_result"
    }
   ],
   "source": [
    "# worst 3 states\n",
    "worst_states = [4641, 4589, 3204]"
   ]
  },
  {
   "cell_type": "code",
   "execution_count": 97,
   "metadata": {},
   "outputs": [
    {
     "name": "stdout",
     "output_type": "stream",
     "text": [
      "14:44:14\trunning simulation 1\n",
      "14:44:14\tstate State([10.0, 5.0, 10.0], Array{Float64}[[0.5, 0.0, 0.5], [0.5, 0.5, 0.0], [0.5, 0.5, 0.0]], [0.0, 0.01, 50.0])\n",
      "State([10.0, 5.0, 10.0], Array{Float64}[[0.5, 0.0, 0.5], [0.5, 0.5, 0.0], [0.5, 0.5, 0.0]], [0.0, 0.01, 50.0])\n",
      "10\n",
      "20\n",
      "30\n",
      "40\n",
      "50\n",
      "60\n",
      "70\n",
      "80\n",
      "90\n",
      "100\n",
      "14:44:15\trunning simulation 2\n",
      "14:44:15\tstate State([10.0, 5.0, 10.0], Array{Float64}[[0.5, 0.0, 0.5], [0.5, 0.5, 0.0], [0.5, 0.5, 0.0]], [0.0, 0.01, 50.0])\n",
      "State([10.0, 5.0, 10.0], Array{Float64}[[0.5, 0.0, 0.5], [0.5, 0.5, 0.0], [0.5, 0.5, 0.0]], [0.0, 0.01, 50.0])\n",
      "10\n",
      "20\n",
      "30\n",
      "40\n",
      "50\n",
      "60\n",
      "70\n",
      "80\n",
      "90\n",
      "100\n",
      "14:44:15\trunning simulation 3\n",
      "14:44:15\tstate State([10.0, 5.0, 10.0], Array{Float64}[[0.5, 0.0, 0.5], [0.5, 0.5, 0.0], [0.5, 0.5, 0.0]], [0.0, 0.01, 50.0])\n",
      "State([10.0, 5.0, 10.0], Array{Float64}[[0.5, 0.0, 0.5], [0.5, 0.5, 0.0], [0.5, 0.5, 0.0]], [0.0, 0.01, 50.0])\n",
      "10\n",
      "20\n",
      "30\n",
      "40\n",
      "50\n",
      "60\n",
      "70\n",
      "80\n",
      "90\n",
      "100\n",
      "14:44:16\trunning simulation 4\n",
      "14:44:16\tstate State([10.0, 5.0, 10.0], Array{Float64}[[0.5, 0.0, 0.5], [0.5, 0.5, 0.0], [0.5, 0.5, 0.0]], [0.0, 0.01, 50.0])\n",
      "State([10.0, 5.0, 10.0], Array{Float64}[[0.5, 0.0, 0.5], [0.5, 0.5, 0.0], [0.5, 0.5, 0.0]], [0.0, 0.01, 50.0])\n",
      "10\n",
      "20\n",
      "30\n",
      "40\n",
      "50\n",
      "60\n",
      "70\n",
      "80\n",
      "90\n",
      "100\n",
      "14:44:16\trunning simulation 5\n",
      "14:44:16\tstate State([10.0, 5.0, 10.0], Array{Float64}[[0.5, 0.0, 0.5], [0.5, 0.5, 0.0], [0.5, 0.5, 0.0]], [0.0, 0.01, 50.0])\n",
      "State([10.0, 5.0, 10.0], Array{Float64}[[0.5, 0.0, 0.5], [0.5, 0.5, 0.0], [0.5, 0.5, 0.0]], [0.0, 0.01, 50.0])\n",
      "10\n",
      "20\n",
      "30\n",
      "40\n",
      "50\n",
      "60\n",
      "70\n",
      "80\n",
      "90\n",
      "100\n",
      "14:44:17\trunning simulation 6\n",
      "14:44:17\tstate State([10.0, 5.0, 10.0], Array{Float64}[[0.5, 0.0, 0.5], [0.5, 0.5, 0.0], [0.5, 0.5, 0.0]], [0.0, 0.01, 50.0])\n",
      "State([10.0, 5.0, 10.0], Array{Float64}[[0.5, 0.0, 0.5], [0.5, 0.5, 0.0], [0.5, 0.5, 0.0]], [0.0, 0.01, 50.0])\n",
      "10\n",
      "20\n",
      "30\n",
      "40\n",
      "50\n",
      "60\n",
      "70\n",
      "80\n",
      "90\n",
      "100\n",
      "14:44:17\trunning simulation 7\n",
      "14:44:17\tstate State([10.0, 5.0, 10.0], Array{Float64}[[0.5, 0.0, 0.5], [0.5, 0.5, 0.0], [0.5, 0.5, 0.0]], [0.0, 0.01, 50.0])\n",
      "State([10.0, 5.0, 10.0], Array{Float64}[[0.5, 0.0, 0.5], [0.5, 0.5, 0.0], [0.5, 0.5, 0.0]], [0.0, 0.01, 50.0])\n",
      "10\n",
      "20\n",
      "30\n",
      "40\n",
      "50\n",
      "60\n",
      "70\n",
      "80\n",
      "90\n",
      "100\n",
      "14:44:18\trunning simulation 8\n",
      "14:44:18\tstate State([10.0, 5.0, 10.0], Array{Float64}[[0.5, 0.0, 0.5], [0.5, 0.5, 0.0], [0.5, 0.5, 0.0]], [0.0, 0.01, 50.0])\n",
      "State([10.0, 5.0, 10.0], Array{Float64}[[0.5, 0.0, 0.5], [0.5, 0.5, 0.0], [0.5, 0.5, 0.0]], [0.0, 0.01, 50.0])\n",
      "10\n",
      "20\n",
      "30\n",
      "40\n",
      "50\n",
      "60\n",
      "70\n",
      "80\n",
      "90\n",
      "100\n",
      "14:44:18\trunning simulation 9\n",
      "14:44:18\tstate State([10.0, 5.0, 10.0], Array{Float64}[[0.5, 0.0, 0.5], [0.5, 0.5, 0.0], [0.5, 0.5, 0.0]], [0.0, 0.01, 50.0])\n",
      "State([10.0, 5.0, 10.0], Array{Float64}[[0.5, 0.0, 0.5], [0.5, 0.5, 0.0], [0.5, 0.5, 0.0]], [0.0, 0.01, 50.0])\n",
      "10\n",
      "20\n",
      "30\n",
      "40\n",
      "50\n",
      "60\n",
      "70\n",
      "80\n",
      "90\n",
      "100\n",
      "14:44:19\trunning simulation 10\n",
      "14:44:19\tstate State([10.0, 5.0, 10.0], Array{Float64}[[0.5, 0.0, 0.5], [0.5, 0.5, 0.0], [0.5, 0.5, 0.0]], [0.0, 0.01, 50.0])\n",
      "State([10.0, 5.0, 10.0], Array{Float64}[[0.5, 0.0, 0.5], [0.5, 0.5, 0.0], [0.5, 0.5, 0.0]], [0.0, 0.01, 50.0])\n",
      "10\n",
      "20\n",
      "30\n",
      "40\n",
      "50\n",
      "60\n",
      "70\n",
      "80\n",
      "90\n",
      "100\n",
      "14:44:19\tran 10 POMCPOW rollouts for 100 timesteps each\n",
      "14:44:19\tPOMCPOW R: [865.0, 815.0, 812.5, 812.5, 895.0, 952.5, 827.5, 925.0, 790.0, 885.0]\n",
      "  5.058218 seconds (92.88 M allocations: 4.543 GiB, 7.37% gc time, 0.15% compilation time)\n"
     ]
    }
   ],
   "source": [
    "steps = 100\n",
    "iters = 10\n",
    "\n",
    "# initial_states = [State([0.0, 8.0, 10.0], Array{Float64}[[0.0, 0.0, 1.0], [0.6, 0.0, 0.4], [1.0, 0.0, 0.0]], [0.01, 10.0]) for i in 1:iters]\n",
    "initial_states = [S[worst_states[1]] for _ in 1:iters]\n",
    "POMCPOW_R = Array{Float64}(undef, iters)\n",
    "beliefs = Array{Array{ParticleFilters.ParticleCollection{State}}}(undef, (iters, steps))\n",
    "@time begin\n",
    "    for iter in 1:iters\n",
    "        log(\"running simulation \"*string(iter))\n",
    "        log(\"state \"*string(initial_states[iter]))\n",
    "\n",
    "        t = 1\n",
    "        r_accum = 0.\n",
    "        beliefs_iter = Array{ParticleFilters.ParticleCollection{State}}(undef, steps)\n",
    "        for (s, a, o, r, b) in stepthrough(pomdp, planner, updater(planner), Uniform(S), initial_states[iter], \"s,a,o,r,b\", max_steps=steps)\n",
    "            r_accum = r_accum + r\n",
    "            beliefs_iter[t] = b\n",
    "            \n",
    "            if t%10 == 0\n",
    "                println(t)\n",
    "            end\n",
    "\n",
    "            if t == 1\n",
    "                open(\"./sims/\"*expID*\"_run\"*string(iter)*\".txt\", \"w\") do file\n",
    "                    write(file, string(s))\n",
    "                end\n",
    "                println(s)\n",
    "            end\n",
    "\n",
    "            if a.isBeta\n",
    "                msg = \"\\n\"*string(t)*\",B,\"*a.name*\",(i\"*string(o.p.i0)*\"-i\"*string(o.p.i1)*\";\"*string(o.p.label)*\"),\"*string(r)\n",
    "            else\n",
    "                msg = \"\\n\"*string(t)*\",C,\"*a.name*\",i\"*string(o.i)*\",\"*string(r)\n",
    "            end\n",
    "\n",
    "            open(\"./sims/\"*expID*\"_run\"*string(iter)*\".txt\", \"a\") do file\n",
    "                write(file, msg)\n",
    "            end\n",
    "            t = t + 1\n",
    "        end\n",
    "        beliefs[iter] = beliefs_iter\n",
    "        POMCPOW_R[iter] = r_accum\n",
    "    end\n",
    "\n",
    "    log(\"ran \"*string(iters)*\" POMCPOW rollouts for \"*string(steps)*\" timesteps each\")\n",
    "    log(\"POMCPOW R: \"*string(POMCPOW_R))\n",
    "\n",
    "#     open(\"./beliefs/\"*expID*\"_belief.txt\", \"w\") do file\n",
    "#         serialize(file, beliefs)\n",
    "#     end\n",
    "\n",
    "#     log(\"saved beliefs to \"*\"./beliefs/\"*expID*\"_belief.txt\")\n",
    "end"
   ]
  },
  {
   "cell_type": "code",
   "execution_count": 72,
   "metadata": {},
   "outputs": [],
   "source": [
    "# new_beliefs = deserialize(open(\"./beliefs/\"*\"2299_123850\"*\"_belief.txt\", \"r\"));"
   ]
  },
  {
   "cell_type": "code",
   "execution_count": 73,
   "metadata": {},
   "outputs": [
    {
     "name": "stdout",
     "output_type": "stream",
     "text": [
      "14:26:51\tran 3 random rollouts for 100 timesteps each\n",
      "14:26:51\tRandom R: [369.3464620000372, 429.5408652487354, 386.18900646357594]\n"
     ]
    }
   ],
   "source": [
    "prior = Uniform(S)\n",
    "sim = RolloutSimulator(max_steps=steps)\n",
    "\n",
    "random_R = zeros(iters)\n",
    "for iter in 1:iters\n",
    "    # use the same initial states as the POMCPOW runs\n",
    "    initial_state = initial_states[iter]\n",
    "    up = updater(RandomPolicy(pomdp))\n",
    "    result = simulate(sim, pomdp, RandomPolicy(pomdp), up, prior, initial_state)\n",
    "    random_R[iter] = result\n",
    "end\n",
    "\n",
    "log(\"ran \"*string(iters)*\" random rollouts for \"*string(steps)*\" timesteps each\")\n",
    "log(\"Random R: \"*string(random_R))\n"
   ]
  },
  {
   "cell_type": "code",
   "execution_count": 74,
   "metadata": {},
   "outputs": [
    {
     "name": "stdout",
     "output_type": "stream",
     "text": [
      "14:26:51\tMax R: [1000.0, 1000.0, 1000.0]\n"
     ]
    }
   ],
   "source": [
    "max_R = zeros(iters)\n",
    "\n",
    "for iter in 1:iters\n",
    "    # use the same initial states as the POMCPOW runs\n",
    "    initial_state = initial_states[iter]\n",
    "    max_R[iter] = maximum([dot(initial_state.u, initial_state.d[i]) for i in 1:params.K])*steps\n",
    "end\n",
    "\n",
    "log(\"Max R: \"*string(max_R))"
   ]
  },
  {
   "cell_type": "code",
   "execution_count": 75,
   "metadata": {},
   "outputs": [
    {
     "data": {
      "image/svg+xml": [
       "<?xml version=\"1.0\" encoding=\"utf-8\"?>\n",
       "<svg xmlns=\"http://www.w3.org/2000/svg\" xmlns:xlink=\"http://www.w3.org/1999/xlink\" width=\"600\" height=\"400\" viewBox=\"0 0 2400 1600\">\n",
       "<defs>\n",
       "  <clipPath id=\"clip430\">\n",
       "    <rect x=\"0\" y=\"0\" width=\"2400\" height=\"1600\"/>\n",
       "  </clipPath>\n",
       "</defs>\n",
       "<path clip-path=\"url(#clip430)\" d=\"\n",
       "M0 1600 L2400 1600 L2400 0 L0 0  Z\n",
       "  \" fill=\"#ffffff\" fill-rule=\"evenodd\" fill-opacity=\"1\"/>\n",
       "<defs>\n",
       "  <clipPath id=\"clip431\">\n",
       "    <rect x=\"480\" y=\"0\" width=\"1681\" height=\"1600\"/>\n",
       "  </clipPath>\n",
       "</defs>\n",
       "<path clip-path=\"url(#clip430)\" d=\"\n",
       "M235.283 1423.18 L2352.76 1423.18 L2352.76 47.2441 L235.283 47.2441  Z\n",
       "  \" fill=\"#ffffff\" fill-rule=\"evenodd\" fill-opacity=\"1\"/>\n",
       "<defs>\n",
       "  <clipPath id=\"clip432\">\n",
       "    <rect x=\"235\" y=\"47\" width=\"2118\" height=\"1377\"/>\n",
       "  </clipPath>\n",
       "</defs>\n",
       "<polyline clip-path=\"url(#clip432)\" style=\"stroke:#000000; stroke-linecap:round; stroke-linejoin:round; stroke-width:2; stroke-opacity:0.1; fill:none\" points=\"\n",
       "  295.211,1423.18 295.211,47.2441 \n",
       "  \"/>\n",
       "<polyline clip-path=\"url(#clip432)\" style=\"stroke:#000000; stroke-linecap:round; stroke-linejoin:round; stroke-width:2; stroke-opacity:0.1; fill:none\" points=\"\n",
       "  1294.02,1423.18 1294.02,47.2441 \n",
       "  \"/>\n",
       "<polyline clip-path=\"url(#clip432)\" style=\"stroke:#000000; stroke-linecap:round; stroke-linejoin:round; stroke-width:2; stroke-opacity:0.1; fill:none\" points=\"\n",
       "  2292.83,1423.18 2292.83,47.2441 \n",
       "  \"/>\n",
       "<polyline clip-path=\"url(#clip430)\" style=\"stroke:#000000; stroke-linecap:round; stroke-linejoin:round; stroke-width:4; stroke-opacity:1; fill:none\" points=\"\n",
       "  235.283,1423.18 2352.76,1423.18 \n",
       "  \"/>\n",
       "<polyline clip-path=\"url(#clip430)\" style=\"stroke:#000000; stroke-linecap:round; stroke-linejoin:round; stroke-width:4; stroke-opacity:1; fill:none\" points=\"\n",
       "  295.211,1423.18 295.211,1404.28 \n",
       "  \"/>\n",
       "<polyline clip-path=\"url(#clip430)\" style=\"stroke:#000000; stroke-linecap:round; stroke-linejoin:round; stroke-width:4; stroke-opacity:1; fill:none\" points=\"\n",
       "  1294.02,1423.18 1294.02,1404.28 \n",
       "  \"/>\n",
       "<polyline clip-path=\"url(#clip430)\" style=\"stroke:#000000; stroke-linecap:round; stroke-linejoin:round; stroke-width:4; stroke-opacity:1; fill:none\" points=\"\n",
       "  2292.83,1423.18 2292.83,1404.28 \n",
       "  \"/>\n",
       "<path clip-path=\"url(#clip430)\" d=\"M285.593 1481.64 L293.232 1481.64 L293.232 1455.28 L284.922 1456.95 L284.922 1452.69 L293.186 1451.02 L297.862 1451.02 L297.862 1481.64 L305.501 1481.64 L305.501 1485.58 L285.593 1485.58 L285.593 1481.64 Z\" fill=\"#000000\" fill-rule=\"evenodd\" fill-opacity=\"1\" /><path clip-path=\"url(#clip430)\" d=\"M1288.67 1481.64 L1304.99 1481.64 L1304.99 1485.58 L1283.05 1485.58 L1283.05 1481.64 Q1285.71 1478.89 1290.29 1474.26 Q1294.9 1469.61 1296.08 1468.27 Q1298.32 1465.74 1299.2 1464.01 Q1300.11 1462.25 1300.11 1460.56 Q1300.11 1457.8 1298.16 1456.07 Q1296.24 1454.33 1293.14 1454.33 Q1290.94 1454.33 1288.49 1455.09 Q1286.06 1455.86 1283.28 1457.41 L1283.28 1452.69 Q1286.1 1451.55 1288.56 1450.97 Q1291.01 1450.39 1293.05 1450.39 Q1298.42 1450.39 1301.61 1453.08 Q1304.81 1455.77 1304.81 1460.26 Q1304.81 1462.39 1304 1464.31 Q1303.21 1466.2 1301.1 1468.8 Q1300.52 1469.47 1297.42 1472.69 Q1294.32 1475.88 1288.67 1481.64 Z\" fill=\"#000000\" fill-rule=\"evenodd\" fill-opacity=\"1\" /><path clip-path=\"url(#clip430)\" d=\"M2297.08 1466.95 Q2300.43 1467.66 2302.31 1469.93 Q2304.2 1472.2 2304.2 1475.53 Q2304.2 1480.65 2300.69 1483.45 Q2297.17 1486.25 2290.69 1486.25 Q2288.51 1486.25 2286.2 1485.81 Q2283.9 1485.39 2281.45 1484.54 L2281.45 1480.02 Q2283.39 1481.16 2285.71 1481.74 Q2288.02 1482.32 2290.55 1482.32 Q2294.95 1482.32 2297.24 1480.58 Q2299.55 1478.84 2299.55 1475.53 Q2299.55 1472.48 2297.4 1470.77 Q2295.27 1469.03 2291.45 1469.03 L2287.42 1469.03 L2287.42 1465.19 L2291.64 1465.19 Q2295.08 1465.19 2296.91 1463.82 Q2298.74 1462.43 2298.74 1459.84 Q2298.74 1457.18 2296.84 1455.77 Q2294.97 1454.33 2291.45 1454.33 Q2289.53 1454.33 2287.33 1454.75 Q2285.13 1455.16 2282.49 1456.04 L2282.49 1451.88 Q2285.15 1451.14 2287.47 1450.77 Q2289.81 1450.39 2291.87 1450.39 Q2297.19 1450.39 2300.29 1452.83 Q2303.39 1455.23 2303.39 1459.35 Q2303.39 1462.22 2301.75 1464.21 Q2300.11 1466.18 2297.08 1466.95 Z\" fill=\"#000000\" fill-rule=\"evenodd\" fill-opacity=\"1\" /><path clip-path=\"url(#clip430)\" d=\"M1265.91 1537.87 Q1264.93 1537.3 1263.75 1537.04 Q1262.6 1536.76 1261.2 1536.76 Q1256.24 1536.76 1253.57 1540 Q1250.92 1543.22 1250.92 1549.27 L1250.92 1568.04 L1245.04 1568.04 L1245.04 1532.4 L1250.92 1532.4 L1250.92 1537.93 Q1252.77 1534.69 1255.73 1533.13 Q1258.69 1531.54 1262.92 1531.54 Q1263.53 1531.54 1264.26 1531.63 Q1264.99 1531.7 1265.88 1531.85 L1265.91 1537.87 Z\" fill=\"#000000\" fill-rule=\"evenodd\" fill-opacity=\"1\" /><path clip-path=\"url(#clip430)\" d=\"M1271.45 1553.98 L1271.45 1532.4 L1277.31 1532.4 L1277.31 1553.75 Q1277.31 1558.81 1279.28 1561.36 Q1281.26 1563.87 1285.2 1563.87 Q1289.95 1563.87 1292.68 1560.85 Q1295.45 1557.83 1295.45 1552.61 L1295.45 1532.4 L1301.31 1532.4 L1301.31 1568.04 L1295.45 1568.04 L1295.45 1562.57 Q1293.32 1565.82 1290.49 1567.41 Q1287.69 1568.97 1283.96 1568.97 Q1277.82 1568.97 1274.64 1565.15 Q1271.45 1561.33 1271.45 1553.98 M1286.19 1531.54 L1286.19 1531.54 Z\" fill=\"#000000\" fill-rule=\"evenodd\" fill-opacity=\"1\" /><path clip-path=\"url(#clip430)\" d=\"M1343 1546.53 L1343 1568.04 L1337.15 1568.04 L1337.15 1546.72 Q1337.15 1541.66 1335.17 1539.14 Q1333.2 1536.63 1329.25 1536.63 Q1324.51 1536.63 1321.77 1539.65 Q1319.04 1542.68 1319.04 1547.9 L1319.04 1568.04 L1313.15 1568.04 L1313.15 1532.4 L1319.04 1532.4 L1319.04 1537.93 Q1321.14 1534.72 1323.97 1533.13 Q1326.83 1531.54 1330.56 1531.54 Q1336.7 1531.54 1339.85 1535.36 Q1343 1539.14 1343 1546.53 Z\" fill=\"#000000\" fill-rule=\"evenodd\" fill-opacity=\"1\" /><polyline clip-path=\"url(#clip432)\" style=\"stroke:#000000; stroke-linecap:round; stroke-linejoin:round; stroke-width:2; stroke-opacity:0.1; fill:none\" points=\"\n",
       "  235.283,1423.18 2352.76,1423.18 \n",
       "  \"/>\n",
       "<polyline clip-path=\"url(#clip432)\" style=\"stroke:#000000; stroke-linecap:round; stroke-linejoin:round; stroke-width:2; stroke-opacity:0.1; fill:none\" points=\"\n",
       "  235.283,1209.86 2352.76,1209.86 \n",
       "  \"/>\n",
       "<polyline clip-path=\"url(#clip432)\" style=\"stroke:#000000; stroke-linecap:round; stroke-linejoin:round; stroke-width:2; stroke-opacity:0.1; fill:none\" points=\"\n",
       "  235.283,996.533 2352.76,996.533 \n",
       "  \"/>\n",
       "<polyline clip-path=\"url(#clip432)\" style=\"stroke:#000000; stroke-linecap:round; stroke-linejoin:round; stroke-width:2; stroke-opacity:0.1; fill:none\" points=\"\n",
       "  235.283,783.21 2352.76,783.21 \n",
       "  \"/>\n",
       "<polyline clip-path=\"url(#clip432)\" style=\"stroke:#000000; stroke-linecap:round; stroke-linejoin:round; stroke-width:2; stroke-opacity:0.1; fill:none\" points=\"\n",
       "  235.283,569.886 2352.76,569.886 \n",
       "  \"/>\n",
       "<polyline clip-path=\"url(#clip432)\" style=\"stroke:#000000; stroke-linecap:round; stroke-linejoin:round; stroke-width:2; stroke-opacity:0.1; fill:none\" points=\"\n",
       "  235.283,356.563 2352.76,356.563 \n",
       "  \"/>\n",
       "<polyline clip-path=\"url(#clip432)\" style=\"stroke:#000000; stroke-linecap:round; stroke-linejoin:round; stroke-width:2; stroke-opacity:0.1; fill:none\" points=\"\n",
       "  235.283,143.24 2352.76,143.24 \n",
       "  \"/>\n",
       "<polyline clip-path=\"url(#clip430)\" style=\"stroke:#000000; stroke-linecap:round; stroke-linejoin:round; stroke-width:4; stroke-opacity:1; fill:none\" points=\"\n",
       "  235.283,1423.18 235.283,47.2441 \n",
       "  \"/>\n",
       "<polyline clip-path=\"url(#clip430)\" style=\"stroke:#000000; stroke-linecap:round; stroke-linejoin:round; stroke-width:4; stroke-opacity:1; fill:none\" points=\"\n",
       "  235.283,1423.18 254.18,1423.18 \n",
       "  \"/>\n",
       "<polyline clip-path=\"url(#clip430)\" style=\"stroke:#000000; stroke-linecap:round; stroke-linejoin:round; stroke-width:4; stroke-opacity:1; fill:none\" points=\"\n",
       "  235.283,1209.86 254.18,1209.86 \n",
       "  \"/>\n",
       "<polyline clip-path=\"url(#clip430)\" style=\"stroke:#000000; stroke-linecap:round; stroke-linejoin:round; stroke-width:4; stroke-opacity:1; fill:none\" points=\"\n",
       "  235.283,996.533 254.18,996.533 \n",
       "  \"/>\n",
       "<polyline clip-path=\"url(#clip430)\" style=\"stroke:#000000; stroke-linecap:round; stroke-linejoin:round; stroke-width:4; stroke-opacity:1; fill:none\" points=\"\n",
       "  235.283,783.21 254.18,783.21 \n",
       "  \"/>\n",
       "<polyline clip-path=\"url(#clip430)\" style=\"stroke:#000000; stroke-linecap:round; stroke-linejoin:round; stroke-width:4; stroke-opacity:1; fill:none\" points=\"\n",
       "  235.283,569.886 254.18,569.886 \n",
       "  \"/>\n",
       "<polyline clip-path=\"url(#clip430)\" style=\"stroke:#000000; stroke-linecap:round; stroke-linejoin:round; stroke-width:4; stroke-opacity:1; fill:none\" points=\"\n",
       "  235.283,356.563 254.18,356.563 \n",
       "  \"/>\n",
       "<polyline clip-path=\"url(#clip430)\" style=\"stroke:#000000; stroke-linecap:round; stroke-linejoin:round; stroke-width:4; stroke-opacity:1; fill:none\" points=\"\n",
       "  235.283,143.24 254.18,143.24 \n",
       "  \"/>\n",
       "<path clip-path=\"url(#clip430)\" d=\"M187.338 1408.98 Q183.727 1408.98 181.899 1412.54 Q180.093 1416.08 180.093 1423.21 Q180.093 1430.32 181.899 1433.89 Q183.727 1437.43 187.338 1437.43 Q190.973 1437.43 192.778 1433.89 Q194.607 1430.32 194.607 1423.21 Q194.607 1416.08 192.778 1412.54 Q190.973 1408.98 187.338 1408.98 M187.338 1405.27 Q193.149 1405.27 196.204 1409.88 Q199.283 1414.46 199.283 1423.21 Q199.283 1431.94 196.204 1436.55 Q193.149 1441.13 187.338 1441.13 Q181.528 1441.13 178.45 1436.55 Q175.394 1431.94 175.394 1423.21 Q175.394 1414.46 178.45 1409.88 Q181.528 1405.27 187.338 1405.27 Z\" fill=\"#000000\" fill-rule=\"evenodd\" fill-opacity=\"1\" /><path clip-path=\"url(#clip430)\" d=\"M117.825 1223.2 L125.464 1223.2 L125.464 1196.84 L117.154 1198.5 L117.154 1194.24 L125.418 1192.58 L130.093 1192.58 L130.093 1223.2 L137.732 1223.2 L137.732 1227.14 L117.825 1227.14 L117.825 1223.2 Z\" fill=\"#000000\" fill-rule=\"evenodd\" fill-opacity=\"1\" /><path clip-path=\"url(#clip430)\" d=\"M157.177 1195.66 Q153.566 1195.66 151.737 1199.22 Q149.931 1202.76 149.931 1209.89 Q149.931 1217 151.737 1220.56 Q153.566 1224.1 157.177 1224.1 Q160.811 1224.1 162.616 1220.56 Q164.445 1217 164.445 1209.89 Q164.445 1202.76 162.616 1199.22 Q160.811 1195.66 157.177 1195.66 M157.177 1191.95 Q162.987 1191.95 166.042 1196.56 Q169.121 1201.14 169.121 1209.89 Q169.121 1218.62 166.042 1223.22 Q162.987 1227.81 157.177 1227.81 Q151.366 1227.81 148.288 1223.22 Q145.232 1218.62 145.232 1209.89 Q145.232 1201.14 148.288 1196.56 Q151.366 1191.95 157.177 1191.95 Z\" fill=\"#000000\" fill-rule=\"evenodd\" fill-opacity=\"1\" /><path clip-path=\"url(#clip430)\" d=\"M187.338 1195.66 Q183.727 1195.66 181.899 1199.22 Q180.093 1202.76 180.093 1209.89 Q180.093 1217 181.899 1220.56 Q183.727 1224.1 187.338 1224.1 Q190.973 1224.1 192.778 1220.56 Q194.607 1217 194.607 1209.89 Q194.607 1202.76 192.778 1199.22 Q190.973 1195.66 187.338 1195.66 M187.338 1191.95 Q193.149 1191.95 196.204 1196.56 Q199.283 1201.14 199.283 1209.89 Q199.283 1218.62 196.204 1223.22 Q193.149 1227.81 187.338 1227.81 Q181.528 1227.81 178.45 1223.22 Q175.394 1218.62 175.394 1209.89 Q175.394 1201.14 178.45 1196.56 Q181.528 1191.95 187.338 1191.95 Z\" fill=\"#000000\" fill-rule=\"evenodd\" fill-opacity=\"1\" /><path clip-path=\"url(#clip430)\" d=\"M121.043 1009.88 L137.362 1009.88 L137.362 1013.81 L115.418 1013.81 L115.418 1009.88 Q118.08 1007.12 122.663 1002.49 Q127.269 997.841 128.45 996.498 Q130.695 993.975 131.575 992.239 Q132.478 990.48 132.478 988.79 Q132.478 986.035 130.533 984.299 Q128.612 982.563 125.51 982.563 Q123.311 982.563 120.857 983.327 Q118.427 984.091 115.649 985.642 L115.649 980.92 Q118.473 979.786 120.927 979.207 Q123.38 978.628 125.418 978.628 Q130.788 978.628 133.982 981.313 Q137.177 983.998 137.177 988.489 Q137.177 990.619 136.367 992.54 Q135.579 994.438 133.473 997.031 Q132.894 997.702 129.792 1000.92 Q126.691 1004.11 121.043 1009.88 Z\" fill=\"#000000\" fill-rule=\"evenodd\" fill-opacity=\"1\" /><path clip-path=\"url(#clip430)\" d=\"M157.177 982.332 Q153.566 982.332 151.737 985.897 Q149.931 989.438 149.931 996.568 Q149.931 1003.67 151.737 1007.24 Q153.566 1010.78 157.177 1010.78 Q160.811 1010.78 162.616 1007.24 Q164.445 1003.67 164.445 996.568 Q164.445 989.438 162.616 985.897 Q160.811 982.332 157.177 982.332 M157.177 978.628 Q162.987 978.628 166.042 983.235 Q169.121 987.818 169.121 996.568 Q169.121 1005.29 166.042 1009.9 Q162.987 1014.48 157.177 1014.48 Q151.366 1014.48 148.288 1009.9 Q145.232 1005.29 145.232 996.568 Q145.232 987.818 148.288 983.235 Q151.366 978.628 157.177 978.628 Z\" fill=\"#000000\" fill-rule=\"evenodd\" fill-opacity=\"1\" /><path clip-path=\"url(#clip430)\" d=\"M187.338 982.332 Q183.727 982.332 181.899 985.897 Q180.093 989.438 180.093 996.568 Q180.093 1003.67 181.899 1007.24 Q183.727 1010.78 187.338 1010.78 Q190.973 1010.78 192.778 1007.24 Q194.607 1003.67 194.607 996.568 Q194.607 989.438 192.778 985.897 Q190.973 982.332 187.338 982.332 M187.338 978.628 Q193.149 978.628 196.204 983.235 Q199.283 987.818 199.283 996.568 Q199.283 1005.29 196.204 1009.9 Q193.149 1014.48 187.338 1014.48 Q181.528 1014.48 178.45 1009.9 Q175.394 1005.29 175.394 996.568 Q175.394 987.818 178.45 983.235 Q181.528 978.628 187.338 978.628 Z\" fill=\"#000000\" fill-rule=\"evenodd\" fill-opacity=\"1\" /><path clip-path=\"url(#clip430)\" d=\"M131.181 781.856 Q134.538 782.573 136.413 784.842 Q138.311 787.11 138.311 790.443 Q138.311 795.559 134.792 798.36 Q131.274 801.161 124.793 801.161 Q122.617 801.161 120.302 800.721 Q118.01 800.305 115.556 799.448 L115.556 794.934 Q117.501 796.068 119.816 796.647 Q122.13 797.226 124.654 797.226 Q129.052 797.226 131.343 795.49 Q133.658 793.754 133.658 790.443 Q133.658 787.388 131.505 785.675 Q129.376 783.939 125.556 783.939 L121.529 783.939 L121.529 780.096 L125.742 780.096 Q129.191 780.096 131.019 778.731 Q132.848 777.342 132.848 774.749 Q132.848 772.087 130.95 770.675 Q129.075 769.24 125.556 769.24 Q123.635 769.24 121.436 769.657 Q119.237 770.073 116.598 770.953 L116.598 766.786 Q119.26 766.045 121.575 765.675 Q123.913 765.305 125.973 765.305 Q131.297 765.305 134.399 767.735 Q137.501 770.143 137.501 774.263 Q137.501 777.133 135.857 779.124 Q134.214 781.092 131.181 781.856 Z\" fill=\"#000000\" fill-rule=\"evenodd\" fill-opacity=\"1\" /><path clip-path=\"url(#clip430)\" d=\"M157.177 769.008 Q153.566 769.008 151.737 772.573 Q149.931 776.115 149.931 783.244 Q149.931 790.351 151.737 793.916 Q153.566 797.457 157.177 797.457 Q160.811 797.457 162.616 793.916 Q164.445 790.351 164.445 783.244 Q164.445 776.115 162.616 772.573 Q160.811 769.008 157.177 769.008 M157.177 765.305 Q162.987 765.305 166.042 769.911 Q169.121 774.494 169.121 783.244 Q169.121 791.971 166.042 796.578 Q162.987 801.161 157.177 801.161 Q151.366 801.161 148.288 796.578 Q145.232 791.971 145.232 783.244 Q145.232 774.494 148.288 769.911 Q151.366 765.305 157.177 765.305 Z\" fill=\"#000000\" fill-rule=\"evenodd\" fill-opacity=\"1\" /><path clip-path=\"url(#clip430)\" d=\"M187.338 769.008 Q183.727 769.008 181.899 772.573 Q180.093 776.115 180.093 783.244 Q180.093 790.351 181.899 793.916 Q183.727 797.457 187.338 797.457 Q190.973 797.457 192.778 793.916 Q194.607 790.351 194.607 783.244 Q194.607 776.115 192.778 772.573 Q190.973 769.008 187.338 769.008 M187.338 765.305 Q193.149 765.305 196.204 769.911 Q199.283 774.494 199.283 783.244 Q199.283 791.971 196.204 796.578 Q193.149 801.161 187.338 801.161 Q181.528 801.161 178.45 796.578 Q175.394 791.971 175.394 783.244 Q175.394 774.494 178.45 769.911 Q181.528 765.305 187.338 765.305 Z\" fill=\"#000000\" fill-rule=\"evenodd\" fill-opacity=\"1\" /><path clip-path=\"url(#clip430)\" d=\"M129.862 556.68 L118.056 575.129 L129.862 575.129 L129.862 556.68 M128.635 552.606 L134.515 552.606 L134.515 575.129 L139.445 575.129 L139.445 579.018 L134.515 579.018 L134.515 587.166 L129.862 587.166 L129.862 579.018 L114.26 579.018 L114.26 574.504 L128.635 552.606 Z\" fill=\"#000000\" fill-rule=\"evenodd\" fill-opacity=\"1\" /><path clip-path=\"url(#clip430)\" d=\"M157.177 555.685 Q153.566 555.685 151.737 559.25 Q149.931 562.791 149.931 569.921 Q149.931 577.028 151.737 580.592 Q153.566 584.134 157.177 584.134 Q160.811 584.134 162.616 580.592 Q164.445 577.028 164.445 569.921 Q164.445 562.791 162.616 559.25 Q160.811 555.685 157.177 555.685 M157.177 551.981 Q162.987 551.981 166.042 556.588 Q169.121 561.171 169.121 569.921 Q169.121 578.648 166.042 583.254 Q162.987 587.838 157.177 587.838 Q151.366 587.838 148.288 583.254 Q145.232 578.648 145.232 569.921 Q145.232 561.171 148.288 556.588 Q151.366 551.981 157.177 551.981 Z\" fill=\"#000000\" fill-rule=\"evenodd\" fill-opacity=\"1\" /><path clip-path=\"url(#clip430)\" d=\"M187.338 555.685 Q183.727 555.685 181.899 559.25 Q180.093 562.791 180.093 569.921 Q180.093 577.028 181.899 580.592 Q183.727 584.134 187.338 584.134 Q190.973 584.134 192.778 580.592 Q194.607 577.028 194.607 569.921 Q194.607 562.791 192.778 559.25 Q190.973 555.685 187.338 555.685 M187.338 551.981 Q193.149 551.981 196.204 556.588 Q199.283 561.171 199.283 569.921 Q199.283 578.648 196.204 583.254 Q193.149 587.838 187.338 587.838 Q181.528 587.838 178.45 583.254 Q175.394 578.648 175.394 569.921 Q175.394 561.171 178.45 556.588 Q181.528 551.981 187.338 551.981 Z\" fill=\"#000000\" fill-rule=\"evenodd\" fill-opacity=\"1\" /><path clip-path=\"url(#clip430)\" d=\"M117.061 339.283 L135.417 339.283 L135.417 343.218 L121.343 343.218 L121.343 351.69 Q122.362 351.343 123.38 351.181 Q124.399 350.996 125.418 350.996 Q131.205 350.996 134.584 354.167 Q137.964 357.338 137.964 362.755 Q137.964 368.334 134.492 371.436 Q131.019 374.514 124.7 374.514 Q122.524 374.514 120.255 374.144 Q118.01 373.774 115.603 373.033 L115.603 368.334 Q117.686 369.468 119.908 370.024 Q122.13 370.579 124.607 370.579 Q128.612 370.579 130.95 368.473 Q133.288 366.366 133.288 362.755 Q133.288 359.144 130.95 357.038 Q128.612 354.931 124.607 354.931 Q122.732 354.931 120.857 355.348 Q119.006 355.764 117.061 356.644 L117.061 339.283 Z\" fill=\"#000000\" fill-rule=\"evenodd\" fill-opacity=\"1\" /><path clip-path=\"url(#clip430)\" d=\"M157.177 342.362 Q153.566 342.362 151.737 345.926 Q149.931 349.468 149.931 356.598 Q149.931 363.704 151.737 367.269 Q153.566 370.811 157.177 370.811 Q160.811 370.811 162.616 367.269 Q164.445 363.704 164.445 356.598 Q164.445 349.468 162.616 345.926 Q160.811 342.362 157.177 342.362 M157.177 338.658 Q162.987 338.658 166.042 343.264 Q169.121 347.848 169.121 356.598 Q169.121 365.325 166.042 369.931 Q162.987 374.514 157.177 374.514 Q151.366 374.514 148.288 369.931 Q145.232 365.325 145.232 356.598 Q145.232 347.848 148.288 343.264 Q151.366 338.658 157.177 338.658 Z\" fill=\"#000000\" fill-rule=\"evenodd\" fill-opacity=\"1\" /><path clip-path=\"url(#clip430)\" d=\"M187.338 342.362 Q183.727 342.362 181.899 345.926 Q180.093 349.468 180.093 356.598 Q180.093 363.704 181.899 367.269 Q183.727 370.811 187.338 370.811 Q190.973 370.811 192.778 367.269 Q194.607 363.704 194.607 356.598 Q194.607 349.468 192.778 345.926 Q190.973 342.362 187.338 342.362 M187.338 338.658 Q193.149 338.658 196.204 343.264 Q199.283 347.848 199.283 356.598 Q199.283 365.325 196.204 369.931 Q193.149 374.514 187.338 374.514 Q181.528 374.514 178.45 369.931 Q175.394 365.325 175.394 356.598 Q175.394 347.848 178.45 343.264 Q181.528 338.658 187.338 338.658 Z\" fill=\"#000000\" fill-rule=\"evenodd\" fill-opacity=\"1\" /><path clip-path=\"url(#clip430)\" d=\"M127.593 141.376 Q124.445 141.376 122.593 143.529 Q120.765 145.682 120.765 149.432 Q120.765 153.159 122.593 155.334 Q124.445 157.487 127.593 157.487 Q130.742 157.487 132.57 155.334 Q134.422 153.159 134.422 149.432 Q134.422 145.682 132.57 143.529 Q130.742 141.376 127.593 141.376 M136.876 126.723 L136.876 130.983 Q135.117 130.149 133.311 129.71 Q131.529 129.27 129.769 129.27 Q125.14 129.27 122.686 132.395 Q120.255 135.52 119.908 141.839 Q121.274 139.825 123.334 138.76 Q125.394 137.673 127.871 137.673 Q133.08 137.673 136.089 140.844 Q139.121 143.992 139.121 149.432 Q139.121 154.756 135.973 157.973 Q132.825 161.191 127.593 161.191 Q121.598 161.191 118.427 156.608 Q115.256 152.001 115.256 143.274 Q115.256 135.08 119.144 130.219 Q123.033 125.335 129.584 125.335 Q131.343 125.335 133.126 125.682 Q134.931 126.029 136.876 126.723 Z\" fill=\"#000000\" fill-rule=\"evenodd\" fill-opacity=\"1\" /><path clip-path=\"url(#clip430)\" d=\"M157.177 129.038 Q153.566 129.038 151.737 132.603 Q149.931 136.145 149.931 143.274 Q149.931 150.381 151.737 153.946 Q153.566 157.487 157.177 157.487 Q160.811 157.487 162.616 153.946 Q164.445 150.381 164.445 143.274 Q164.445 136.145 162.616 132.603 Q160.811 129.038 157.177 129.038 M157.177 125.335 Q162.987 125.335 166.042 129.941 Q169.121 134.524 169.121 143.274 Q169.121 152.001 166.042 156.608 Q162.987 161.191 157.177 161.191 Q151.366 161.191 148.288 156.608 Q145.232 152.001 145.232 143.274 Q145.232 134.524 148.288 129.941 Q151.366 125.335 157.177 125.335 Z\" fill=\"#000000\" fill-rule=\"evenodd\" fill-opacity=\"1\" /><path clip-path=\"url(#clip430)\" d=\"M187.338 129.038 Q183.727 129.038 181.899 132.603 Q180.093 136.145 180.093 143.274 Q180.093 150.381 181.899 153.946 Q183.727 157.487 187.338 157.487 Q190.973 157.487 192.778 153.946 Q194.607 150.381 194.607 143.274 Q194.607 136.145 192.778 132.603 Q190.973 129.038 187.338 129.038 M187.338 125.335 Q193.149 125.335 196.204 129.941 Q199.283 134.524 199.283 143.274 Q199.283 152.001 196.204 156.608 Q193.149 161.191 187.338 161.191 Q181.528 161.191 178.45 156.608 Q175.394 152.001 175.394 143.274 Q175.394 134.524 178.45 129.941 Q181.528 125.335 187.338 125.335 Z\" fill=\"#000000\" fill-rule=\"evenodd\" fill-opacity=\"1\" /><path clip-path=\"url(#clip430)\" d=\"M33.8307 1090.93 Q33.2578 1091.91 33.0032 1093.09 Q32.7167 1094.24 32.7167 1095.64 Q32.7167 1100.6 35.9632 1103.28 Q39.1779 1105.92 45.2253 1105.92 L64.0042 1105.92 L64.0042 1111.81 L28.3562 1111.81 L28.3562 1105.92 L33.8944 1105.92 Q30.6479 1104.07 29.0883 1101.11 Q27.4968 1098.15 27.4968 1093.92 Q27.4968 1093.31 27.5923 1092.58 Q27.656 1091.85 27.8151 1090.96 L33.8307 1090.93 Z\" fill=\"#000000\" fill-rule=\"evenodd\" fill-opacity=\"1\" /><path clip-path=\"url(#clip430)\" d=\"M44.7161 1055.73 L47.5806 1055.73 L47.5806 1082.65 Q53.6281 1082.27 56.8109 1079.02 Q59.9619 1075.75 59.9619 1069.92 Q59.9619 1066.55 59.1344 1063.4 Q58.3069 1060.21 56.6518 1057.09 L62.1899 1057.09 Q63.5267 1060.24 64.227 1063.56 Q64.9272 1066.87 64.9272 1070.27 Q64.9272 1078.8 59.9619 1083.8 Q54.9967 1088.76 46.5303 1088.76 Q37.7774 1088.76 32.6531 1084.05 Q27.4968 1079.31 27.4968 1071.29 Q27.4968 1064.1 32.1438 1059.93 Q36.7589 1055.73 44.7161 1055.73 M42.9973 1061.58 Q38.1912 1061.65 35.3266 1064.29 Q32.4621 1066.9 32.4621 1071.23 Q32.4621 1076.13 35.2312 1079.09 Q38.0002 1082.02 43.0292 1082.46 L42.9973 1061.58 Z\" fill=\"#000000\" fill-rule=\"evenodd\" fill-opacity=\"1\" /><path clip-path=\"url(#clip430)\" d=\"M28.3562 1049.52 L28.3562 1043.66 L56.1743 1036.34 L28.3562 1029.05 L28.3562 1022.15 L56.1743 1014.83 L28.3562 1007.54 L28.3562 1001.68 L64.0042 1011.01 L64.0042 1017.91 L34.7856 1025.58 L64.0042 1033.29 L64.0042 1040.19 L28.3562 1049.52 Z\" fill=\"#000000\" fill-rule=\"evenodd\" fill-opacity=\"1\" /><path clip-path=\"url(#clip430)\" d=\"M46.0847 976.6 Q46.0847 983.697 47.7079 986.435 Q49.3312 989.172 53.2461 989.172 Q56.3653 989.172 58.2114 987.135 Q60.0256 985.066 60.0256 981.533 Q60.0256 976.663 56.5881 973.735 Q53.1188 970.775 47.3897 970.775 L46.0847 970.775 L46.0847 976.6 M43.6657 964.918 L64.0042 964.918 L64.0042 970.775 L58.5933 970.775 Q61.8398 972.78 63.3994 975.772 Q64.9272 978.764 64.9272 983.093 Q64.9272 988.567 61.8716 991.814 Q58.7843 995.028 53.6281 995.028 Q47.6125 995.028 44.5569 991.018 Q41.5014 986.976 41.5014 978.987 L41.5014 970.775 L40.9285 970.775 Q36.8862 970.775 34.6901 973.449 Q32.4621 976.09 32.4621 980.896 Q32.4621 983.952 33.1941 986.848 Q33.9262 989.745 35.3903 992.418 L29.9795 992.418 Q28.7381 989.204 28.1334 986.18 Q27.4968 983.156 27.4968 980.292 Q27.4968 972.557 31.5072 968.738 Q35.5176 964.918 43.6657 964.918 Z\" fill=\"#000000\" fill-rule=\"evenodd\" fill-opacity=\"1\" /><path clip-path=\"url(#clip430)\" d=\"M33.8307 932.199 Q33.2578 933.185 33.0032 934.363 Q32.7167 935.509 32.7167 936.909 Q32.7167 941.875 35.9632 944.548 Q39.1779 947.19 45.2253 947.19 L64.0042 947.19 L64.0042 953.078 L28.3562 953.078 L28.3562 947.19 L33.8944 947.19 Q30.6479 945.344 29.0883 942.384 Q27.4968 939.424 27.4968 935.191 Q27.4968 934.586 27.5923 933.854 Q27.656 933.122 27.8151 932.231 L33.8307 932.199 Z\" fill=\"#000000\" fill-rule=\"evenodd\" fill-opacity=\"1\" /><path clip-path=\"url(#clip430)\" d=\"M33.7671 903.744 L14.479 903.744 L14.479 897.888 L64.0042 897.888 L64.0042 903.744 L58.657 903.744 Q61.8398 905.59 63.3994 908.423 Q64.9272 911.224 64.9272 915.17 Q64.9272 921.632 59.771 925.706 Q54.6147 929.748 46.212 929.748 Q37.8093 929.748 32.6531 925.706 Q27.4968 921.632 27.4968 915.17 Q27.4968 911.224 29.0564 908.423 Q30.5842 905.59 33.7671 903.744 M46.212 923.701 Q52.6732 923.701 56.3653 921.059 Q60.0256 918.385 60.0256 913.738 Q60.0256 909.091 56.3653 906.418 Q52.6732 903.744 46.212 903.744 Q39.7508 903.744 36.0905 906.418 Q32.3984 909.091 32.3984 913.738 Q32.3984 918.385 36.0905 921.059 Q39.7508 923.701 46.212 923.701 Z\" fill=\"#000000\" fill-rule=\"evenodd\" fill-opacity=\"1\" /><path clip-path=\"url(#clip430)\" d=\"M14.5426 851.036 Q21.8632 855.301 29.0246 857.37 Q36.186 859.439 43.5384 859.439 Q50.8908 859.439 58.1159 857.37 Q65.3091 855.269 72.5979 851.036 L72.5979 856.129 Q65.1182 860.903 57.8931 863.29 Q50.668 865.645 43.5384 865.645 Q36.4406 865.645 29.2474 863.29 Q22.0542 860.935 14.5426 856.129 L14.5426 851.036 Z\" fill=\"#000000\" fill-rule=\"evenodd\" fill-opacity=\"1\" /><path clip-path=\"url(#clip430)\" d=\"M58.5933 837.732 L58.5933 827.228 L22.3406 827.228 L24.6323 838.655 L18.7758 838.655 L16.4842 827.292 L16.4842 820.863 L58.5933 820.863 L58.5933 810.359 L64.0042 810.359 L64.0042 837.732 L58.5933 837.732 Z\" fill=\"#000000\" fill-rule=\"evenodd\" fill-opacity=\"1\" /><path clip-path=\"url(#clip430)\" d=\"M20.7174 783.623 Q20.7174 788.588 25.6189 791.103 Q30.4887 793.585 40.2919 793.585 Q50.0633 793.585 54.9649 791.103 Q59.8346 788.588 59.8346 783.623 Q59.8346 778.626 54.9649 776.143 Q50.0633 773.629 40.2919 773.629 Q30.4887 773.629 25.6189 776.143 Q20.7174 778.626 20.7174 783.623 M15.6248 783.623 Q15.6248 775.634 21.9587 771.433 Q28.2607 767.2 40.2919 767.2 Q52.2913 767.2 58.6251 771.433 Q64.9272 775.634 64.9272 783.623 Q64.9272 791.612 58.6251 795.845 Q52.2913 800.047 40.2919 800.047 Q28.2607 800.047 21.9587 795.845 Q15.6248 791.612 15.6248 783.623 Z\" fill=\"#000000\" fill-rule=\"evenodd\" fill-opacity=\"1\" /><path clip-path=\"url(#clip430)\" d=\"M20.7174 742.151 Q20.7174 747.116 25.6189 749.63 Q30.4887 752.113 40.2919 752.113 Q50.0633 752.113 54.9649 749.63 Q59.8346 747.116 59.8346 742.151 Q59.8346 737.154 54.9649 734.671 Q50.0633 732.156 40.2919 732.156 Q30.4887 732.156 25.6189 734.671 Q20.7174 737.154 20.7174 742.151 M15.6248 742.151 Q15.6248 734.162 21.9587 729.96 Q28.2607 725.727 40.2919 725.727 Q52.2913 725.727 58.6251 729.96 Q64.9272 734.162 64.9272 742.151 Q64.9272 750.14 58.6251 754.373 Q52.2913 758.574 40.2919 758.574 Q28.2607 758.574 21.9587 754.373 Q15.6248 750.14 15.6248 742.151 Z\" fill=\"#000000\" fill-rule=\"evenodd\" fill-opacity=\"1\" /><path clip-path=\"url(#clip430)\" d=\"M18.2347 688.742 L28.3562 688.742 L28.3562 676.679 L32.9077 676.679 L32.9077 688.742 L52.2594 688.742 Q56.6199 688.742 57.8613 687.565 Q59.1026 686.355 59.1026 682.695 L59.1026 676.679 L64.0042 676.679 L64.0042 682.695 Q64.0042 689.474 61.4897 692.052 Q58.9434 694.631 52.2594 694.631 L32.9077 694.631 L32.9077 698.927 L28.3562 698.927 L28.3562 694.631 L18.2347 694.631 L18.2347 688.742 Z\" fill=\"#000000\" fill-rule=\"evenodd\" fill-opacity=\"1\" /><path clip-path=\"url(#clip430)\" d=\"M28.3562 668.977 L28.3562 663.12 L64.0042 663.12 L64.0042 668.977 L28.3562 668.977 M14.479 668.977 L14.479 663.12 L21.895 663.12 L21.895 668.977 L14.479 668.977 Z\" fill=\"#000000\" fill-rule=\"evenodd\" fill-opacity=\"1\" /><path clip-path=\"url(#clip430)\" d=\"M35.1993 623.112 Q31.2526 620.916 29.3747 617.86 Q27.4968 614.805 27.4968 610.667 Q27.4968 605.097 31.4117 602.073 Q35.2948 599.05 42.4881 599.05 L64.0042 599.05 L64.0042 604.938 L42.679 604.938 Q37.5546 604.938 35.072 606.752 Q32.5894 608.566 32.5894 612.29 Q32.5894 616.842 35.6131 619.483 Q38.6368 622.125 43.8567 622.125 L64.0042 622.125 L64.0042 628.013 L42.679 628.013 Q37.5228 628.013 35.072 629.828 Q32.5894 631.642 32.5894 635.43 Q32.5894 639.917 35.6449 642.559 Q38.6686 645.201 43.8567 645.201 L64.0042 645.201 L64.0042 651.089 L28.3562 651.089 L28.3562 645.201 L33.8944 645.201 Q30.616 643.196 29.0564 640.395 Q27.4968 637.594 27.4968 633.743 Q27.4968 629.86 29.4702 627.154 Q31.4436 624.417 35.1993 623.112 Z\" fill=\"#000000\" fill-rule=\"evenodd\" fill-opacity=\"1\" /><path clip-path=\"url(#clip430)\" d=\"M44.7161 556.877 L47.5806 556.877 L47.5806 583.804 Q53.6281 583.422 56.8109 580.175 Q59.9619 576.897 59.9619 571.072 Q59.9619 567.698 59.1344 564.547 Q58.3069 561.365 56.6518 558.245 L62.1899 558.245 Q63.5267 561.396 64.227 564.707 Q64.9272 568.017 64.9272 571.422 Q64.9272 579.952 59.9619 584.949 Q54.9967 589.915 46.5303 589.915 Q37.7774 589.915 32.6531 585.204 Q27.4968 580.462 27.4968 572.441 Q27.4968 565.248 32.1438 561.078 Q36.7589 556.877 44.7161 556.877 M42.9973 562.733 Q38.1912 562.797 35.3266 565.439 Q32.4621 568.049 32.4621 572.377 Q32.4621 577.279 35.2312 580.239 Q38.0002 583.167 43.0292 583.613 L42.9973 562.733 Z\" fill=\"#000000\" fill-rule=\"evenodd\" fill-opacity=\"1\" /><path clip-path=\"url(#clip430)\" d=\"M29.4065 524.539 L34.9447 524.539 Q33.6716 527.022 33.035 529.695 Q32.3984 532.369 32.3984 535.233 Q32.3984 539.594 33.7352 541.79 Q35.072 543.954 37.7456 543.954 Q39.7826 543.954 40.9603 542.395 Q42.1061 540.835 43.1565 536.124 L43.6021 534.119 Q44.9389 527.881 47.3897 525.271 Q49.8086 522.629 54.1691 522.629 Q59.1344 522.629 62.0308 526.576 Q64.9272 530.491 64.9272 537.366 Q64.9272 540.23 64.3543 543.35 Q63.8132 546.437 62.6992 549.874 L56.6518 549.874 Q58.3387 546.628 59.198 543.477 Q60.0256 540.326 60.0256 537.238 Q60.0256 533.101 58.6251 530.873 Q57.1929 528.645 54.6147 528.645 Q52.2276 528.645 50.9545 530.268 Q49.6813 531.859 48.5037 537.302 L48.0262 539.339 Q46.8804 544.782 44.5251 547.201 Q42.138 549.62 38.0002 549.62 Q32.9713 549.62 30.2341 546.055 Q27.4968 542.49 27.4968 535.934 Q27.4968 532.687 27.9743 529.822 Q28.4517 526.958 29.4065 524.539 Z\" fill=\"#000000\" fill-rule=\"evenodd\" fill-opacity=\"1\" /><path clip-path=\"url(#clip430)\" d=\"M18.2347 507.511 L28.3562 507.511 L28.3562 495.448 L32.9077 495.448 L32.9077 507.511 L52.2594 507.511 Q56.6199 507.511 57.8613 506.333 Q59.1026 505.124 59.1026 501.463 L59.1026 495.448 L64.0042 495.448 L64.0042 501.463 Q64.0042 508.243 61.4897 510.821 Q58.9434 513.399 52.2594 513.399 L32.9077 513.399 L32.9077 517.696 L28.3562 517.696 L28.3562 513.399 L18.2347 513.399 L18.2347 507.511 Z\" fill=\"#000000\" fill-rule=\"evenodd\" fill-opacity=\"1\" /><path clip-path=\"url(#clip430)\" d=\"M44.7161 457.253 L47.5806 457.253 L47.5806 484.18 Q53.6281 483.798 56.8109 480.552 Q59.9619 477.274 59.9619 471.449 Q59.9619 468.075 59.1344 464.924 Q58.3069 461.741 56.6518 458.622 L62.1899 458.622 Q63.5267 461.773 64.227 465.083 Q64.9272 468.393 64.9272 471.799 Q64.9272 480.329 59.9619 485.326 Q54.9967 490.291 46.5303 490.291 Q37.7774 490.291 32.6531 485.581 Q27.4968 480.838 27.4968 472.818 Q27.4968 465.624 32.1438 461.455 Q36.7589 457.253 44.7161 457.253 M42.9973 463.11 Q38.1912 463.173 35.3266 465.815 Q32.4621 468.425 32.4621 472.754 Q32.4621 477.655 35.2312 480.616 Q38.0002 483.544 43.0292 483.989 L42.9973 463.11 Z\" fill=\"#000000\" fill-rule=\"evenodd\" fill-opacity=\"1\" /><path clip-path=\"url(#clip430)\" d=\"M58.657 441.976 L77.5631 441.976 L77.5631 447.864 L28.3562 447.864 L28.3562 441.976 L33.7671 441.976 Q30.5842 440.13 29.0564 437.329 Q27.4968 434.496 27.4968 430.581 Q27.4968 424.088 32.6531 420.046 Q37.8093 415.972 46.212 415.972 Q54.6147 415.972 59.771 420.046 Q64.9272 424.088 64.9272 430.581 Q64.9272 434.496 63.3994 437.329 Q61.8398 440.13 58.657 441.976 M46.212 422.051 Q39.7508 422.051 36.0905 424.725 Q32.3984 427.366 32.3984 432.013 Q32.3984 436.66 36.0905 439.334 Q39.7508 441.976 46.212 441.976 Q52.6732 441.976 56.3653 439.334 Q60.0256 436.66 60.0256 432.013 Q60.0256 427.366 56.3653 424.725 Q52.6732 422.051 46.212 422.051 Z\" fill=\"#000000\" fill-rule=\"evenodd\" fill-opacity=\"1\" /><path clip-path=\"url(#clip430)\" d=\"M29.4065 383.539 L34.9447 383.539 Q33.6716 386.021 33.035 388.695 Q32.3984 391.368 32.3984 394.233 Q32.3984 398.593 33.7352 400.79 Q35.072 402.954 37.7456 402.954 Q39.7826 402.954 40.9603 401.394 Q42.1061 399.835 43.1565 395.124 L43.6021 393.119 Q44.9389 386.881 47.3897 384.271 Q49.8086 381.629 54.1691 381.629 Q59.1344 381.629 62.0308 385.576 Q64.9272 389.49 64.9272 396.365 Q64.9272 399.23 64.3543 402.349 Q63.8132 405.437 62.6992 408.874 L56.6518 408.874 Q58.3387 405.628 59.198 402.476 Q60.0256 399.325 60.0256 396.238 Q60.0256 392.1 58.6251 389.872 Q57.1929 387.644 54.6147 387.644 Q52.2276 387.644 50.9545 389.268 Q49.6813 390.859 48.5037 396.302 L48.0262 398.339 Q46.8804 403.781 44.5251 406.2 Q42.138 408.619 38.0002 408.619 Q32.9713 408.619 30.2341 405.055 Q27.4968 401.49 27.4968 394.933 Q27.4968 391.687 27.9743 388.822 Q28.4517 385.957 29.4065 383.539 Z\" fill=\"#000000\" fill-rule=\"evenodd\" fill-opacity=\"1\" /><path clip-path=\"url(#clip430)\" d=\"M14.5426 373.226 L14.5426 368.133 Q22.0542 363.359 29.2474 361.004 Q36.4406 358.617 43.5384 358.617 Q50.668 358.617 57.8931 361.004 Q65.1182 363.359 72.5979 368.133 L72.5979 373.226 Q65.3091 368.993 58.1159 366.924 Q50.8908 364.823 43.5384 364.823 Q36.186 364.823 29.0246 366.924 Q21.8632 368.993 14.5426 373.226 Z\" fill=\"#000000\" fill-rule=\"evenodd\" fill-opacity=\"1\" /><circle clip-path=\"url(#clip432)\" cx=\"295.211\" cy=\"635.278\" r=\"14.4\" fill=\"#009af9\" fill-rule=\"evenodd\" fill-opacity=\"1\" stroke=\"#000000\" stroke-opacity=\"1\" stroke-width=\"3.2\"/>\n",
       "<circle clip-path=\"url(#clip432)\" cx=\"1294.02\" cy=\"506.869\" r=\"14.4\" fill=\"#009af9\" fill-rule=\"evenodd\" fill-opacity=\"1\" stroke=\"#000000\" stroke-opacity=\"1\" stroke-width=\"3.2\"/>\n",
       "<circle clip-path=\"url(#clip432)\" cx=\"2292.83\" cy=\"599.348\" r=\"14.4\" fill=\"#009af9\" fill-rule=\"evenodd\" fill-opacity=\"1\" stroke=\"#000000\" stroke-opacity=\"1\" stroke-width=\"3.2\"/>\n",
       "<circle clip-path=\"url(#clip432)\" cx=\"295.211\" cy=\"383.228\" r=\"14.4\" fill=\"#e26f46\" fill-rule=\"evenodd\" fill-opacity=\"1\" stroke=\"#000000\" stroke-opacity=\"1\" stroke-width=\"3.2\"/>\n",
       "<circle clip-path=\"url(#clip432)\" cx=\"1294.02\" cy=\"276.567\" r=\"14.4\" fill=\"#e26f46\" fill-rule=\"evenodd\" fill-opacity=\"1\" stroke=\"#000000\" stroke-opacity=\"1\" stroke-width=\"3.2\"/>\n",
       "<circle clip-path=\"url(#clip432)\" cx=\"2292.83\" cy=\"393.895\" r=\"14.4\" fill=\"#e26f46\" fill-rule=\"evenodd\" fill-opacity=\"1\" stroke=\"#000000\" stroke-opacity=\"1\" stroke-width=\"3.2\"/>\n",
       "<path clip-path=\"url(#clip430)\" d=\"\n",
       "M1871.37 248.629 L2282.17 248.629 L2282.17 93.1086 L1871.37 93.1086  Z\n",
       "  \" fill=\"#ffffff\" fill-rule=\"evenodd\" fill-opacity=\"1\"/>\n",
       "<polyline clip-path=\"url(#clip430)\" style=\"stroke:#000000; stroke-linecap:round; stroke-linejoin:round; stroke-width:4; stroke-opacity:1; fill:none\" points=\"\n",
       "  1871.37,248.629 2282.17,248.629 2282.17,93.1086 1871.37,93.1086 1871.37,248.629 \n",
       "  \"/>\n",
       "<circle clip-path=\"url(#clip430)\" cx=\"1965.48\" cy=\"144.949\" r=\"23.04\" fill=\"#009af9\" fill-rule=\"evenodd\" fill-opacity=\"1\" stroke=\"#000000\" stroke-opacity=\"1\" stroke-width=\"5.12\"/>\n",
       "<path clip-path=\"url(#clip430)\" d=\"M2074.77 140.284 Q2074.05 139.868 2073.2 139.682 Q2072.36 139.474 2071.35 139.474 Q2067.74 139.474 2065.79 141.835 Q2063.87 144.173 2063.87 148.571 L2063.87 162.229 L2059.59 162.229 L2059.59 136.303 L2063.87 136.303 L2063.87 140.331 Q2065.21 137.969 2067.36 136.835 Q2069.52 135.678 2072.6 135.678 Q2073.04 135.678 2073.57 135.747 Q2074.1 135.794 2074.75 135.909 L2074.77 140.284 Z\" fill=\"#000000\" fill-rule=\"evenodd\" fill-opacity=\"1\" /><path clip-path=\"url(#clip430)\" d=\"M2091.02 149.196 Q2085.86 149.196 2083.87 150.377 Q2081.88 151.557 2081.88 154.405 Q2081.88 156.673 2083.36 158.016 Q2084.86 159.335 2087.43 159.335 Q2090.98 159.335 2093.11 156.835 Q2095.26 154.312 2095.26 150.145 L2095.26 149.196 L2091.02 149.196 M2099.52 147.437 L2099.52 162.229 L2095.26 162.229 L2095.26 158.293 Q2093.8 160.655 2091.62 161.789 Q2089.45 162.9 2086.3 162.9 Q2082.32 162.9 2079.96 160.678 Q2077.62 158.432 2077.62 154.682 Q2077.62 150.307 2080.54 148.085 Q2083.48 145.863 2089.29 145.863 L2095.26 145.863 L2095.26 145.446 Q2095.26 142.507 2093.31 140.909 Q2091.39 139.289 2087.9 139.289 Q2085.67 139.289 2083.57 139.821 Q2081.46 140.354 2079.52 141.419 L2079.52 137.483 Q2081.86 136.581 2084.05 136.141 Q2086.25 135.678 2088.34 135.678 Q2093.96 135.678 2096.74 138.594 Q2099.52 141.511 2099.52 147.437 Z\" fill=\"#000000\" fill-rule=\"evenodd\" fill-opacity=\"1\" /><path clip-path=\"url(#clip430)\" d=\"M2129.84 146.581 L2129.84 162.229 L2125.58 162.229 L2125.58 146.719 Q2125.58 143.039 2124.15 141.21 Q2122.71 139.382 2119.84 139.382 Q2116.39 139.382 2114.4 141.581 Q2112.41 143.78 2112.41 147.576 L2112.41 162.229 L2108.13 162.229 L2108.13 136.303 L2112.41 136.303 L2112.41 140.331 Q2113.94 137.993 2116 136.835 Q2118.08 135.678 2120.79 135.678 Q2125.26 135.678 2127.55 138.456 Q2129.84 141.21 2129.84 146.581 Z\" fill=\"#000000\" fill-rule=\"evenodd\" fill-opacity=\"1\" /><path clip-path=\"url(#clip430)\" d=\"M2155.4 140.238 L2155.4 126.21 L2159.66 126.21 L2159.66 162.229 L2155.4 162.229 L2155.4 158.34 Q2154.05 160.655 2151.99 161.789 Q2149.96 162.9 2147.09 162.9 Q2142.39 162.9 2139.42 159.15 Q2136.48 155.4 2136.48 149.289 Q2136.48 143.178 2139.42 139.428 Q2142.39 135.678 2147.09 135.678 Q2149.96 135.678 2151.99 136.812 Q2154.05 137.923 2155.4 140.238 M2140.88 149.289 Q2140.88 153.988 2142.8 156.673 Q2144.75 159.335 2148.13 159.335 Q2151.51 159.335 2153.45 156.673 Q2155.4 153.988 2155.4 149.289 Q2155.4 144.59 2153.45 141.928 Q2151.51 139.243 2148.13 139.243 Q2144.75 139.243 2142.8 141.928 Q2140.88 144.59 2140.88 149.289 Z\" fill=\"#000000\" fill-rule=\"evenodd\" fill-opacity=\"1\" /><path clip-path=\"url(#clip430)\" d=\"M2178.48 139.289 Q2175.05 139.289 2173.06 141.974 Q2171.07 144.636 2171.07 149.289 Q2171.07 153.942 2173.04 156.627 Q2175.03 159.289 2178.48 159.289 Q2181.88 159.289 2183.87 156.604 Q2185.86 153.918 2185.86 149.289 Q2185.86 144.682 2183.87 141.997 Q2181.88 139.289 2178.48 139.289 M2178.48 135.678 Q2184.03 135.678 2187.2 139.289 Q2190.37 142.9 2190.37 149.289 Q2190.37 155.655 2187.2 159.289 Q2184.03 162.9 2178.48 162.9 Q2172.9 162.9 2169.73 159.289 Q2166.58 155.655 2166.58 149.289 Q2166.58 142.9 2169.73 139.289 Q2172.9 135.678 2178.48 135.678 Z\" fill=\"#000000\" fill-rule=\"evenodd\" fill-opacity=\"1\" /><path clip-path=\"url(#clip430)\" d=\"M2217.62 141.28 Q2219.22 138.409 2221.44 137.044 Q2223.66 135.678 2226.67 135.678 Q2230.72 135.678 2232.92 138.525 Q2235.12 141.349 2235.12 146.581 L2235.12 162.229 L2230.84 162.229 L2230.84 146.719 Q2230.84 142.993 2229.52 141.187 Q2228.2 139.382 2225.49 139.382 Q2222.18 139.382 2220.26 141.581 Q2218.34 143.78 2218.34 147.576 L2218.34 162.229 L2214.05 162.229 L2214.05 146.719 Q2214.05 142.969 2212.73 141.187 Q2211.41 139.382 2208.66 139.382 Q2205.4 139.382 2203.48 141.604 Q2201.55 143.803 2201.55 147.576 L2201.55 162.229 L2197.27 162.229 L2197.27 136.303 L2201.55 136.303 L2201.55 140.331 Q2203.01 137.946 2205.05 136.812 Q2207.09 135.678 2209.89 135.678 Q2212.71 135.678 2214.68 137.113 Q2216.67 138.548 2217.62 141.28 Z\" fill=\"#000000\" fill-rule=\"evenodd\" fill-opacity=\"1\" /><circle clip-path=\"url(#clip430)\" cx=\"1965.48\" cy=\"196.789\" r=\"23.04\" fill=\"#e26f46\" fill-rule=\"evenodd\" fill-opacity=\"1\" stroke=\"#000000\" stroke-opacity=\"1\" stroke-width=\"5.12\"/>\n",
       "<path clip-path=\"url(#clip430)\" d=\"M2064.26 183.351 L2064.26 196.337 L2070.14 196.337 Q2073.41 196.337 2075.19 194.647 Q2076.97 192.958 2076.97 189.833 Q2076.97 186.731 2075.19 185.041 Q2073.41 183.351 2070.14 183.351 L2064.26 183.351 M2059.59 179.509 L2070.14 179.509 Q2075.95 179.509 2078.92 182.147 Q2081.9 184.763 2081.9 189.833 Q2081.9 194.948 2078.92 197.564 Q2075.95 200.18 2070.14 200.18 L2064.26 200.18 L2064.26 214.069 L2059.59 214.069 L2059.59 179.509 Z\" fill=\"#000000\" fill-rule=\"evenodd\" fill-opacity=\"1\" /><path clip-path=\"url(#clip430)\" d=\"M2102.2 182.68 Q2097.11 182.68 2094.1 186.476 Q2091.11 190.272 2091.11 196.823 Q2091.11 203.351 2094.1 207.147 Q2097.11 210.944 2102.2 210.944 Q2107.3 210.944 2110.26 207.147 Q2113.24 203.351 2113.24 196.823 Q2113.24 190.272 2110.26 186.476 Q2107.3 182.68 2102.2 182.68 M2102.2 178.884 Q2109.47 178.884 2113.82 183.768 Q2118.17 188.629 2118.17 196.823 Q2118.17 204.995 2113.82 209.879 Q2109.47 214.74 2102.2 214.74 Q2094.91 214.74 2090.54 209.879 Q2086.18 205.018 2086.18 196.823 Q2086.18 188.629 2090.54 183.768 Q2094.91 178.884 2102.2 178.884 Z\" fill=\"#000000\" fill-rule=\"evenodd\" fill-opacity=\"1\" /><path clip-path=\"url(#clip430)\" d=\"M2125.49 179.509 L2132.46 179.509 L2141.28 203.027 L2150.14 179.509 L2157.11 179.509 L2157.11 214.069 L2152.55 214.069 L2152.55 183.722 L2143.64 207.425 L2138.94 207.425 L2130.03 183.722 L2130.03 214.069 L2125.49 214.069 L2125.49 179.509 Z\" fill=\"#000000\" fill-rule=\"evenodd\" fill-opacity=\"1\" /><path clip-path=\"url(#clip430)\" d=\"M2192.27 182.171 L2192.27 187.101 Q2189.91 184.902 2187.23 183.814 Q2184.56 182.726 2181.55 182.726 Q2175.63 182.726 2172.48 186.36 Q2169.33 189.972 2169.33 196.823 Q2169.33 203.652 2172.48 207.286 Q2175.63 210.897 2181.55 210.897 Q2184.56 210.897 2187.23 209.809 Q2189.91 208.721 2192.27 206.522 L2192.27 211.407 Q2189.82 213.073 2187.06 213.907 Q2184.33 214.74 2181.28 214.74 Q2173.43 214.74 2168.92 209.948 Q2164.4 205.133 2164.4 196.823 Q2164.4 188.49 2168.92 183.698 Q2173.43 178.884 2181.28 178.884 Q2184.38 178.884 2187.11 179.717 Q2189.86 180.527 2192.27 182.171 Z\" fill=\"#000000\" fill-rule=\"evenodd\" fill-opacity=\"1\" /><path clip-path=\"url(#clip430)\" d=\"M2204.17 183.351 L2204.17 196.337 L2210.05 196.337 Q2213.31 196.337 2215.1 194.647 Q2216.88 192.958 2216.88 189.833 Q2216.88 186.731 2215.1 185.041 Q2213.31 183.351 2210.05 183.351 L2204.17 183.351 M2199.49 179.509 L2210.05 179.509 Q2215.86 179.509 2218.82 182.147 Q2221.81 184.763 2221.81 189.833 Q2221.81 194.948 2218.82 197.564 Q2215.86 200.18 2210.05 200.18 L2204.17 200.18 L2204.17 214.069 L2199.49 214.069 L2199.49 179.509 Z\" fill=\"#000000\" fill-rule=\"evenodd\" fill-opacity=\"1\" /></svg>\n"
      ]
     },
     "execution_count": 75,
     "metadata": {},
     "output_type": "execute_result"
    }
   ],
   "source": [
    "fig = plot(1:iters, [random_R,POMCPOW_R], \n",
    "    seriestype = :scatter, \n",
    "    label=[\"random\" \"POMCP\"], \n",
    "    xticks = 0:1:iters,\n",
    "    xlabel = \"run\",\n",
    "    ylabel = \"reward (\" * string(steps) * \" timesteps)\",\n",
    "    ylims = (0,maximum(POMCPOW_R)*1.2)\n",
    ")\n",
    "# savefig(fig,\"./plots/reward_ID\"*string(expID)*\"_step\"*string(steps)*\"_roll\"*string(iters)*\".png\")"
   ]
  },
  {
   "cell_type": "code",
   "execution_count": null,
   "metadata": {},
   "outputs": [],
   "source": []
  }
 ],
 "metadata": {
  "kernelspec": {
   "display_name": "Julia 1.8.1",
   "language": "julia",
   "name": "julia-1.8"
  },
  "language_info": {
   "file_extension": ".jl",
   "mimetype": "application/julia",
   "name": "julia",
   "version": "1.8.1"
  }
 },
 "nbformat": 4,
 "nbformat_minor": 2
}
