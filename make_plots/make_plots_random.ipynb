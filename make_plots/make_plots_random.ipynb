{
 "cells": [
  {
   "cell_type": "code",
   "execution_count": 1,
   "metadata": {},
   "outputs": [],
   "source": [
    "using Plots, Statistics, NaNStatistics, LinearAlgebra, Serialization, ParticleFilters, StatsBase\n",
    "\n",
    "include(\"../utils/import.jl\")\n",
    "using .Import\n",
    "using ..Import: State\n",
    "\n",
    "include(\"../utils/figs.jl\")\n",
    "using .Figs"
   ]
  },
  {
   "cell_type": "markdown",
   "metadata": {},
   "source": [
    "# Experiments\n",
    "\n",
    "## Conditions\n",
    "\n",
    "**Active Teacher Selection (ATS):** Solve using an approximate POMDP solver (POMCPOW).\n",
    "\n",
    "**Random:** Select actions randomly. \n",
    "\n",
    "**Passive Teacher Selection:** Decide when to select an arm and when to query a teacher using an approximate POMDP solver, but select teacher to query randomly."
   ]
  },
  {
   "cell_type": "markdown",
   "metadata": {},
   "source": [
    "# Plots\n",
    "## Set Parameters\n",
    "### Experiment Names"
   ]
  },
  {
   "cell_type": "code",
   "execution_count": 2,
   "metadata": {},
   "outputs": [],
   "source": [
    "# ATS\n",
    "pomdp_expIDs = [\"22128_\"*x for x in [\"051526\", \"055025\", \"06251\", \"07242\", \"075856\", \"083337\", \"09080\", \"100546\", \"10400\", \"113044\", \"120617\", \"130613\", \"13588\", \"143446\", \"15378\", \"161233\", \"164944\", \"174134\", \"184340\", \"192058\"]]\n",
    "\n",
    "# Random\n",
    "random_expIDs1 = [\"base_rand_act_22127_\"*x for x in [\"195414\", \"210743\", \"212754\", \"220210\", \"222350\", \"225925\", \"232037\", \"234123\"]]\n",
    "random_expIDs2 = [\"base_rand_act_22128_\"*x for x in [\"002527\", \"00453\", \"010439\", \"013758\", \"015719\", \"021655\", \"02377\", \"030644\", \"033715\", \"035652\", \"042637\", \"044617\"]]\n",
    "random_expIDs = cat(random_expIDs1, random_expIDs2, dims=1)\n",
    "\n",
    "# Passive\n",
    "passive_expIDs1 = [\"base_rand_B_22127_\"*x for x in [\"195418\", \"210747\", \"212758\", \"220214\", \"222355\", \"225929\", \"232041\", \"234127\"]]\n",
    "passive_expIDs2 = [\"base_rand_B_22128_\"*x for x in [\"002530\", \"00457\", \"010443\", \"01382\", \"015722\", \"021659\", \"023711\", \"030648\", \"033718\", \"035655\", \"042641\", \"044621\"]]\n",
    "passive_expIDs = cat(passive_expIDs1, passive_expIDs2, dims=1)\n",
    ";"
   ]
  },
  {
   "cell_type": "markdown",
   "metadata": {},
   "source": [
    "### Experiment Parameters"
   ]
  },
  {
   "cell_type": "code",
   "execution_count": 3,
   "metadata": {},
   "outputs": [],
   "source": [
    "runs = 25\n",
    "actions = [\"C1\", \"C2\", \"C3\", \"B1\", \"B2\", \"B3\"]\n",
    "pomdp_name, random_name, passive_name = \"ATS\", \"Random\", \"Passive\";"
   ]
  },
  {
   "cell_type": "markdown",
   "metadata": {},
   "source": [
    "### Plotting Parameters"
   ]
  },
  {
   "cell_type": "code",
   "execution_count": 4,
   "metadata": {},
   "outputs": [],
   "source": [
    "window = 100\n",
    "labels = [pomdp_name random_name passive_name];"
   ]
  },
  {
   "cell_type": "markdown",
   "metadata": {},
   "source": [
    "## Import Data"
   ]
  },
  {
   "cell_type": "markdown",
   "metadata": {},
   "source": [
    "### Import ATS experiments"
   ]
  },
  {
   "cell_type": "code",
   "execution_count": 5,
   "metadata": {},
   "outputs": [
    {
     "name": "stdout",
     "output_type": "stream",
     "text": [
      "importing exp=ATS 1 (exp 22128_051526) data...\n",
      "  0.233718 seconds (788.32 k allocations: 45.612 MiB, 95.26% compilation time)\n",
      "importing exp=ATS 2 (exp 22128_055025) data...\n",
      "  0.009439 seconds (101.97 k allocations: 10.202 MiB)\n",
      "importing exp=ATS 3 (exp 22128_06251) data...\n",
      "  0.009710 seconds (101.97 k allocations: 10.198 MiB)\n",
      "importing exp=ATS 4 (exp 22128_07242) data...\n",
      "  0.009633 seconds (101.97 k allocations: 10.211 MiB)\n",
      "importing exp=ATS 5 (exp 22128_075856) data...\n",
      "  0.009139 seconds (101.97 k allocations: 10.213 MiB)\n"
     ]
    }
   ],
   "source": [
    "@time begin\n",
    "    println(\"importing exp=\"*string(pomdp_name)*\" 1 (exp \"*pomdp_expIDs[1]*\") data...\")\n",
    "    s_p1, t_p1, a_p1, r_p1 = Import.get_star(pomdp_expIDs[1], runs, \"..\")\n",
    "end\n",
    "@time begin\n",
    "    println(\"importing exp=\"*string(pomdp_name)*\" 2 (exp \"*pomdp_expIDs[2]*\") data...\")\n",
    "    s_p2, t_p2, a_p2, r_p2 = Import.get_star(pomdp_expIDs[2], runs, \"..\")\n",
    "end\n",
    "@time begin\n",
    "    println(\"importing exp=\"*string(pomdp_name)*\" 3 (exp \"*pomdp_expIDs[3]*\") data...\")\n",
    "    s_p3, t_p3, a_p3, r_p3 = Import.get_star(pomdp_expIDs[3], runs, \"..\")\n",
    "end\n",
    "@time begin\n",
    "    println(\"importing exp=\"*string(pomdp_name)*\" 4 (exp \"*pomdp_expIDs[4]*\") data...\")\n",
    "    s_p4, t_p4, a_p4, r_p4 = Import.get_star(pomdp_expIDs[4], runs, \"..\")\n",
    "end\n",
    "@time begin\n",
    "    println(\"importing exp=\"*string(pomdp_name)*\" 5 (exp \"*pomdp_expIDs[5]*\") data...\")\n",
    "    s_p5, t_p5, a_p5, r_p5 = Import.get_star(pomdp_expIDs[5], runs, \"..\")\n",
    "end\n",
    ";"
   ]
  },
  {
   "cell_type": "code",
   "execution_count": 6,
   "metadata": {},
   "outputs": [
    {
     "name": "stdout",
     "output_type": "stream",
     "text": [
      "importing exp=ATS 6 (exp 22128_083337) data...\n",
      "  0.025518 seconds (101.97 k allocations: 10.279 MiB, 62.66% gc time)\n",
      "importing exp=ATS 7 (exp 22128_09080) data...\n",
      "  0.009114 seconds (101.97 k allocations: 10.199 MiB)\n",
      "importing exp=ATS 8 (exp 22128_100546) data...\n",
      "  0.009591 seconds (101.97 k allocations: 10.284 MiB)\n",
      "importing exp=ATS 9 (exp 22128_10400) data...\n",
      "  0.009374 seconds (101.97 k allocations: 10.285 MiB)\n",
      "importing exp=ATS 10 (exp 22128_113044) data...\n",
      "  0.009738 seconds (102.07 k allocations: 10.210 MiB)\n"
     ]
    }
   ],
   "source": [
    "@time begin\n",
    "    println(\"importing exp=\"*string(pomdp_name)*\" 6 (exp \"*pomdp_expIDs[6]*\") data...\")\n",
    "    s_p6, t_p6, a_p6, r_p6 = Import.get_star(pomdp_expIDs[6], runs, \"..\")\n",
    "end\n",
    "@time begin\n",
    "    println(\"importing exp=\"*string(pomdp_name)*\" 7 (exp \"*pomdp_expIDs[7]*\") data...\")\n",
    "    s_p7, t_p7, a_p7, r_p7 = Import.get_star(pomdp_expIDs[7], runs, \"..\")\n",
    "end\n",
    "@time begin\n",
    "    println(\"importing exp=\"*string(pomdp_name)*\" 8 (exp \"*pomdp_expIDs[8]*\") data...\")\n",
    "    s_p8, t_p8, a_p8, r_p8 = Import.get_star(pomdp_expIDs[8], runs, \"..\")\n",
    "end\n",
    "@time begin\n",
    "    println(\"importing exp=\"*string(pomdp_name)*\" 9 (exp \"*pomdp_expIDs[9]*\") data...\")\n",
    "    s_p9, t_p9, a_p9, r_p9 = Import.get_star(pomdp_expIDs[9], runs, \"..\")\n",
    "end\n",
    "@time begin\n",
    "    println(\"importing exp=\"*string(pomdp_name)*\" 10 (exp \"*pomdp_expIDs[10]*\") data...\")\n",
    "    s_p10, t_p10, a_p10, r_p10 = Import.get_star(pomdp_expIDs[10], runs, \"..\")\n",
    "end\n",
    ";"
   ]
  },
  {
   "cell_type": "code",
   "execution_count": 7,
   "metadata": {},
   "outputs": [
    {
     "name": "stdout",
     "output_type": "stream",
     "text": [
      "importing exp=ATS 11 (exp 22128_120617) data...\n",
      "  0.009526 seconds (101.97 k allocations: 10.202 MiB)\n",
      "importing exp=ATS 12 (exp 22128_130613) data...\n",
      "  0.009099 seconds (101.97 k allocations: 10.201 MiB)\n",
      "importing exp=ATS 13 (exp 22128_13588) data...\n",
      "  0.009445 seconds (101.97 k allocations: 10.285 MiB)\n",
      "importing exp=ATS 14 (exp 22128_143446) data...\n",
      "  0.009259 seconds (101.97 k allocations: 10.205 MiB)\n",
      "importing exp=ATS 15 (exp 22128_15378) data...\n",
      "  0.009271 seconds (101.97 k allocations: 10.211 MiB)\n"
     ]
    }
   ],
   "source": [
    "@time begin\n",
    "    println(\"importing exp=\"*string(pomdp_name)*\" 11 (exp \"*pomdp_expIDs[11]*\") data...\")\n",
    "    s_p11, t_p11, a_p11, r_p11 = Import.get_star(pomdp_expIDs[11], runs, \"..\")\n",
    "end\n",
    "@time begin\n",
    "    println(\"importing exp=\"*string(pomdp_name)*\" 12 (exp \"*pomdp_expIDs[12]*\") data...\")\n",
    "    s_p12, t_p12, a_p12, r_p12 = Import.get_star(pomdp_expIDs[12], runs, \"..\")\n",
    "end\n",
    "@time begin\n",
    "    println(\"importing exp=\"*string(pomdp_name)*\" 13 (exp \"*pomdp_expIDs[13]*\") data...\")\n",
    "    s_p13, t_p13, a_p13, r_p13, = Import.get_star(pomdp_expIDs[13], runs, \"..\")\n",
    "end\n",
    "@time begin\n",
    "    println(\"importing exp=\"*string(pomdp_name)*\" 14 (exp \"*pomdp_expIDs[14]*\") data...\")\n",
    "    s_p14, t_p14, a_p14, r_p14 = Import.get_star(pomdp_expIDs[14], runs, \"..\")\n",
    "end\n",
    "@time begin\n",
    "    println(\"importing exp=\"*string(pomdp_name)*\" 15 (exp \"*pomdp_expIDs[15]*\") data...\")\n",
    "    s_p15, t_p15, a_p15, r_p15 = Import.get_star(pomdp_expIDs[15], runs, \"..\")\n",
    "end\n",
    ";"
   ]
  },
  {
   "cell_type": "code",
   "execution_count": 8,
   "metadata": {},
   "outputs": [
    {
     "name": "stdout",
     "output_type": "stream",
     "text": [
      "importing exp=ATS 16 (exp 22128_161233) data...\n",
      "  0.025372 seconds (101.97 k allocations: 10.213 MiB, 63.32% gc time)\n",
      "importing exp=ATS 17 (exp 22128_164944) data...\n",
      "  0.009429 seconds (101.97 k allocations: 10.206 MiB)\n",
      "importing exp=ATS 18 (exp 22128_174134) data...\n",
      "  0.009344 seconds (101.97 k allocations: 10.287 MiB)\n",
      "importing exp=ATS 19 (exp 22128_184340) data...\n",
      "  0.009043 seconds (101.97 k allocations: 10.200 MiB)\n",
      "importing exp=ATS 20 (exp 22128_192058) data...\n",
      "  0.009565 seconds (101.97 k allocations: 10.283 MiB)\n"
     ]
    }
   ],
   "source": [
    "@time begin\n",
    "    println(\"importing exp=\"*string(pomdp_name)*\" 16 (exp \"*pomdp_expIDs[16]*\") data...\")\n",
    "    s_p16, t_p16, a_p16, r_p16 = Import.get_star(pomdp_expIDs[16], runs, \"..\")\n",
    "end\n",
    "@time begin\n",
    "    println(\"importing exp=\"*string(pomdp_name)*\" 17 (exp \"*pomdp_expIDs[17]*\") data...\")\n",
    "    s_p17, t_p17, a_p17, r_p17 = Import.get_star(pomdp_expIDs[17], runs, \"..\")\n",
    "end\n",
    "@time begin\n",
    "    println(\"importing exp=\"*string(pomdp_name)*\" 18 (exp \"*pomdp_expIDs[18]*\") data...\")\n",
    "    s_p18, t_p18, a_p18, r_p18 = Import.get_star(pomdp_expIDs[18], runs, \"..\")\n",
    "end\n",
    "@time begin\n",
    "    println(\"importing exp=\"*string(pomdp_name)*\" 19 (exp \"*pomdp_expIDs[19]*\") data...\")\n",
    "    s_p19, t_p19, a_p19, r_p19 = Import.get_star(pomdp_expIDs[19], runs, \"..\")\n",
    "end\n",
    "@time begin\n",
    "    println(\"importing exp=\"*string(pomdp_name)*\" 20 (exp \"*pomdp_expIDs[20]*\") data...\")\n",
    "    s_p20, t_p20, a_p20, r_p20 = Import.get_star(pomdp_expIDs[20], runs, \"..\")\n",
    "end\n",
    ";"
   ]
  },
  {
   "cell_type": "markdown",
   "metadata": {},
   "source": [
    "### Import Random experiments"
   ]
  },
  {
   "cell_type": "code",
   "execution_count": 9,
   "metadata": {},
   "outputs": [
    {
     "name": "stdout",
     "output_type": "stream",
     "text": [
      "importing exp=Random 1 (exp base_rand_act_22127_195414) data...\n",
      "  0.012657 seconds (101.99 k allocations: 10.290 MiB)\n",
      "importing exp=Random 2 (exp base_rand_act_22127_210743) data...\n",
      "  0.012533 seconds (101.99 k allocations: 10.291 MiB)\n",
      "importing exp=Random 3 (exp base_rand_act_22127_212754) data...\n",
      "  0.011749 seconds (102.09 k allocations: 10.300 MiB)\n",
      "importing exp=Random 4 (exp base_rand_act_22127_220210) data...\n",
      "  0.011528 seconds (101.99 k allocations: 10.289 MiB)\n",
      "importing exp=Random 5 (exp base_rand_act_22127_222350) data...\n",
      "  0.011124 seconds (101.99 k allocations: 10.290 MiB)\n"
     ]
    }
   ],
   "source": [
    "@time begin\n",
    "    println(\"importing exp=\"*string(random_name)*\" 1 (exp \"*random_expIDs[1]*\") data...\")\n",
    "    s_r1, t_r1, a_r1, r_r1 = Import.get_star(random_expIDs[1], runs, \"..\")\n",
    "end\n",
    "@time begin\n",
    "    println(\"importing exp=\"*string(random_name)*\" 2 (exp \"*random_expIDs[2]*\") data...\")\n",
    "    s_r2, t_r2, a_r2, r_r2 = Import.get_star(random_expIDs[2], runs, \"..\")\n",
    "end\n",
    "@time begin\n",
    "    println(\"importing exp=\"*string(random_name)*\" 3 (exp \"*random_expIDs[3]*\") data...\")\n",
    "    s_r3, t_r3, a_r3, r_r3 = Import.get_star(random_expIDs[3], runs, \"..\")\n",
    "end\n",
    "@time begin\n",
    "    println(\"importing exp=\"*string(random_name)*\" 4 (exp \"*random_expIDs[4]*\") data...\")\n",
    "    s_r4, t_r4, a_r4, r_r4 = Import.get_star(random_expIDs[4], runs, \"..\")\n",
    "end\n",
    "@time begin\n",
    "    println(\"importing exp=\"*string(random_name)*\" 5 (exp \"*random_expIDs[5]*\") data...\")\n",
    "    s_r5, t_r5, a_r5, r_r5 = Import.get_star(random_expIDs[5], runs, \"..\")\n",
    "end\n",
    ";"
   ]
  },
  {
   "cell_type": "code",
   "execution_count": 10,
   "metadata": {},
   "outputs": [
    {
     "name": "stdout",
     "output_type": "stream",
     "text": [
      "importing exp=Random 6 (exp base_rand_act_22127_225925) data...\n",
      "  0.029394 seconds (101.99 k allocations: 10.318 MiB, 59.16% gc time)\n",
      "importing exp=Random 7 (exp base_rand_act_22127_232037) data...\n",
      "  0.011372 seconds (101.99 k allocations: 10.290 MiB)\n",
      "importing exp=Random 8 (exp base_rand_act_22127_234123) data...\n",
      "  0.011114 seconds (101.99 k allocations: 10.320 MiB)\n",
      "importing exp=Random 9 (exp base_rand_act_22128_002527) data...\n",
      "  0.011029 seconds (101.99 k allocations: 10.320 MiB)\n",
      "importing exp=Random 10 (exp base_rand_act_22128_00453) data...\n",
      "  0.011398 seconds (101.99 k allocations: 10.290 MiB)\n"
     ]
    }
   ],
   "source": [
    "@time begin\n",
    "    println(\"importing exp=\"*string(random_name)*\" 6 (exp \"*random_expIDs[6]*\") data...\")\n",
    "    s_r6, t_r6, a_r6, r_r6 = Import.get_star(random_expIDs[6], runs, \"..\")\n",
    "end\n",
    "@time begin\n",
    "    println(\"importing exp=\"*string(random_name)*\" 7 (exp \"*random_expIDs[7]*\") data...\")\n",
    "    s_r7, t_r7, a_r7, r_r7 = Import.get_star(random_expIDs[7], runs, \"..\")\n",
    "end\n",
    "@time begin\n",
    "    println(\"importing exp=\"*string(random_name)*\" 8 (exp \"*random_expIDs[8]*\") data...\")\n",
    "    s_r8, t_r8, a_r8, r_r8 = Import.get_star(random_expIDs[8], runs, \"..\")\n",
    "end\n",
    "@time begin\n",
    "    println(\"importing exp=\"*string(random_name)*\" 9 (exp \"*random_expIDs[9]*\") data...\")\n",
    "    s_r9, t_r9, a_r9, r_r9 = Import.get_star(random_expIDs[9], runs, \"..\")\n",
    "end\n",
    "@time begin\n",
    "    println(\"importing exp=\"*string(random_name)*\" 10 (exp \"*random_expIDs[10]*\") data...\")\n",
    "    s_r10, t_r10, a_r10, r_r10 = Import.get_star(random_expIDs[10], runs, \"..\")\n",
    "end\n",
    ";"
   ]
  },
  {
   "cell_type": "code",
   "execution_count": 11,
   "metadata": {},
   "outputs": [
    {
     "name": "stdout",
     "output_type": "stream",
     "text": [
      "importing exp=Random 11 (exp base_rand_act_22128_010439) data...\n",
      "  0.011668 seconds (101.99 k allocations: 10.291 MiB)\n",
      "importing exp=Random 12 (exp base_rand_act_22128_013758) data...\n",
      "  0.011489 seconds (101.99 k allocations: 10.291 MiB)\n",
      "importing exp=Random 13 (exp base_rand_act_22128_015719) data...\n",
      "  0.011207 seconds (101.99 k allocations: 10.318 MiB)\n",
      "importing exp=Random 14 (exp base_rand_act_22128_021655) data...\n",
      "  0.011165 seconds (101.99 k allocations: 10.290 MiB)\n",
      "importing exp=Random 15 (exp base_rand_act_22128_02377) data...\n",
      "  0.011456 seconds (101.99 k allocations: 10.292 MiB)\n"
     ]
    }
   ],
   "source": [
    "@time begin\n",
    "    println(\"importing exp=\"*string(random_name)*\" 11 (exp \"*random_expIDs[11]*\") data...\")\n",
    "    s_r11, t_r11, a_r11, r_r11 = Import.get_star(random_expIDs[11], runs, \"..\")\n",
    "end\n",
    "@time begin\n",
    "    println(\"importing exp=\"*string(random_name)*\" 12 (exp \"*random_expIDs[12]*\") data...\")\n",
    "    s_r12, t_r12, a_r12, r_r12 = Import.get_star(random_expIDs[12], runs, \"..\")\n",
    "end\n",
    "@time begin\n",
    "    println(\"importing exp=\"*string(random_name)*\" 13 (exp \"*random_expIDs[13]*\") data...\")\n",
    "    s_r13, t_r13, a_r13, r_r13 = Import.get_star(random_expIDs[13], runs, \"..\")\n",
    "end\n",
    "@time begin\n",
    "    println(\"importing exp=\"*string(random_name)*\" 14 (exp \"*random_expIDs[14]*\") data...\")\n",
    "    s_r14, t_r14, a_r14, r_r14 = Import.get_star(random_expIDs[14], runs, \"..\")\n",
    "end\n",
    "@time begin\n",
    "    println(\"importing exp=\"*string(random_name)*\" 15 (exp \"*random_expIDs[15]*\") data...\")\n",
    "    s_r15, t_r15, a_r15, r_r15 = Import.get_star(random_expIDs[15], runs, \"..\")\n",
    "end\n",
    ";"
   ]
  },
  {
   "cell_type": "code",
   "execution_count": 12,
   "metadata": {},
   "outputs": [
    {
     "name": "stdout",
     "output_type": "stream",
     "text": [
      "importing exp=Random 16 (exp base_rand_act_22128_030644) data...\n",
      "  0.026461 seconds (101.99 k allocations: 10.290 MiB, 56.81% gc time)\n",
      "importing exp=Random 17 (exp base_rand_act_22128_033715) data...\n",
      "  0.010750 seconds (101.99 k allocations: 10.289 MiB)\n",
      "importing exp=Random 18 (exp base_rand_act_22128_035652) data...\n",
      "  0.011115 seconds (101.99 k allocations: 10.319 MiB)\n",
      "importing exp=Random 19 (exp base_rand_act_22128_042637) data...\n",
      "  0.011598 seconds (102.09 k allocations: 10.301 MiB)\n",
      "importing exp=Random 20 (exp base_rand_act_22128_044617) data...\n",
      "  0.011213 seconds (101.99 k allocations: 10.319 MiB)\n"
     ]
    }
   ],
   "source": [
    "@time begin\n",
    "    println(\"importing exp=\"*string(random_name)*\" 16 (exp \"*random_expIDs[16]*\") data...\")\n",
    "    s_r16, t_r16, a_r16, r_r16 = Import.get_star(random_expIDs[16], runs, \"..\")\n",
    "end\n",
    "@time begin\n",
    "    println(\"importing exp=\"*string(random_name)*\" 17 (exp \"*random_expIDs[17]*\") data...\")\n",
    "    s_r17, t_r17, a_r17, r_r17 = Import.get_star(random_expIDs[17], runs, \"..\")\n",
    "end\n",
    "@time begin\n",
    "    println(\"importing exp=\"*string(random_name)*\" 18 (exp \"*random_expIDs[18]*\") data...\")\n",
    "    s_r18, t_r18, a_r18, r_r18 = Import.get_star(random_expIDs[18], runs, \"..\")\n",
    "end\n",
    "@time begin\n",
    "    println(\"importing exp=\"*string(random_name)*\" 19 (exp \"*random_expIDs[19]*\") data...\")\n",
    "    s_r19, t_r19, a_r19, r_r19 = Import.get_star(random_expIDs[19], runs, \"..\")\n",
    "end\n",
    "@time begin\n",
    "    println(\"importing exp=\"*string(random_name)*\" 20 (exp \"*random_expIDs[20]*\") data...\")\n",
    "    s_r20, t_r20, a_r20, r_r20 = Import.get_star(random_expIDs[20], runs, \"..\")\n",
    "end\n",
    ";"
   ]
  },
  {
   "cell_type": "markdown",
   "metadata": {},
   "source": [
    "### Import Passive experiments"
   ]
  },
  {
   "cell_type": "code",
   "execution_count": 13,
   "metadata": {},
   "outputs": [
    {
     "name": "stdout",
     "output_type": "stream",
     "text": [
      "importing exp=Passive 1 (exp base_rand_B_22127_195418) data...\n",
      "  0.012756 seconds (101.99 k allocations: 10.212 MiB)\n",
      "importing exp=Passive 2 (exp base_rand_B_22127_210747) data...\n",
      "  0.012554 seconds (101.99 k allocations: 10.208 MiB)\n",
      "importing exp=Passive 3 (exp base_rand_B_22127_212758) data...\n",
      "  0.012779 seconds (102.09 k allocations: 10.216 MiB)\n",
      "importing exp=Passive 4 (exp base_rand_B_22127_220214) data...\n",
      "  0.012369 seconds (101.99 k allocations: 10.211 MiB)\n",
      "importing exp=Passive 5 (exp base_rand_B_22127_222355) data...\n",
      "  0.013330 seconds (101.99 k allocations: 10.212 MiB)\n"
     ]
    }
   ],
   "source": [
    "@time begin\n",
    "    println(\"importing exp=\"*string(passive_name)*\" 1 (exp \"*passive_expIDs[1]*\") data...\")\n",
    "    s_pa1, t_pa1, a_pa1, r_pa1 = Import.get_star(passive_expIDs[1], runs, \"..\")\n",
    "end\n",
    "@time begin\n",
    "    println(\"importing exp=\"*string(passive_name)*\" 2 (exp \"*passive_expIDs[2]*\") data...\")\n",
    "    s_pa2, t_pa2, a_pa2, r_pa2 = Import.get_star(passive_expIDs[2], runs, \"..\")\n",
    "end\n",
    "@time begin\n",
    "    println(\"importing exp=\"*string(passive_name)*\" 3 (exp \"*passive_expIDs[3]*\") data...\")\n",
    "    s_pa3, t_pa3, a_pa3, r_pa3 = Import.get_star(passive_expIDs[3], runs, \"..\")\n",
    "end\n",
    "@time begin\n",
    "    println(\"importing exp=\"*string(passive_name)*\" 4 (exp \"*passive_expIDs[4]*\") data...\")\n",
    "    s_pa4, t_pa4, a_pa4, r_pa4 = Import.get_star(passive_expIDs[4], runs, \"..\")\n",
    "end\n",
    "@time begin\n",
    "    println(\"importing exp=\"*string(passive_name)*\" 5 (exp \"*passive_expIDs[5]*\") data...\")\n",
    "    s_pa5, t_pa5, a_pa5, r_pa5 = Import.get_star(passive_expIDs[5], runs, \"..\")\n",
    "end\n",
    ";"
   ]
  },
  {
   "cell_type": "code",
   "execution_count": 14,
   "metadata": {},
   "outputs": [
    {
     "name": "stdout",
     "output_type": "stream",
     "text": [
      "importing exp=Passive 6 (exp base_rand_B_22127_225929) data...\n",
      "  0.012488 seconds (101.99 k allocations: 10.274 MiB)\n",
      "importing exp=Passive 7 (exp base_rand_B_22127_232041) data...\n",
      "  0.030203 seconds (102.09 k allocations: 10.216 MiB, 53.95% gc time)\n",
      "importing exp=Passive 8 (exp base_rand_B_22127_234127) data...\n",
      "  0.012992 seconds (101.99 k allocations: 10.276 MiB)\n",
      "importing exp=Passive 9 (exp base_rand_B_22128_002530) data...\n",
      "  0.012375 seconds (101.99 k allocations: 10.272 MiB)\n",
      "importing exp=Passive 10 (exp base_rand_B_22128_00457) data...\n",
      "  0.012525 seconds (101.99 k allocations: 10.209 MiB)\n"
     ]
    }
   ],
   "source": [
    "@time begin\n",
    "    println(\"importing exp=\"*string(passive_name)*\" 6 (exp \"*passive_expIDs[6]*\") data...\")\n",
    "    s_pa6, t_pa6, a_pa6, r_pa6 = Import.get_star(passive_expIDs[6], runs, \"..\")\n",
    "end\n",
    "@time begin\n",
    "    println(\"importing exp=\"*string(passive_name)*\" 7 (exp \"*passive_expIDs[7]*\") data...\")\n",
    "    s_pa7, t_pa7, a_pa7, r_pa7 = Import.get_star(passive_expIDs[7], runs, \"..\")\n",
    "end\n",
    "@time begin\n",
    "    println(\"importing exp=\"*string(passive_name)*\" 8 (exp \"*passive_expIDs[8]*\") data...\")\n",
    "    s_pa8, t_pa8, a_pa8, r_pa8 = Import.get_star(passive_expIDs[8], runs, \"..\")\n",
    "end\n",
    "@time begin\n",
    "    println(\"importing exp=\"*string(passive_name)*\" 9 (exp \"*passive_expIDs[9]*\") data...\")\n",
    "    s_pa9, t_pa9, a_pa9, r_pa9 = Import.get_star(passive_expIDs[9], runs, \"..\")\n",
    "end\n",
    "@time begin\n",
    "    println(\"importing exp=\"*string(passive_name)*\" 10 (exp \"*passive_expIDs[10]*\") data...\")\n",
    "    s_pa10, t_pa10, a_pa10, r_pa10 = Import.get_star(passive_expIDs[10], runs, \"..\")\n",
    "end\n",
    ";"
   ]
  },
  {
   "cell_type": "code",
   "execution_count": 15,
   "metadata": {},
   "outputs": [
    {
     "name": "stdout",
     "output_type": "stream",
     "text": [
      "importing exp=Passive 11 (exp base_rand_B_22128_010443) data...\n",
      "  0.012285 seconds (101.99 k allocations: 10.208 MiB)\n",
      "importing exp=Passive 12 (exp base_rand_B_22128_01382) data...\n",
      "  0.012361 seconds (101.99 k allocations: 10.206 MiB)\n",
      "importing exp=Passive 13 (exp base_rand_B_22128_015722) data...\n",
      "  0.013108 seconds (101.99 k allocations: 10.275 MiB)\n",
      "importing exp=Passive 14 (exp base_rand_B_22128_021659) data...\n",
      "  0.013446 seconds (101.99 k allocations: 10.211 MiB)\n",
      "importing exp=Passive 15 (exp base_rand_B_22128_023711) data...\n",
      "  0.012500 seconds (101.99 k allocations: 10.213 MiB)\n"
     ]
    }
   ],
   "source": [
    "@time begin\n",
    "    println(\"importing exp=\"*string(passive_name)*\" 11 (exp \"*passive_expIDs[11]*\") data...\")\n",
    "    s_pa11, t_pa11, a_pa11, r_pa11 = Import.get_star(passive_expIDs[11], runs, \"..\")\n",
    "end\n",
    "@time begin\n",
    "    println(\"importing exp=\"*string(passive_name)*\" 12 (exp \"*passive_expIDs[12]*\") data...\")\n",
    "    s_pa12, t_pa12, a_pa12, r_pa12 = Import.get_star(passive_expIDs[12], runs, \"..\")\n",
    "end\n",
    "@time begin\n",
    "    println(\"importing exp=\"*string(passive_name)*\" 13 (exp \"*passive_expIDs[13]*\") data...\")\n",
    "    s_pa13, t_pa13, a_pa13, r_pa13 = Import.get_star(passive_expIDs[13], runs, \"..\")\n",
    "end\n",
    "@time begin\n",
    "    println(\"importing exp=\"*string(passive_name)*\" 14 (exp \"*passive_expIDs[14]*\") data...\")\n",
    "    s_pa14, t_pa14, a_pa14, r_pa14 = Import.get_star(passive_expIDs[14], runs, \"..\")\n",
    "end\n",
    "@time begin\n",
    "    println(\"importing exp=\"*string(passive_name)*\" 15 (exp \"*passive_expIDs[15]*\") data...\")\n",
    "    s_pa15, t_pa15, a_pa15, r_pa15 = Import.get_star(passive_expIDs[15], runs, \"..\")\n",
    "end\n",
    ";"
   ]
  },
  {
   "cell_type": "code",
   "execution_count": 16,
   "metadata": {},
   "outputs": [
    {
     "name": "stdout",
     "output_type": "stream",
     "text": [
      "importing exp=Passive 16 (exp base_rand_B_22128_030648) data...\n",
      "  0.012740 seconds (101.99 k allocations: 10.212 MiB)\n",
      "importing exp=Passive 17 (exp base_rand_B_22128_033718) data...\n",
      "  0.012283 seconds (101.99 k allocations: 10.209 MiB)\n",
      "importing exp=Passive 18 (exp base_rand_B_22128_035655) data...\n",
      "  0.012674 seconds (101.99 k allocations: 10.272 MiB)\n",
      "importing exp=Passive 19 (exp base_rand_B_22128_042641) data...\n",
      "  0.012483 seconds (101.99 k allocations: 10.209 MiB)\n",
      "importing exp=Passive 20 (exp base_rand_B_22128_044621) data...\n",
      "  0.031709 seconds (101.99 k allocations: 10.273 MiB, 56.55% gc time)\n"
     ]
    }
   ],
   "source": [
    "@time begin\n",
    "    println(\"importing exp=\"*string(passive_name)*\" 16 (exp \"*passive_expIDs[16]*\") data...\")\n",
    "    s_pa16, t_pa16, a_pa16, r_pa16 = Import.get_star(passive_expIDs[16], runs, \"..\")\n",
    "end\n",
    "@time begin\n",
    "    println(\"importing exp=\"*string(passive_name)*\" 17 (exp \"*passive_expIDs[17]*\") data...\")\n",
    "    s_pa17, t_pa17, a_pa17, r_pa17 = Import.get_star(passive_expIDs[17], runs, \"..\")\n",
    "end\n",
    "@time begin\n",
    "    println(\"importing exp=\"*string(passive_name)*\" 18 (exp \"*passive_expIDs[18]*\") data...\")\n",
    "    s_pa18, t_pa18, a_pa18, r_pa18 = Import.get_star(passive_expIDs[18], runs, \"..\")\n",
    "end\n",
    "@time begin\n",
    "    println(\"importing exp=\"*string(passive_name)*\" 19 (exp \"*passive_expIDs[19]*\") data...\")\n",
    "    s_pa19, t_pa19, a_pa19, r_pa19 = Import.get_star(passive_expIDs[19], runs, \"..\")\n",
    "end\n",
    "@time begin\n",
    "    println(\"importing exp=\"*string(passive_name)*\" 20 (exp \"*passive_expIDs[20]*\") data...\")\n",
    "    s_pa20, t_pa20, a_pa20, r_pa20 = Import.get_star(passive_expIDs[20], runs, \"..\")\n",
    "end\n",
    ";"
   ]
  },
  {
   "cell_type": "code",
   "execution_count": 17,
   "metadata": {},
   "outputs": [],
   "source": [
    "# combine data across experiments for each condition\n",
    "t_p = t_p1\n",
    "s_p = [cat(s_p1, s_p2, s_p3, s_p4, s_p5, s_p6, s_p7, s_p8, s_p9, s_p10, s_p11, s_p12, s_p13, s_p14, s_p15, s_p16, s_p17, s_p18, s_p19, s_p20, dims=1)[runs*i] for i in 1:20]\n",
    "a_p = cat(a_p1, a_p2, a_p3, a_p4, a_p5, a_p6, a_p7, a_p8, a_p9, a_p10, a_p11, a_p12, a_p13, a_p14, a_p15, a_p16, a_p17, a_p18, a_p19, a_p20, dims=1)\n",
    "r_p = cat(r_p1, r_p2, r_p3, r_p4, r_p5, r_p6, r_p7, r_p8, r_p9, r_p10, r_p11, r_p12, r_p13, r_p14, r_p15, r_p16, r_p17, r_p18, r_p19, r_p20, dims=1)\n",
    "\n",
    "t_r = t_r1\n",
    "s_r = [cat(s_r1, s_r2, s_r3, s_r4, s_r5, s_r6, s_r7, s_r8, s_r9, s_r10, s_r11, s_r12, s_r13, s_r14, s_r15, s_r16, s_r17, s_r18, s_r19, s_r20, dims=1)[runs*i] for i in 1:20]\n",
    "a_r = cat(a_r1, a_r2, a_r3, a_r4, a_r5, a_r6, a_r7, a_r8, a_r9, a_r10, a_r11, a_r12, a_r13, a_r14, a_r15, a_r16, a_r17, a_r18, a_r19, a_r20, dims=1)\n",
    "r_r = cat(r_r1, r_r2, r_r3, r_r4, r_r5, r_r6, r_r7, r_r8, r_r9, r_r10, r_r11, r_r12, r_r13, r_r14, r_r15, r_r16, r_r17, r_r18, r_r19, r_r20, dims=1)\n",
    "\n",
    "t_pa = t_pa1\n",
    "s_pa = [cat(s_pa1, s_pa2, s_pa3, s_pa4, s_pa5, s_pa6, s_pa7, s_pa8, s_pa9, s_pa10, s_pa11, s_pa12, s_pa13, s_pa14, s_pa15, s_pa16, s_pa17, s_pa18, s_pa19, s_pa20, dims=1)[runs*i] for i in 1:20]\n",
    "a_pa = cat(a_pa1, a_pa2, a_pa3, a_pa4, a_pa5, a_pa6, a_pa7, a_pa8, a_pa9, a_pa10, a_pa11, a_pa12, a_pa13, a_pa14, a_pa15, a_pa16, a_pa17, a_pa18, a_pa19, a_pa20, dims=1)\n",
    "r_pa = cat(r_pa1, r_pa2, r_pa3, r_pa4, r_pa5, r_pa6, r_pa7, r_pa8, r_pa9, r_pa10, r_pa11, r_pa12, r_pa13, r_pa14, r_pa15, r_pa16, r_pa17, r_pa18, r_pa19, r_pa20, dims=1)\n",
    ";"
   ]
  },
  {
   "cell_type": "markdown",
   "metadata": {},
   "source": [
    "## Analysis\n",
    "### General"
   ]
  },
  {
   "cell_type": "code",
   "execution_count": 18,
   "metadata": {},
   "outputs": [
    {
     "data": {
      "text/plain": [
       "print_state (generic function with 1 method)"
      ]
     },
     "execution_count": 18,
     "metadata": {},
     "output_type": "execute_result"
    }
   ],
   "source": [
    "function print_state(s::State)\n",
    "    println(\"\\t u: \", s.u)\n",
    "    println(\"\\t d1: \", s.d[1], \"\\t (exp val \", dot(s.u, s.d[1]), \")\")\n",
    "    println(\"\\t d1: \", s.d[2], \"\\t (exp val \", dot(s.u, s.d[2]), \")\")\n",
    "    println(\"\\t d1: \", s.d[3], \"\\t (exp val \", dot(s.u, s.d[3]), \")\")\n",
    "end"
   ]
  },
  {
   "cell_type": "code",
   "execution_count": 19,
   "metadata": {},
   "outputs": [
    {
     "name": "stdout",
     "output_type": "stream",
     "text": [
      "** ATS condition **\n",
      "State 1:\n"
     ]
    },
    {
     "ename": "LoadError",
     "evalue": "UndefVarError: s_n not defined",
     "output_type": "error",
     "traceback": [
      "UndefVarError: s_n not defined",
      "",
      "Stacktrace:",
      " [1] top-level scope",
      "   @ ./In[19]:7",
      " [2] eval",
      "   @ ./boot.jl:368 [inlined]",
      " [3] include_string(mapexpr::typeof(REPL.softscope), mod::Module, code::String, filename::String)",
      "   @ Base ./loading.jl:1428"
     ]
    }
   ],
   "source": [
    "# all runs under a given expID have the same start state & optimal action\n",
    "println(\"** \"*pomdp_name*\" condition **\")\n",
    "for i in 1:length(pomdp_expIDs)\n",
    "    optimal_action, highest_R = Import.get_optimal_arm(s_p[i])\n",
    "\n",
    "    println(\"State \"*string(i)*\":\")\n",
    "    print_state(s_n[i])\n",
    "    println(\"Highest-Reward Arm:\\t\"*string(optimal_action)*\" (R=\"*string(highest_R)*\")\\n\")\n",
    "end\n",
    "println(\"** \"*random_name*\" condition **\")\n",
    "for i in 1:length(random_expIDs)\n",
    "    optimal_action, highest_R = Import.get_optimal_arm(s_r[i])\n",
    "    \n",
    "    println(\"State \"*string(i)*\":\")\n",
    "    print_state(s_r[i])\n",
    "    println(\"Highest-Reward Arm:\\t\"*string(optimal_action)*\" (R=\"*string(highest_R)*\")\\n\")\n",
    "end\n",
    "println(\"** \"*passive_name*\" condition **\")\n",
    "for i in 1:length(passive_expIDs)\n",
    "    optimal_action, highest_R = Import.get_optimal_arm(s_pa[i])\n",
    "    \n",
    "    println(\"State \"*string(i)*\":\")\n",
    "    print_state(s_pa[i])\n",
    "    println(\"Highest-Reward Arm:\\t\"*string(optimal_action)*\" (R=\"*string(highest_R)*\")\\n\")\n",
    "end"
   ]
  },
  {
   "cell_type": "code",
   "execution_count": null,
   "metadata": {},
   "outputs": [],
   "source": [
    "Figs.plot_avg_r_multiple_experiments([r_p, r_r, r_pa], window, labels, \"Average Reward\")"
   ]
  },
  {
   "cell_type": "code",
   "execution_count": null,
   "metadata": {},
   "outputs": [],
   "source": [
    "y = 0.999\n",
    "Figs.plot_cumulative_avg_r_multiple_experiments([r_p, r_r, r_pa], y, labels, \"Cumulative Discounted (y=\"*string(y)*\") Reward\")"
   ]
  },
  {
   "cell_type": "markdown",
   "metadata": {},
   "source": [
    "## Action Distributions"
   ]
  },
  {
   "cell_type": "code",
   "execution_count": null,
   "metadata": {},
   "outputs": [],
   "source": [
    "Figs.plot_avg_r_multiple_experiments([r_p, r_r, r_pa], window, labels, \"Average Reward\")"
   ]
  },
  {
   "cell_type": "code",
   "execution_count": null,
   "metadata": {},
   "outputs": [],
   "source": [
    "Figs.plot_proportion_actions_all(a_p, actions, window, \"exp=\"*pomdp_name*\" Actions\")"
   ]
  },
  {
   "cell_type": "code",
   "execution_count": null,
   "metadata": {},
   "outputs": [],
   "source": [
    "Figs.plot_proportion_actions_all(a_r, actions, window, \"exp=\"*random_name*\" Actions\")"
   ]
  },
  {
   "cell_type": "code",
   "execution_count": null,
   "metadata": {},
   "outputs": [],
   "source": [
    "Figs.plot_proportion_actions_all(a_pa, actions, window, \"exp=\"*passive_name*\" Actions\")"
   ]
  }
 ],
 "metadata": {
  "kernelspec": {
   "display_name": "Julia 1.8.1",
   "language": "julia",
   "name": "julia-1.8"
  },
  "language_info": {
   "file_extension": ".jl",
   "mimetype": "application/julia",
   "name": "julia",
   "version": "1.8.1"
  }
 },
 "nbformat": 4,
 "nbformat_minor": 2
}
