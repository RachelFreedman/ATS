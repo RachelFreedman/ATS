{
 "cells": [
  {
   "cell_type": "code",
   "execution_count": 1,
   "metadata": {},
   "outputs": [],
   "source": [
    "using Plots, Statistics, NaNStatistics, LinearAlgebra, Serialization, ParticleFilters, StatsBase\n",
    "\n",
    "include(\"../utils/import.jl\")\n",
    "using .Import\n",
    "using ..Import: State\n",
    "\n",
    "include(\"../utils/figs.jl\")\n",
    "using .Figs"
   ]
  },
  {
   "cell_type": "markdown",
   "metadata": {},
   "source": [
    "# Experiments\n",
    "\n",
    "## Conditions\n",
    "\n",
    "**Active Teacher Selection (ATS):** Solve using an approximate POMDP solver (POMCPOW).\n",
    "\n",
    "**Naive:** Solve by selecting actions randomly for a fixed number of timesteps, making a frequentist estimation of the state, and then always selecting the arm with the highest estimated expected utility thereafter. \n",
    "\n",
    "## Run Script\n",
    "\n",
    "    experiment_scripts/run_exp_naive.sh:\n",
    "    julia baselines_naive.jl 3 3 0.9 7 7 5 1000 289506\n",
    "    julia baselines_naive.jl 3 3 0.9 7 7 5 1000 289513\n",
    "    julia baselines_naive.jl 3 3 0.9 7 7 5 1000 292312\n",
    "    julia baselines_naive.jl 3 3 0.9 7 7 5 1000 292319\n",
    "    julia ApproximatePOMDP.jl 3 3 0.9 7 7 5 1000 289506\n",
    "    julia ApproximatePOMDP.jl 3 3 0.9 7 7 5 1000 289513\n",
    "    julia ApproximatePOMDP.jl 3 3 0.9 7 7 5 1000 292312\n",
    "    julia ApproximatePOMDP.jl 3 3 0.9 7 7 5 1000 292319"
   ]
  },
  {
   "cell_type": "markdown",
   "metadata": {},
   "source": [
    "# Plots\n",
    "## Set Parameters\n",
    "### Experiment Names"
   ]
  },
  {
   "cell_type": "code",
   "execution_count": 2,
   "metadata": {},
   "outputs": [],
   "source": [
    "pomdp_expIDs = [\"221117_\"*x for x in [\"145355\", \"150543\", \"151923\", \"153210\"]]\n",
    "naive_expIDs = [\"base_naive_221128_\"*x for x in [\"143922\", \"143940\", \"143959\", \"144017\", \"144036\"]];"
   ]
  },
  {
   "cell_type": "markdown",
   "metadata": {},
   "source": [
    "### Experiment Parameters"
   ]
  },
  {
   "cell_type": "code",
   "execution_count": 3,
   "metadata": {},
   "outputs": [],
   "source": [
    "runs = 10\n",
    "actions = [\"C1\", \"C2\", \"C3\", \"B1\", \"B2\", \"B3\"]\n",
    "pomdp_name, naive_name = \"ATS\", \"Naive\";"
   ]
  },
  {
   "cell_type": "markdown",
   "metadata": {},
   "source": [
    "### Plotting Parameters"
   ]
  },
  {
   "cell_type": "code",
   "execution_count": 4,
   "metadata": {},
   "outputs": [],
   "source": [
    "window = 100\n",
    "labels = [pomdp_name naive_name];"
   ]
  },
  {
   "cell_type": "markdown",
   "metadata": {},
   "source": [
    "## Import Data"
   ]
  },
  {
   "cell_type": "code",
   "execution_count": 5,
   "metadata": {},
   "outputs": [
    {
     "name": "stdout",
     "output_type": "stream",
     "text": [
      "importing exp=ATS 1 (exp 221117_145355) data...\n"
     ]
    },
    {
     "ename": "LoadError",
     "evalue": "SystemError: opening file \"../sims/221117_145355_run6.txt\": No such file or directory",
     "output_type": "error",
     "traceback": [
      "SystemError: opening file \"../sims/221117_145355_run6.txt\": No such file or directory",
      "",
      "Stacktrace:",
      "  [1] systemerror(p::String, errno::Int32; extrainfo::Nothing)",
      "    @ Base ./error.jl:176",
      "  [2] #systemerror#80",
      "    @ ./error.jl:175 [inlined]",
      "  [3] systemerror",
      "    @ ./error.jl:175 [inlined]",
      "  [4] open(fname::String; lock::Bool, read::Bool, write::Nothing, create::Nothing, truncate::Nothing, append::Nothing)",
      "    @ Base ./iostream.jl:293",
      "  [5] open(fname::String, mode::String; lock::Bool)",
      "    @ Base ./iostream.jl:356",
      "  [6] open(fname::String, mode::String)",
      "    @ Base ./iostream.jl:355",
      "  [7] open(::Main.Import.var\"#9#19\", ::String, ::Vararg{String}; kwargs::Base.Pairs{Symbol, Union{}, Tuple{}, NamedTuple{(), Tuple{}}})",
      "    @ Base ./io.jl:382",
      "  [8] open",
      "    @ ./io.jl:381 [inlined]",
      "  [9] get_star(expID::String, runs::Int64, directory::String)",
      "    @ Main.Import ~/Documents/Workspaces/github workspace/ATS/utils/import.jl:47",
      " [10] import_experiment(expID::String, runs::Int64, directory::String)",
      "    @ Main.Import ~/Documents/Workspaces/github workspace/ATS/utils/import.jl:179",
      " [11] macro expansion",
      "    @ ./In[5]:4 [inlined]",
      " [12] top-level scope",
      "    @ ./timing.jl:262 [inlined]",
      " [13] top-level scope",
      "    @ ./In[5]:0",
      " [14] eval",
      "    @ ./boot.jl:368 [inlined]",
      " [15] include_string(mapexpr::typeof(REPL.softscope), mod::Module, code::String, filename::String)",
      "    @ Base ./loading.jl:1428"
     ]
    }
   ],
   "source": [
    "# takes ~3min\n",
    "@time begin\n",
    "    println(\"importing exp=\"*string(pomdp_name)*\" 1 (exp \"*pomdp_expIDs[1]*\") data...\")\n",
    "    s_p1, t_p1, a_p1, r_p1, beliefs_p1, final_states_p1, avg_belief_p1, avg_belief_u_p1 = Import.import_experiment(pomdp_expIDs[1], runs, \"..\")\n",
    "end\n",
    "@time begin\n",
    "    println(\"importing exp=\"*string(pomdp_name)*\" 2 (exp \"*pomdp_expIDs[2]*\") data...\")\n",
    "    s_p2, t_p2, a_p2, r_p2, beliefs_p2, final_states_p2, avg_belief_p2, avg_belief_u_p2 = Import.import_experiment(pomdp_expIDs[2], runs, \"..\")\n",
    "end\n",
    "@time begin\n",
    "    println(\"importing exp=\"*string(pomdp_name)*\" 3 (exp \"*pomdp_expIDs[3]*\") data...\")\n",
    "    s_p3, t_p3, a_p3, r_p3, beliefs_p3, final_states_p3, avg_belief_p3, avg_belief_u_p3 = Import.import_experiment(pomdp_expIDs[3], runs, \"..\")\n",
    "end\n",
    "@time begin\n",
    "    println(\"importing exp=\"*string(pomdp_name)*\" 4 (exp \"*pomdp_expIDs[4]*\") data...\")\n",
    "    s_p4, t_p4, a_p4, r_p4, beliefs_p4, final_states_p4, avg_belief_p4, avg_belief_u_p4 = Import.import_experiment(pomdp_expIDs[4], runs, \"..\")\n",
    "end\n",
    "@time begin\n",
    "    println(\"importing exp=\"*string(pomdp_name)*\" 5 (exp \"*pomdp_expIDs[5]*\") data...\")\n",
    "    s_p5, t_p5, a_p5, r_p5, beliefs_p5, final_states_p5, avg_belief_p5, avg_belief_u_p5 = Import.import_experiment(pomdp_expIDs[5], runs, \"..\")\n",
    "end;"
   ]
  },
  {
   "cell_type": "code",
   "execution_count": 6,
   "metadata": {},
   "outputs": [
    {
     "name": "stdout",
     "output_type": "stream",
     "text": [
      "importing exp=Naive 1 (exp base_naive_221117_145245) data...\n"
     ]
    },
    {
     "ename": "LoadError",
     "evalue": "SystemError: opening file \"../sims/base_naive_221117_145245_run6.txt\": No such file or directory",
     "output_type": "error",
     "traceback": [
      "SystemError: opening file \"../sims/base_naive_221117_145245_run6.txt\": No such file or directory",
      "",
      "Stacktrace:",
      "  [1] systemerror(p::String, errno::Int32; extrainfo::Nothing)",
      "    @ Base ./error.jl:176",
      "  [2] #systemerror#80",
      "    @ ./error.jl:175 [inlined]",
      "  [3] systemerror",
      "    @ ./error.jl:175 [inlined]",
      "  [4] open(fname::String; lock::Bool, read::Bool, write::Nothing, create::Nothing, truncate::Nothing, append::Nothing)",
      "    @ Base ./iostream.jl:293",
      "  [5] open(fname::String, mode::String; lock::Bool)",
      "    @ Base ./iostream.jl:356",
      "  [6] open(fname::String, mode::String)",
      "    @ Base ./iostream.jl:355",
      "  [7] open(::Main.Import.var\"#9#19\", ::String, ::Vararg{String}; kwargs::Base.Pairs{Symbol, Union{}, Tuple{}, NamedTuple{(), Tuple{}}})",
      "    @ Base ./io.jl:382",
      "  [8] open",
      "    @ ./io.jl:381 [inlined]",
      "  [9] get_star(expID::String, runs::Int64, directory::String)",
      "    @ Main.Import ~/Documents/Workspaces/github workspace/ATS/utils/import.jl:47",
      " [10] macro expansion",
      "    @ ./In[6]:3 [inlined]",
      " [11] top-level scope",
      "    @ ./timing.jl:262 [inlined]",
      " [12] top-level scope",
      "    @ ./In[6]:0",
      " [13] eval",
      "    @ ./boot.jl:368 [inlined]",
      " [14] include_string(mapexpr::typeof(REPL.softscope), mod::Module, code::String, filename::String)",
      "    @ Base ./loading.jl:1428"
     ]
    }
   ],
   "source": [
    "@time begin\n",
    "    println(\"importing exp=\"*string(naive_name)*\" 1 (exp \"*naive_expIDs[1]*\") data...\")\n",
    "    s_n1, t_n1, a_n1, r_n1 = Import.get_star(naive_expIDs[1], runs, \"..\")\n",
    "end\n",
    "@time begin\n",
    "    println(\"importing exp=\"*string(naive_name)*\" 2 (exp \"*naive_expIDs[2]*\") data...\")\n",
    "    s_n2, t_n2, a_n2, r_n2 = Import.get_star(naive_expIDs[2], runs, \"..\")\n",
    "end\n",
    "@time begin\n",
    "    println(\"importing exp=\"*string(naive_name)*\" 3 (exp \"*naive_expIDs[3]*\") data...\")\n",
    "    s_n3, t_n3, a_n3, r_n3 = Import.get_star(naive_expIDs[3], runs, \"..\")\n",
    "end\n",
    "@time begin\n",
    "    println(\"importing exp=\"*string(naive_name)*\" 4 (exp \"*naive_expIDs[4]*\") data...\")\n",
    "    s_n4, t_n4, a_n4, r_n4 = Import.get_star(naive_expIDs[4], runs, \"..\")\n",
    "end\n",
    "@time begin\n",
    "    println(\"importing exp=\"*string(naive_name)*\" 5 (exp \"*naive_expIDs[5]*\") data...\")\n",
    "    s_n5, t_n5, a_n5, r_n5 = Import.get_star(naive_expIDs[5], runs, \"..\")\n",
    "end;"
   ]
  },
  {
   "cell_type": "code",
   "execution_count": 7,
   "metadata": {},
   "outputs": [
    {
     "ename": "LoadError",
     "evalue": "UndefVarError: t_p1 not defined",
     "output_type": "error",
     "traceback": [
      "UndefVarError: t_p1 not defined",
      "",
      "Stacktrace:",
      " [1] top-level scope",
      "   @ In[7]:2",
      " [2] eval",
      "   @ ./boot.jl:368 [inlined]",
      " [3] include_string(mapexpr::typeof(REPL.softscope), mod::Module, code::String, filename::String)",
      "   @ Base ./loading.jl:1428"
     ]
    }
   ],
   "source": [
    "# combine data across experiments for each condition\n",
    "t_p = t_p1\n",
    "s_p = [cat(s_p1, s_p2, s_p3, s_p4, s_p5 dims=1)[runs*i] for i in 1:5]\n",
    "a_p = cat(a_p1, a_p2, a_p3, a_p4, a_p5, dims=1)\n",
    "r_p = cat(r_p1, r_p2, r_p3, r_p4, r_p5, dims=1)\n",
    "\n",
    "t_n = t_n1\n",
    "s_n = [cat(s_n1, s_n2, s_n3, s_n4, s_n5, dims=1)[runs*i] for i in 1:5]\n",
    "a_n = cat(a_n1, a_n2, a_n3, a_n4, s_n5, dims=1)\n",
    "r_n = cat(r_n1, r_n2, r_n3, r_n4, r_n5, dims=1)\n",
    ";"
   ]
  },
  {
   "cell_type": "markdown",
   "metadata": {},
   "source": [
    "## Analysis\n",
    "### General"
   ]
  },
  {
   "cell_type": "code",
   "execution_count": 8,
   "metadata": {},
   "outputs": [
    {
     "data": {
      "text/plain": [
       "print_state (generic function with 1 method)"
      ]
     },
     "execution_count": 8,
     "metadata": {},
     "output_type": "execute_result"
    }
   ],
   "source": [
    "function print_state(s::State)\n",
    "    println(\"\\t u: \", s.u)\n",
    "    println(\"\\t d1: \", s.d[1], \"\\t (exp val \", dot(s.u, s.d[1]), \")\")\n",
    "    println(\"\\t d1: \", s.d[2], \"\\t (exp val \", dot(s.u, s.d[2]), \")\")\n",
    "    println(\"\\t d1: \", s.d[3], \"\\t (exp val \", dot(s.u, s.d[3]), \")\")\n",
    "end"
   ]
  },
  {
   "cell_type": "code",
   "execution_count": 9,
   "metadata": {},
   "outputs": [
    {
     "name": "stdout",
     "output_type": "stream",
     "text": [
      "** ATS condition **\n"
     ]
    },
    {
     "ename": "LoadError",
     "evalue": "UndefVarError: s_p not defined",
     "output_type": "error",
     "traceback": [
      "UndefVarError: s_p not defined",
      "",
      "Stacktrace:",
      " [1] top-level scope",
      "   @ ./In[9]:4",
      " [2] eval",
      "   @ ./boot.jl:368 [inlined]",
      " [3] include_string(mapexpr::typeof(REPL.softscope), mod::Module, code::String, filename::String)",
      "   @ Base ./loading.jl:1428"
     ]
    }
   ],
   "source": [
    "# all runs under a given expID have the same start state & optimal action\n",
    "println(\"** \"*pomdp_name*\" condition **\")\n",
    "for i in 1:length(pomdp_expIDs)\n",
    "    optimal_action, highest_R = Import.get_optimal_arm(s_p[i])\n",
    "\n",
    "    println(\"State \"*string(i)*\":\")\n",
    "    print_state(s_n[i])\n",
    "    println(\"Highest-Reward Arm:\\t\"*string(optimal_action)*\" (R=\"*string(highest_R)*\")\\n\")\n",
    "end\n",
    "println(\"** \"*naive_name*\" condition **\")\n",
    "for i in 1:length(naive_expIDs)\n",
    "    optimal_action, highest_R = Import.get_optimal_arm(s_n[i])\n",
    "    \n",
    "    println(\"State \"*string(i)*\":\")\n",
    "    print_state(s_n[i])\n",
    "    println(\"Highest-Reward Arm:\\t\"*string(optimal_action)*\" (R=\"*string(highest_R)*\")\\n\")\n",
    "end"
   ]
  },
  {
   "cell_type": "code",
   "execution_count": 10,
   "metadata": {},
   "outputs": [
    {
     "ename": "LoadError",
     "evalue": "UndefVarError: r_p not defined",
     "output_type": "error",
     "traceback": [
      "UndefVarError: r_p not defined",
      "",
      "Stacktrace:",
      " [1] top-level scope",
      "   @ In[10]:1",
      " [2] eval",
      "   @ ./boot.jl:368 [inlined]",
      " [3] include_string(mapexpr::typeof(REPL.softscope), mod::Module, code::String, filename::String)",
      "   @ Base ./loading.jl:1428"
     ]
    }
   ],
   "source": [
    "Figs.plot_avg_r_multiple_experiments([r_p, r_n], window, labels, \"Average Reward\")"
   ]
  },
  {
   "cell_type": "code",
   "execution_count": 11,
   "metadata": {},
   "outputs": [
    {
     "ename": "LoadError",
     "evalue": "UndefVarError: s_n1 not defined",
     "output_type": "error",
     "traceback": [
      "UndefVarError: s_n1 not defined",
      "",
      "Stacktrace:",
      " [1] top-level scope",
      "   @ In[11]:3",
      " [2] eval",
      "   @ ./boot.jl:368 [inlined]",
      " [3] include_string(mapexpr::typeof(REPL.softscope), mod::Module, code::String, filename::String)",
      "   @ Base ./loading.jl:1428"
     ]
    }
   ],
   "source": [
    "# calc avg scaled reward (scaled to max-R arm)\n",
    "# by construction, first arm is highest reward\n",
    "s_n_list = cat(s_n1, s_n2, s_n3, s_n4, s_n5, dims=1)\n",
    "s_p_list = cat(s_p1, s_p2, s_p3, s_p4, s_p5, dims=1)\n",
    "\n",
    "r_n_scaled = []\n",
    "for i in 1:length(r_n)\n",
    "    highest_r = dot(s_n_list[i].u, s_n_list[i].d[1])\n",
    "    push!(r_n_scaled, r_n[i] ./ highest_r)\n",
    "end\n",
    "\n",
    "r_p_scaled = []\n",
    "for i in 1:length(r_p)\n",
    "    highest_r = dot(s_p_list[i].u, s_p_list[i].d[1])\n",
    "    push!(r_p_scaled, r_p[i] ./ highest_r)\n",
    "end"
   ]
  },
  {
   "cell_type": "code",
   "execution_count": 12,
   "metadata": {},
   "outputs": [
    {
     "ename": "LoadError",
     "evalue": "UndefVarError: r_p_scaled not defined",
     "output_type": "error",
     "traceback": [
      "UndefVarError: r_p_scaled not defined",
      "",
      "Stacktrace:",
      " [1] top-level scope",
      "   @ In[12]:1",
      " [2] eval",
      "   @ ./boot.jl:368 [inlined]",
      " [3] include_string(mapexpr::typeof(REPL.softscope), mod::Module, code::String, filename::String)",
      "   @ Base ./loading.jl:1428"
     ]
    }
   ],
   "source": [
    "Figs.plot_avg_r_multiple_experiments_normalized([r_p_scaled, r_n_scaled], window, labels, \"Average Reward (scaled)\")"
   ]
  },
  {
   "cell_type": "code",
   "execution_count": 13,
   "metadata": {},
   "outputs": [
    {
     "ename": "LoadError",
     "evalue": "UndefVarError: r_p not defined",
     "output_type": "error",
     "traceback": [
      "UndefVarError: r_p not defined",
      "",
      "Stacktrace:",
      " [1] top-level scope",
      "   @ In[13]:2",
      " [2] eval",
      "   @ ./boot.jl:368 [inlined]",
      " [3] include_string(mapexpr::typeof(REPL.softscope), mod::Module, code::String, filename::String)",
      "   @ Base ./loading.jl:1428"
     ]
    }
   ],
   "source": [
    "y = 0.999\n",
    "Figs.plot_cumulative_avg_r_multiple_experiments([r_p, r_n], y, labels, \"Cumulative Discounted (y=\"*string(y)*\") Reward\")"
   ]
  },
  {
   "cell_type": "markdown",
   "metadata": {},
   "source": [
    "## Action Distributions"
   ]
  },
  {
   "cell_type": "code",
   "execution_count": 14,
   "metadata": {},
   "outputs": [
    {
     "ename": "LoadError",
     "evalue": "UndefVarError: a_p not defined",
     "output_type": "error",
     "traceback": [
      "UndefVarError: a_p not defined",
      "",
      "Stacktrace:",
      " [1] top-level scope",
      "   @ In[14]:1",
      " [2] eval",
      "   @ ./boot.jl:368 [inlined]",
      " [3] include_string(mapexpr::typeof(REPL.softscope), mod::Module, code::String, filename::String)",
      "   @ Base ./loading.jl:1428"
     ]
    }
   ],
   "source": [
    "Figs.plot_proportion_actions_all(a_p, actions, window, \"exp=\"*pomdp_name*\" Actions\")"
   ]
  },
  {
   "cell_type": "code",
   "execution_count": 15,
   "metadata": {},
   "outputs": [
    {
     "ename": "LoadError",
     "evalue": "UndefVarError: a_n not defined",
     "output_type": "error",
     "traceback": [
      "UndefVarError: a_n not defined",
      "",
      "Stacktrace:",
      " [1] top-level scope",
      "   @ In[15]:1",
      " [2] eval",
      "   @ ./boot.jl:368 [inlined]",
      " [3] include_string(mapexpr::typeof(REPL.softscope), mod::Module, code::String, filename::String)",
      "   @ Base ./loading.jl:1428"
     ]
    }
   ],
   "source": [
    "Figs.plot_proportion_actions_all(a_n, actions, window, \"exp=\"*naive_name*\" Actions\")"
   ]
  }
 ],
 "metadata": {
  "kernelspec": {
   "display_name": "Julia 1.8.1",
   "language": "julia",
   "name": "julia-1.8"
  },
  "language_info": {
   "file_extension": ".jl",
   "mimetype": "application/julia",
   "name": "julia",
   "version": "1.8.1"
  }
 },
 "nbformat": 4,
 "nbformat_minor": 2
}
