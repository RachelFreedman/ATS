{
 "cells": [
  {
   "cell_type": "code",
   "execution_count": 4,
   "id": "fe201062",
   "metadata": {},
   "outputs": [
    {
     "name": "stderr",
     "output_type": "stream",
     "text": [
      "ERROR: LoadError: MethodError: no method matching !(::String)\n",
      "Closest candidates are:\n",
      "  !(!Matched::Function) at operators.jl:1077\n",
      "  !(!Matched::Bool) at bool.jl:35\n",
      "  !(!Matched::Missing) at missing.jl:101\n",
      "Stacktrace:\n",
      " [1] log(s::String)\n",
      "   @ Main ~/Documents/Workspaces/github workspace/ATS/experiment_scripts/ATS_finite.jl:19\n",
      " [2] top-level scope\n",
      "   @ ~/Documents/Workspaces/github workspace/ATS/experiment_scripts/ATS_finite.jl:28\n",
      "in expression starting at /Users/rachelfreedman/Documents/Workspaces/github workspace/ATS/experiment_scripts/ATS_finite.jl:28\n"
     ]
    },
    {
     "ename": "LoadError",
     "evalue": "failed process: Process(`\u001b[4mjulia\u001b[24m \u001b[4mATS_finite.jl\u001b[24m \u001b[4mTrue\u001b[24m \u001b[4m3\u001b[24m \u001b[4m3\u001b[24m \u001b[4m3\u001b[24m \u001b[4m3\u001b[24m \u001b[4m2\u001b[24m \u001b[4m50\u001b[24m \u001b[4m1217\u001b[24m \u001b[4m3\u001b[24m`, ProcessExited(1)) [1]\n",
     "output_type": "error",
     "traceback": [
      "failed process: Process(`\u001b[4mjulia\u001b[24m \u001b[4mATS_finite.jl\u001b[24m \u001b[4mTrue\u001b[24m \u001b[4m3\u001b[24m \u001b[4m3\u001b[24m \u001b[4m3\u001b[24m \u001b[4m3\u001b[24m \u001b[4m2\u001b[24m \u001b[4m50\u001b[24m \u001b[4m1217\u001b[24m \u001b[4m3\u001b[24m`, ProcessExited(1)) [1]\n",
      "",
      "Stacktrace:",
      " [1] pipeline_error",
      "   @ ./process.jl:565 [inlined]",
      " [2] run(::Cmd; wait::Bool)",
      "   @ Base ./process.jl:480",
      " [3] run(::Cmd)",
      "   @ Base ./process.jl:477",
      " [4] top-level scope",
      "   @ In[4]:1",
      " [5] eval",
      "   @ ./boot.jl:368 [inlined]",
      " [6] include_string(mapexpr::typeof(REPL.softscope), mod::Module, code::String, filename::String)",
      "   @ Base ./loading.jl:1428"
     ]
    }
   ],
   "source": [
    "out = run(`julia ATS_finite.jl True 3 3 3 3 2 50 1217 3`)"
   ]
  },
  {
   "cell_type": "code",
   "execution_count": 9,
   "id": "db8653f0",
   "metadata": {},
   "outputs": [
    {
     "data": {
      "text/plain": [
       "true"
      ]
     },
     "execution_count": 9,
     "metadata": {},
     "output_type": "execute_result"
    }
   ],
   "source": [
    "s = \"true\"\n",
    "s == \"true\""
   ]
  },
  {
   "cell_type": "code",
   "execution_count": null,
   "id": "036f19de",
   "metadata": {},
   "outputs": [],
   "source": []
  }
 ],
 "metadata": {
  "kernelspec": {
   "display_name": "Julia 1.8.1",
   "language": "julia",
   "name": "julia-1.8"
  },
  "language_info": {
   "file_extension": ".jl",
   "mimetype": "application/julia",
   "name": "julia",
   "version": "1.8.1"
  }
 },
 "nbformat": 4,
 "nbformat_minor": 5
}
