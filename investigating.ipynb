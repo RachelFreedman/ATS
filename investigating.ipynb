{
 "cells": [
  {
   "cell_type": "markdown",
   "metadata": {},
   "source": [
    "Approximation to continuous POMDP implemented using `github.com/JuliaPOMDP/QuickPOMDPs.jl` and solved using POMCP with reference to tutorial [here](https://htmlview.glitch.me/?https://github.com/JuliaAcademy/Decision-Making-Under-Uncertainty/blob/master/html/4-Approximate-Methods.jl.html)."
   ]
  },
  {
   "cell_type": "code",
   "execution_count": 1,
   "metadata": {},
   "outputs": [],
   "source": [
    "using POMDPs, QuickPOMDPs, POMDPModelTools, POMDPPolicies, Parameters, Random, Plots, LinearAlgebra, Serialization\n",
    "using POMDPTools, BasicPOMCP, D3Trees, GridInterpolations, POMCPOW, POMDPModels, Combinatorics, Dates, CSV, ParticleFilters"
   ]
  },
  {
   "cell_type": "code",
   "execution_count": 2,
   "metadata": {},
   "outputs": [
    {
     "data": {
      "text/plain": [
       "\"23220_173615\""
      ]
     },
     "execution_count": 2,
     "metadata": {},
     "output_type": "execute_result"
    }
   ],
   "source": [
    "expID = Dates.format(Dates.now(), \"yymd_HHMMS\")"
   ]
  },
  {
   "cell_type": "code",
   "execution_count": 3,
   "metadata": {},
   "outputs": [
    {
     "data": {
      "text/plain": [
       "log (generic function with 1 method)"
      ]
     },
     "execution_count": 3,
     "metadata": {},
     "output_type": "execute_result"
    }
   ],
   "source": [
    "function log(s::String)\n",
    "    s_time = Dates.format(Dates.now(), \"HH:MM:SS\\t\")*s*\"\\n\"\n",
    "    open(\"./logs/\"*expID*\".txt\", \"a\") do file\n",
    "        write(file, s_time)\n",
    "    end\n",
    "    print(s_time)\n",
    "end"
   ]
  },
  {
   "cell_type": "code",
   "execution_count": 4,
   "metadata": {},
   "outputs": [
    {
     "name": "stdout",
     "output_type": "stream",
     "text": [
      "17:36:16\tRunning experiment with ID 23220_173615\n"
     ]
    }
   ],
   "source": [
    "log(\"Running experiment with ID \"*expID)"
   ]
  },
  {
   "cell_type": "markdown",
   "metadata": {},
   "source": [
    "# Define Problem"
   ]
  },
  {
   "cell_type": "code",
   "execution_count": 5,
   "metadata": {},
   "outputs": [
    {
     "name": "stdout",
     "output_type": "stream",
     "text": [
      "17:36:16\tMyParameters\n",
      "  N: Int64 3\n",
      "  K: Int64 3\n",
      "  M: Int64 3\n",
      "  y: Float64 0.999\n",
      "  umax: Int64 10\n",
      "  u_grain: Int64 3\n",
      "  d_grain: Int64 3\n",
      "  beta: Array{Float64}((3,)) [0.0, 0.01, 50.0]\n",
      "\n"
     ]
    }
   ],
   "source": [
    "@with_kw struct MyParameters\n",
    "    N::Int = 3         # size of item set\n",
    "    K::Int = 3         # size of arm set\n",
    "    M::Int = 3        # size of beta set\n",
    "    y::Real = 0.999     # discount factor\n",
    "    umax::Real = 10    # max utility\n",
    "    u_grain:: Int = 3  # granularity of utility approximation\n",
    "    d_grain:: Int = 3  # granularity of arm distribution approximation\n",
    "    beta:: Array{Float64} = [0, 0.01, 50.0]  # teacher beta values\n",
    "end\n",
    "\n",
    "params = MyParameters()\n",
    "log(string(params))"
   ]
  },
  {
   "cell_type": "markdown",
   "metadata": {},
   "source": [
    "# Create POMDP"
   ]
  },
  {
   "cell_type": "code",
   "execution_count": 6,
   "metadata": {},
   "outputs": [],
   "source": [
    "struct State\n",
    "    u::Array{Float64}         # list of N utility values for N items\n",
    "    d::Array{Array{Float64}}  # list of K arm distributions, each assigning probabilities to N items\n",
    "    b::Array{Float64}         # list of M beta values\n",
    "end"
   ]
  },
  {
   "cell_type": "code",
   "execution_count": 7,
   "metadata": {},
   "outputs": [
    {
     "name": "stdout",
     "output_type": "stream",
     "text": [
      "  0.119245 seconds (163.60 k allocations: 8.391 MiB, 99.57% compilation time)\n",
      "17:36:16\tgenerated 27 utilities (each length 3 items)\n"
     ]
    }
   ],
   "source": [
    "# space of utility functions\n",
    "@time begin\n",
    "    umin = 0\n",
    "    grid_coor = fill(range(umin,params.umax,length=params.u_grain), params.N)\n",
    "    U = RectangleGrid(grid_coor...)\n",
    "end\n",
    "\n",
    "@assert length(U[1]) == params.N\n",
    "log(\"generated \"*string(length(U))*\" utilities (each length \"*string(length(U[1]))*\" items)\")"
   ]
  },
  {
   "cell_type": "code",
   "execution_count": 8,
   "metadata": {},
   "outputs": [
    {
     "data": {
      "text/plain": [
       "generate_probability_distributions (generic function with 2 methods)"
      ]
     },
     "execution_count": 8,
     "metadata": {},
     "output_type": "execute_result"
    }
   ],
   "source": [
    "function generate_probability_distributions(N::Int, coor::Array{Float64}, S::Float64=1.0)\n",
    "    if S == 0\n",
    "        return [[0. for _ in 1:N]]\n",
    "    end\n",
    "    if N == 1\n",
    "        return [[float(S)]]\n",
    "    end\n",
    "    out = []\n",
    "    range = coor[1:findall(x->isapprox(x,S,atol=1e-15), coor)[1]]\n",
    "    for k in range\n",
    "        subsolution = generate_probability_distributions(N-1, coor, S-k)\n",
    "        for lst in subsolution\n",
    "            if typeof(lst[1]) != Float64\n",
    "                log(\"ERROR: lst \"*string(lst)*\" has type \"*string(typeof(lst[1]))*\". Must be Float64.\")\n",
    "            end\n",
    "            prepend!(lst, float(k))\n",
    "        end\n",
    "        out = vcat(out, subsolution)\n",
    "    end\n",
    "    return out\n",
    "end"
   ]
  },
  {
   "cell_type": "code",
   "execution_count": 9,
   "metadata": {},
   "outputs": [
    {
     "name": "stdout",
     "output_type": "stream",
     "text": [
      "  0.268116 seconds (1.59 M allocations: 81.502 MiB, 4.17% gc time, 99.02% compilation time)\n",
      "17:36:17\tgenerated 216 arm distribution sets (each shape 3 arms x 3 items)\n"
     ]
    }
   ],
   "source": [
    "# space of arm distributions\n",
    "@time begin\n",
    "    coor = collect(range(0.,1.,length=params.d_grain))    \n",
    "    simplex_list = generate_probability_distributions(params.N, coor)\n",
    "    D_tuples = vec(collect(Base.product(fill(simplex_list, params.K)...)))\n",
    "    D = [collect(d) for d in D_tuples]\n",
    "end\n",
    "\n",
    "@assert length(D[1]) == params.K\n",
    "@assert length(D[1][1]) == params.N\n",
    "log(string(\"generated \"*string(length(D))*\" arm distribution sets (each shape \"*string(length(D[1]))*\" arms x \"*string(length(D[1][1]))*\" items)\"))\n",
    "    \n",
    "    "
   ]
  },
  {
   "cell_type": "code",
   "execution_count": 10,
   "metadata": {},
   "outputs": [
    {
     "name": "stdout",
     "output_type": "stream",
     "text": [
      "17:36:17\tgenerated 1 beta value sets (each length 3 teachers)\n"
     ]
    }
   ],
   "source": [
    "# beta values\n",
    "B = [params.beta]\n",
    "\n",
    "# each beta value set must be length M\n",
    "@assert length(B[1]) == params.M\n",
    "log(string(\"generated \"*string(length(B))*\" beta value sets (each length \"*string(length(B[1]))*\" teachers)\"))"
   ]
  },
  {
   "cell_type": "code",
   "execution_count": 11,
   "metadata": {},
   "outputs": [
    {
     "name": "stdout",
     "output_type": "stream",
     "text": [
      "  0.089043 seconds (747.86 k allocations: 38.895 MiB, 98.27% compilation time)\n",
      "17:36:17\tgenerated 5832 states\n"
     ]
    }
   ],
   "source": [
    "# State space\n",
    "@time begin     \n",
    "    S = [[State(u,d,b) for u in U, d in D, b in B]...,]\n",
    "end\n",
    "\n",
    "log(\"generated \"*string(length(S))*\" states\")"
   ]
  },
  {
   "cell_type": "code",
   "execution_count": 12,
   "metadata": {},
   "outputs": [
    {
     "data": {
      "text/plain": [
       "10-element Vector{Any}:\n",
       " 1572\n",
       " 1722\n",
       " 4414\n",
       " 1584\n",
       " 3195\n",
       " 4426\n",
       " 4414\n",
       " 4155\n",
       " 3616\n",
       " 1571"
      ]
     },
     "execution_count": 12,
     "metadata": {},
     "output_type": "execute_result"
    }
   ],
   "source": [
    "function interesting(s::State)\n",
    "    e = [dot(s.u, di) for di in s.d]\n",
    "    order = e[1] > e[2] && e[2] >= e[3] \n",
    "    diff = s.d[1] != s.d[2] != s.d[3]\n",
    "    stoch = all([s.d[i][j]!=1. for i in 1:3, j in 1:3])\n",
    "    return order && stoch && diff\n",
    "end\n",
    "\n",
    "to_print = false\n",
    "indices = []\n",
    "for i in 1:length(S)\n",
    "    if interesting(S[i])\n",
    "        if to_print\n",
    "            println(\"index \", i)\n",
    "            println(S[i])\n",
    "        end\n",
    "        push!(indices, i)\n",
    "    end\n",
    "end\n",
    "\n",
    "# length(indices)/length(S)\n",
    "rand(indices, 10)"
   ]
  },
  {
   "cell_type": "code",
   "execution_count": 13,
   "metadata": {},
   "outputs": [
    {
     "name": "stdout",
     "output_type": "stream",
     "text": [
      "\n",
      "State 724392:\n"
     ]
    },
    {
     "ename": "LoadError",
     "evalue": "BoundsError: attempt to access 5832-element Vector{State} at index [724392]",
     "output_type": "error",
     "traceback": [
      "BoundsError: attempt to access 5832-element Vector{State} at index [724392]",
      "",
      "Stacktrace:",
      " [1] getindex(A::Vector{State}, i1::Int64)",
      "   @ Base ./array.jl:924",
      " [2] top-level scope",
      "   @ ./In[13]:12",
      " [3] eval",
      "   @ ./boot.jl:368 [inlined]",
      " [4] include_string(mapexpr::typeof(REPL.softscope), mod::Module, code::String, filename::String)",
      "   @ Base ./loading.jl:1428"
     ]
    }
   ],
   "source": [
    "function print_state(s::State)\n",
    "    println(\"\\t u: \", s.u)\n",
    "    println(\"\\t d1: \", s.d[1], \"\\t (exp val \", dot(s.u, s.d[1]), \")\")\n",
    "    println(\"\\t d1: \", s.d[2], \"\\t (exp val \", dot(s.u, s.d[2]), \")\")\n",
    "    println(\"\\t d1: \", s.d[3], \"\\t (exp val \", dot(s.u, s.d[3]), \")\")\n",
    "end\n",
    "\n",
    "state_IDs = [724392]\n",
    "\n",
    "for ID in state_IDs\n",
    "    println(\"\\nState \", ID, \":\")\n",
    "    print_state(S[ID])\n",
    "end"
   ]
  },
  {
   "cell_type": "code",
   "execution_count": 14,
   "metadata": {},
   "outputs": [
    {
     "name": "stdout",
     "output_type": "stream",
     "text": [
      "17:36:18\tgenerated 6 actions\n"
     ]
    }
   ],
   "source": [
    "# Action space - actions are arm choices (K) or beta selections (M)\n",
    "struct Action\n",
    "    name::String      # valid names are {B,C} + index\n",
    "    isBeta::Bool      # true if 'B' action, false if 'C' action\n",
    "    index::Integer    # index of beta (if 'B' action) or arm choice (if 'C' action)\n",
    "end\n",
    "\n",
    "A = Array{Action}(undef, params.K+params.M)\n",
    "for i in 1:params.K+params.M\n",
    "    if i <= params.K\n",
    "        A[i] = Action(\"C\"*string(i), false, i)\n",
    "    else\n",
    "        A[i] = Action(\"B\"*string(i-params.K), true, i-params.K)\n",
    "    end\n",
    "end\n",
    "log(\"generated \"*string(length(A))*\" actions\")"
   ]
  },
  {
   "cell_type": "code",
   "execution_count": 15,
   "metadata": {},
   "outputs": [
    {
     "name": "stdout",
     "output_type": "stream",
     "text": [
      "17:36:18\tgenerated transition function\n"
     ]
    }
   ],
   "source": [
    "# Transition function\n",
    "function T(s::State, a::Action)\n",
    "    return SparseCat([s], [1.0])    # categorical distribution\n",
    "end\n",
    "log(\"generated transition function\")"
   ]
  },
  {
   "cell_type": "code",
   "execution_count": 16,
   "metadata": {},
   "outputs": [
    {
     "name": "stdout",
     "output_type": "stream",
     "text": [
      "17:36:18\tgenerated reward function\n"
     ]
    }
   ],
   "source": [
    "# Reward function\n",
    "function R(s::State, a::Action)\n",
    "    # if beta selected, return 0\n",
    "    if a.isBeta\n",
    "        return 0\n",
    "    # if arm pulled, return that arm's avg utility\n",
    "    else\n",
    "        utilities = s.u\n",
    "        arm_dist = s.d[a.index]\n",
    "        return dot(utilities, arm_dist)\n",
    "    end\n",
    "end\n",
    "log(\"generated reward function\")"
   ]
  },
  {
   "cell_type": "code",
   "execution_count": 17,
   "metadata": {},
   "outputs": [
    {
     "name": "stdout",
     "output_type": "stream",
     "text": [
      "17:36:18\tgenerated 21 observations\n"
     ]
    }
   ],
   "source": [
    "# item space\n",
    "I = 1:params.N\n",
    "\n",
    "# preference space\n",
    "struct Preference\n",
    "    i0::Int    # first item to compare, in {1,2,...,N}\n",
    "    i1::Int    # second item to compare, in {1,2,...,N}\n",
    "    label::Int # feedback label, in {0,1}\n",
    "end\n",
    "\n",
    "P = [[Preference(i0,i1,label) for i0 in I, i1 in I, label in [0,1]]...,]\n",
    "\n",
    "# observation space\n",
    "struct Observation\n",
    "    isItem::Bool    # true if item returned, false otherwise\n",
    "    i::Int          # item, if item returned\n",
    "    p::Preference   # preference, if preference returned\n",
    "end\n",
    "\n",
    "invalid_i = -1\n",
    "invalid_p = Preference(-1,-1,-1)\n",
    "I_obs = [Observation(true, i, invalid_p) for i in I]\n",
    "P_obs = [Observation(false, invalid_i, p) for p in P]\n",
    "omega = union(I_obs, P_obs)\n",
    "\n",
    "log(\"generated \"*string(length(omega))*\" observations\")"
   ]
  },
  {
   "cell_type": "code",
   "execution_count": 18,
   "metadata": {},
   "outputs": [
    {
     "data": {
      "text/plain": [
       "Pr (generic function with 1 method)"
      ]
     },
     "execution_count": 18,
     "metadata": {},
     "output_type": "execute_result"
    }
   ],
   "source": [
    "# unnormalized query profile (likelihood of querying 1,1; 2,1; 3,1; ... ; N,1; 1,2; 2,2; ... ; N,N)\n",
    "Q = ones(params.N*params.N)\n",
    "\n",
    "# preference probability (expected preference, or probability that preference=1)\n",
    "function Pr(p::Preference, s::State, b::Float64)\n",
    "    prob_pref_1 = exp(Float64(b)*s.u[p.i1])/(exp(Float64(b)*s.u[p.i1])+exp(Float64(b)*s.u[p.i0]))\n",
    "    if p.label == 1\n",
    "        return prob_pref_1\n",
    "    else\n",
    "        return 1.0-prob_pref_1\n",
    "    end\n",
    "end"
   ]
  },
  {
   "cell_type": "code",
   "execution_count": 19,
   "metadata": {},
   "outputs": [
    {
     "name": "stdout",
     "output_type": "stream",
     "text": [
      "17:36:18\tgenerated observation function\n"
     ]
    }
   ],
   "source": [
    "function O(s::State, a::Action, sp::State)\n",
    "    # if B action, obs in P_obs\n",
    "    if a.isBeta\n",
    "        prob_of_pref = [Pr(o.p, s, s.b[a.index]) for o in P_obs]\n",
    "        prob_of_query = vcat(Q,Q)   # doubled because each query appears once for each label\n",
    "        \n",
    "        # weight by querying profile to get dist\n",
    "        dist = [prob_of_pref[i]*prob_of_query[i] for i in 1:length(prob_of_pref)]\n",
    "        normalized_dist = dist/sum(dist)        \n",
    "        return SparseCat(P_obs, normalized_dist)\n",
    "    # if C action, obs in I_obs\n",
    "    else\n",
    "        return SparseCat(I_obs, s.d[a.index])\n",
    "    end\n",
    "end\n",
    "\n",
    "log(\"generated observation function\")"
   ]
  },
  {
   "cell_type": "code",
   "execution_count": 20,
   "metadata": {},
   "outputs": [
    {
     "name": "stdout",
     "output_type": "stream",
     "text": [
      "  0.480761 seconds (2.32 M allocations: 125.583 MiB, 2.22% gc time, 99.21% compilation time)\n",
      "17:36:19\tcreated POMDP\n"
     ]
    }
   ],
   "source": [
    "@time begin\n",
    "    \n",
    "    # define POMDP\n",
    "    abstract type MyPOMDP <: POMDP{State, Action, Observation} end\n",
    "    pomdp = QuickPOMDP(MyPOMDP,\n",
    "        states       = S,\n",
    "        actions      = A,\n",
    "        observations = omega,\n",
    "        transition   = T,\n",
    "        observation  = O,\n",
    "        reward       = R,\n",
    "        discount     = params.y,\n",
    "        initialstate = S);\n",
    "\n",
    "end\n",
    "\n",
    "log(\"created POMDP\")"
   ]
  },
  {
   "cell_type": "code",
   "execution_count": 21,
   "metadata": {},
   "outputs": [
    {
     "name": "stdout",
     "output_type": "stream",
     "text": [
      "s = State([0.0, 10.0, 5.0], Array{Float64}[[0.5, 0.5, 0.0], [0.0, 0.0, 1.0], [0.0, 0.5, 0.5]], [0.0, 0.01, 50.0])\n",
      "\n",
      "a = Action(\"B1\", true, 1)\n",
      "r = 0\n",
      "o = Observation(false, -1, Preference(1, 2, 1))\n",
      "\n",
      "a = Action(\"C3\", false, 3)\n",
      "r = 7.5\n",
      "o = Observation(true, 2, Preference(-1, -1, -1))\n",
      "\n",
      "a = Action(\"B1\", true, 1)\n",
      "r = 0\n",
      "o = Observation(false, -1, Preference(3, 3, 0))\n",
      "\n"
     ]
    }
   ],
   "source": [
    "rollout = true\n",
    "\n",
    "if rollout\n",
    "    policy = RandomPolicy(pomdp)\n",
    "\n",
    "    show_state = true\n",
    "    for (s,a,r,o) in stepthrough(pomdp, policy, \"s,a,r,o\", max_steps=3)\n",
    "        if show_state\n",
    "            @show s\n",
    "            println(\"\")\n",
    "            show_state = false\n",
    "        end\n",
    "        @show a\n",
    "        @show r\n",
    "        @show o\n",
    "        println()\n",
    "    end\n",
    "end"
   ]
  },
  {
   "cell_type": "markdown",
   "metadata": {},
   "source": [
    "# Solve POMDP"
   ]
  },
  {
   "cell_type": "code",
   "execution_count": 22,
   "metadata": {
    "scrolled": false
   },
   "outputs": [
    {
     "name": "stdout",
     "output_type": "stream",
     "text": [
      "  0.021827 seconds (43.64 k allocations: 2.558 MiB, 98.53% compilation time)\n",
      "17:36:20\tsolved POMDP\n",
      "17:36:20\tsaved policy to ./policies/23220_173615_policy.txt\n"
     ]
    }
   ],
   "source": [
    "@time begin\n",
    "    solver = POMCPOWSolver()\n",
    "    planner = solve(solver, pomdp);\n",
    "end\n",
    "log(\"solved POMDP\")\n",
    "\n",
    "open(\"./policies/\"*expID*\"_policy.txt\", \"w\") do file\n",
    "    serialize(file, planner)\n",
    "end\n",
    "\n",
    "log(\"saved policy to \"*\"./policies/\"*expID*\"_policy.txt\")"
   ]
  },
  {
   "cell_type": "code",
   "execution_count": 23,
   "metadata": {},
   "outputs": [
    {
     "data": {
      "text/plain": [
       "Action(\"B1\", true, 1)"
      ]
     },
     "execution_count": 23,
     "metadata": {},
     "output_type": "execute_result"
    }
   ],
   "source": [
    "action(planner, Uniform(S))"
   ]
  },
  {
   "cell_type": "code",
   "execution_count": 24,
   "metadata": {},
   "outputs": [
    {
     "name": "stdout",
     "output_type": "stream",
     "text": [
      "s = State([10.0, 0.0, 5.0], Array{Float64}[[0.5, 0.5, 0.0], [0.5, 0.0, 0.5], [1.0, 0.0, 0.0]], [0.0, 0.01, 50.0])\n",
      "\n",
      "a = Action(\"B2\", true, 2)\n",
      "r = 0\n",
      "o = Observation(false, -1, Preference(1, 1, 0))\n",
      "\n",
      "a = Action(\"B1\", true, 1)\n",
      "r = 0\n",
      "o = Observation(false, -1, Preference(2, 2, 0))\n",
      "\n",
      "a = Action(\"B1\", true, 1)\n",
      "r = 0\n",
      "o = Observation(false, -1, Preference(2, 2, 0))\n",
      "\n"
     ]
    }
   ],
   "source": [
    "rollout = true\n",
    "\n",
    "if rollout\n",
    "    show_state = true\n",
    "    for (s,a,r,o) in stepthrough(pomdp, planner, \"s,a,r,o\", max_steps=3)\n",
    "        if show_state\n",
    "            @show s\n",
    "            println(\"\")\n",
    "            show_state = false\n",
    "        end\n",
    "        @show a\n",
    "        @show r\n",
    "        @show o\n",
    "        println()\n",
    "    end\n",
    "end"
   ]
  },
  {
   "cell_type": "markdown",
   "metadata": {},
   "source": [
    "# Evaluate Solution"
   ]
  },
  {
   "cell_type": "code",
   "execution_count": 25,
   "metadata": {},
   "outputs": [
    {
     "data": {
      "text/plain": [
       "3-element Vector{Int64}:\n",
       " 4641\n",
       " 4589\n",
       " 3204"
      ]
     },
     "execution_count": 25,
     "metadata": {},
     "output_type": "execute_result"
    }
   ],
   "source": [
    "# worst 3 states\n",
    "worst_states = [4641, 4589, 3204]"
   ]
  },
  {
   "cell_type": "code",
   "execution_count": 26,
   "metadata": {},
   "outputs": [
    {
     "name": "stdout",
     "output_type": "stream",
     "text": [
      "17:37:14\trunning simulation 1\n",
      "State([10.0, 5.0, 10.0], Array{Float64}[[0.0, 1.0, 0.0], [0.0, 0.5, 0.5], [0.0, 0.5, 0.5]], [0.0, 0.01, 50.0])\n",
      "10\n",
      "20\n",
      "30\n",
      "40\n",
      "50\n",
      "60\n",
      "70\n",
      "80\n",
      "90\n",
      "100\n",
      "18:02:02\tran 1 POMCPOW rollouts for 100 timesteps each\n",
      "18:02:02\tPOMCPOW R: [397.5]\n",
      "18:02:03\tsaved beliefs to ./beliefs/23220_173615_belief.txt\n",
      "1488.524935 seconds (25.84 G allocations: 742.818 GiB, 4.23% gc time, 0.06% compilation time)\n"
     ]
    }
   ],
   "source": [
    "steps = 100\n",
    "iters = 1\n",
    "\n",
    "# initial_states = [State([0.0, 8.0, 10.0], Array{Float64}[[0.0, 0.0, 1.0], [0.6, 0.0, 0.4], [1.0, 0.0, 0.0]], [0.01, 10.0]) for i in 1:iters]\n",
    "initial_states = [S[1212] for i in 1:iters]\n",
    "POMCPOW_R = Array{Float64}(undef, iters)\n",
    "beliefs = Array{Array{ParticleFilters.ParticleCollection{State}}}(undef, (iters, steps))\n",
    "@time begin\n",
    "    for iter in 1:iters\n",
    "        log(\"running simulation \"*string(iter))\n",
    "\n",
    "        t = 1\n",
    "        r_accum = 0.\n",
    "        beliefs_iter = Array{ParticleFilters.ParticleCollection{State}}(undef, steps)\n",
    "        for (s, a, o, r, b) in stepthrough(pomdp, planner, updater(planner), Uniform(S), initial_states[iter], \"s,a,o,r,b\", max_steps=steps)\n",
    "            r_accum = r_accum + r\n",
    "            beliefs_iter[t] = b\n",
    "            \n",
    "            if t%10 == 0\n",
    "                println(t)\n",
    "            end\n",
    "\n",
    "            if t == 1\n",
    "                open(\"./sims/\"*expID*\"_run\"*string(iter)*\".txt\", \"w\") do file\n",
    "                    write(file, string(s))\n",
    "                end\n",
    "                println(s)\n",
    "            end\n",
    "\n",
    "            if a.isBeta\n",
    "                msg = \"\\n\"*string(t)*\",B,\"*a.name*\",(i\"*string(o.p.i0)*\"-i\"*string(o.p.i1)*\";\"*string(o.p.label)*\"),\"*string(r)\n",
    "            else\n",
    "                msg = \"\\n\"*string(t)*\",C,\"*a.name*\",i\"*string(o.i)*\",\"*string(r)\n",
    "            end\n",
    "\n",
    "            open(\"./sims/\"*expID*\"_run\"*string(iter)*\".txt\", \"a\") do file\n",
    "                write(file, msg)\n",
    "            end\n",
    "            t = t + 1\n",
    "        end\n",
    "        beliefs[iter] = beliefs_iter\n",
    "        POMCPOW_R[iter] = r_accum\n",
    "    end\n",
    "\n",
    "    log(\"ran \"*string(iters)*\" POMCPOW rollouts for \"*string(steps)*\" timesteps each\")\n",
    "    log(\"POMCPOW R: \"*string(POMCPOW_R))\n",
    "\n",
    "    open(\"./beliefs/\"*expID*\"_belief.txt\", \"w\") do file\n",
    "        serialize(file, beliefs)\n",
    "    end\n",
    "\n",
    "    log(\"saved beliefs to \"*\"./beliefs/\"*expID*\"_belief.txt\")\n",
    "end"
   ]
  },
  {
   "cell_type": "code",
   "execution_count": 27,
   "metadata": {},
   "outputs": [],
   "source": [
    "# new_beliefs = deserialize(open(\"./beliefs/\"*\"2299_123850\"*\"_belief.txt\", \"r\"));"
   ]
  },
  {
   "cell_type": "code",
   "execution_count": 28,
   "metadata": {},
   "outputs": [
    {
     "name": "stdout",
     "output_type": "stream",
     "text": [
      "18:02:03\tran 1 random rollouts for 100 timesteps each\n",
      "18:02:03\tRandom R: [328.8952810196279]\n"
     ]
    }
   ],
   "source": [
    "prior = Uniform(S)\n",
    "sim = RolloutSimulator(max_steps=steps)\n",
    "\n",
    "random_R = zeros(iters)\n",
    "for iter in 1:iters\n",
    "    # use the same initial states as the POMCPOW runs\n",
    "    initial_state = initial_states[iter]\n",
    "    up = updater(RandomPolicy(pomdp))\n",
    "    result = simulate(sim, pomdp, RandomPolicy(pomdp), up, prior, initial_state)\n",
    "    random_R[iter] = result\n",
    "end\n",
    "\n",
    "log(\"ran \"*string(iters)*\" random rollouts for \"*string(steps)*\" timesteps each\")\n",
    "log(\"Random R: \"*string(random_R))\n"
   ]
  },
  {
   "cell_type": "code",
   "execution_count": 29,
   "metadata": {},
   "outputs": [
    {
     "name": "stdout",
     "output_type": "stream",
     "text": [
      "18:02:03\tMax R: [750.0]\n"
     ]
    }
   ],
   "source": [
    "max_R = zeros(iters)\n",
    "\n",
    "for iter in 1:iters\n",
    "    # use the same initial states as the POMCPOW runs\n",
    "    initial_state = initial_states[iter]\n",
    "    max_R[iter] = maximum([dot(initial_state.u, initial_state.d[i]) for i in 1:params.K])*steps\n",
    "end\n",
    "\n",
    "log(\"Max R: \"*string(max_R))"
   ]
  },
  {
   "cell_type": "code",
   "execution_count": 30,
   "metadata": {},
   "outputs": [],
   "source": [
    "fig = plot(1:iters, [random_R,POMCPOW_R], \n",
    "    seriestype = :scatter, \n",
    "    label=[\"random\" \"POMCP\"], \n",
    "    xticks = 0:1:iters,\n",
    "    xlabel = \"run\",\n",
    "    ylabel = \"reward (\" * string(steps) * \" timesteps)\",\n",
    "    ylims = (0,maximum(POMCPOW_R)*1.2)\n",
    ")\n",
    "savefig(fig,\"./plots/reward_ID\"*string(expID)*\"_step\"*string(steps)*\"_roll\"*string(iters)*\".png\")"
   ]
  },
  {
   "cell_type": "code",
   "execution_count": null,
   "metadata": {},
   "outputs": [],
   "source": []
  }
 ],
 "metadata": {
  "kernelspec": {
   "display_name": "Julia 1.8.1",
   "language": "julia",
   "name": "julia-1.8"
  },
  "language_info": {
   "file_extension": ".jl",
   "mimetype": "application/julia",
   "name": "julia",
   "version": "1.8.1"
  }
 },
 "nbformat": 4,
 "nbformat_minor": 2
}
