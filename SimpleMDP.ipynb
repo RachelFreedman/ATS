{
 "cells": [
  {
   "cell_type": "markdown",
   "metadata": {},
   "source": [
    "Discrete MDP implemented using `github.com/JuliaPOMDP/QuickPOMDPs.jl` and tutorial [here](https://htmlview.glitch.me/?https://github.com/JuliaAcademy/Decision-Making-Under-Uncertainty/blob/master/html/1-MDPs.jl.html)."
   ]
  },
  {
   "cell_type": "code",
   "execution_count": 1,
   "metadata": {},
   "outputs": [],
   "source": [
    "using POMDPs, QuickPOMDPs, POMDPModelTools, POMDPPolicies, Parameters, Random, Plots, LinearAlgebra\n",
    "using DiscreteValueIteration, TabularTDLearning, MCTS, POMDPTools"
   ]
  },
  {
   "cell_type": "code",
   "execution_count": 2,
   "metadata": {},
   "outputs": [
    {
     "name": "stdout",
     "output_type": "stream",
     "text": [
      "Hello World"
     ]
    }
   ],
   "source": [
    "# check Julia exists\n",
    "print(\"Hello World\")"
   ]
  },
  {
   "cell_type": "code",
   "execution_count": 3,
   "metadata": {},
   "outputs": [
    {
     "data": {
      "text/plain": [
       "MyParameters\n",
       "  N: Int64 4\n",
       "  K: Int64 3\n",
       "  M: Int64 2\n",
       "  y: Float64 1.0\n",
       "  umax: Int64 10\n"
      ]
     },
     "execution_count": 3,
     "metadata": {},
     "output_type": "execute_result"
    }
   ],
   "source": [
    "# TODO: figure out what a struct is\n",
    "@with_kw struct MyParameters\n",
    "    N::Int = 4   # size of item set\n",
    "    K::Int = 3   # size of arm set\n",
    "    M::Int = 2   # size of beta set\n",
    "    y::Real = 1.0 # discount factor\n",
    "    umax::Real = 10  # max utility\n",
    "end\n",
    "\n",
    "params = MyParameters()"
   ]
  },
  {
   "cell_type": "code",
   "execution_count": 4,
   "metadata": {},
   "outputs": [],
   "source": [
    "struct State\n",
    "    u::Array{Int}          # list of N utility values for N items\n",
    "    d::Array{Array{Real}}  # list of K arm distributions, each assigning probabilities to N items\n",
    "end"
   ]
  },
  {
   "cell_type": "code",
   "execution_count": 19,
   "metadata": {},
   "outputs": [
    {
     "name": "stdout",
     "output_type": "stream",
     "text": [
      "State[State([10, 0, 0, 0], Array{Real}[[0.25, 0.25, 0.25, 0.25], [1.0, 0.0, 0.0, 0.0], [0.5, 0.5, 0.0, 0.0]]), State([0, 10, 0, 0], Array{Real}[[0.25, 0.25, 0.25, 0.25], [1.0, 0.0, 0.0, 0.0], [0.5, 0.5, 0.0, 0.0]]), State([0, 0, 10, 0], Array{Real}[[0.25, 0.25, 0.25, 0.25], [1.0, 0.0, 0.0, 0.0], [0.5, 0.5, 0.0, 0.0]]), State([0, 0, 0, 10], Array{Real}[[0.25, 0.25, 0.25, 0.25], [1.0, 0.0, 0.0, 0.0], [0.5, 0.5, 0.0, 0.0]]), State([10, 0, 0, 0], Array{Real}[[0.0, 0.0, 0.0, 1.0], [0.25, 0.25, 0.25, 0.25], [0.5, 0.5, 0.0, 0.0]]), State([0, 10, 0, 0], Array{Real}[[0.0, 0.0, 0.0, 1.0], [0.25, 0.25, 0.25, 0.25], [0.5, 0.5, 0.0, 0.0]]), State([0, 0, 10, 0], Array{Real}[[0.0, 0.0, 0.0, 1.0], [0.25, 0.25, 0.25, 0.25], [0.5, 0.5, 0.0, 0.0]]), State([0, 0, 0, 10], Array{Real}[[0.0, 0.0, 0.0, 1.0], [0.25, 0.25, 0.25, 0.25], [0.5, 0.5, 0.0, 0.0]])]"
     ]
    }
   ],
   "source": [
    "# space of possible utility functions\n",
    "umax = 10\n",
    "U = [[params.umax, 0, 0, 0],\n",
    "    [0, params.umax, 0, 0],\n",
    "    [0, 0, params.umax, 0],\n",
    "    [0, 0, 0, params.umax]]\n",
    "\n",
    "# U = [0, 1, 2]\n",
    "\n",
    "# space of possible arm distributions\n",
    "D = [[[1/params.N, 1/params.N, 1/params.N, 1/params.N], [1, 0, 0, 0], [0.5, 0.5, 0, 0]],\n",
    "    [[0, 0, 0, 1], [1/params.N, 1/params.N, 1/params.N, 1/params.N], [0.5, 0.5, 0, 0]]]\n",
    "\n",
    "# D = [3, 4, 5]\n",
    "\n",
    "# State space\n",
    "S = [[State(u,d) for u in U, d in D]...,]\n",
    "\n",
    "# state comparator\n",
    "Base.:(==)(s1::State, s2::State) = (s1.u == s2.u) && (s1.d == s2.d)"
   ]
  },
  {
   "cell_type": "code",
   "execution_count": 20,
   "metadata": {},
   "outputs": [
    {
     "data": {
      "text/plain": [
       "5-element Vector{Action}:\n",
       " C1::Action = 0\n",
       " C2::Action = 1\n",
       " C3::Action = 2\n",
       " B1::Action = 3\n",
       " B2::Action = 4"
      ]
     },
     "execution_count": 20,
     "metadata": {},
     "output_type": "execute_result"
    }
   ],
   "source": [
    "# Action space - actions are arm choices (K) or beta selections (M)\n",
    "@enum Action C1 C2 C3 B1 B2\n",
    "A = [C1, C2, C3, B1, B2]"
   ]
  },
  {
   "cell_type": "code",
   "execution_count": 21,
   "metadata": {},
   "outputs": [
    {
     "data": {
      "text/plain": [
       "T (generic function with 1 method)"
      ]
     },
     "execution_count": 21,
     "metadata": {},
     "output_type": "execute_result"
    }
   ],
   "source": [
    "# Transition function\n",
    "function T(s::State, a::Action)\n",
    "    return SparseCat([s], [1.0])    # categorical distribution\n",
    "end"
   ]
  },
  {
   "cell_type": "code",
   "execution_count": 22,
   "metadata": {},
   "outputs": [
    {
     "data": {
      "text/plain": [
       "R (generic function with 1 method)"
      ]
     },
     "execution_count": 22,
     "metadata": {},
     "output_type": "execute_result"
    }
   ],
   "source": [
    "# Reward function\n",
    "function R(s::State, a::Action)\n",
    "    # if arm pulled, return that arm's avg utility\n",
    "    if a == C1\n",
    "        utilities = s.u\n",
    "        arm_dist = s.d[1]\n",
    "        return dot(utilities, arm_dist)\n",
    "    elseif a == C2\n",
    "        utilities = s.u\n",
    "        arm_dist = s.d[2]\n",
    "        return dot(utilities, arm_dist)\n",
    "    elseif a == C3\n",
    "        utilities = s.u\n",
    "        arm_dist = s.d[3]\n",
    "        return dot(utilities, arm_dist)\n",
    "    # if beta selected, return 0\n",
    "    else\n",
    "        return 0\n",
    "    end\n",
    "end"
   ]
  },
  {
   "cell_type": "code",
   "execution_count": 23,
   "metadata": {},
   "outputs": [],
   "source": [
    "# define MDP\n",
    "abstract type MyMDP <: MDP{State, Action} end\n",
    "mdp = QuickMDP(MyMDP,\n",
    "    states       = S,\n",
    "    actions      = A,\n",
    "    transition   = T,\n",
    "    reward       = R,\n",
    "    discount     = params.y,\n",
    "    initialstate = S);"
   ]
  },
  {
   "cell_type": "code",
   "execution_count": 24,
   "metadata": {},
   "outputs": [
    {
     "name": "stdout",
     "output_type": "stream",
     "text": [
      "s = State([0, 0, 10, 0], Array{Real}[[0.0, 0.0, 0.0, 1.0], [0.25, 0.25, 0.25, 0.25], [0.5, 0.5, 0.0, 0.0]])\n",
      "a = C3\n",
      "r = 0.0\n",
      "\n",
      "s = State([0, 0, 10, 0], Array{Real}[[0.0, 0.0, 0.0, 1.0], [0.25, 0.25, 0.25, 0.25], [0.5, 0.5, 0.0, 0.0]])\n",
      "a = C2\n",
      "r = 2.5\n",
      "\n",
      "s = State([0, 0, 10, 0], Array{Real}[[0.0, 0.0, 0.0, 1.0], [0.25, 0.25, 0.25, 0.25], [0.5, 0.5, 0.0, 0.0]])\n",
      "a = C3\n",
      "r = 0.0\n",
      "\n",
      "s = State([0, 0, 10, 0], Array{Real}[[0.0, 0.0, 0.0, 1.0], [0.25, 0.25, 0.25, 0.25], [0.5, 0.5, 0.0, 0.0]])\n",
      "a = C2\n",
      "r = 2.5\n",
      "\n",
      "s = State([0, 0, 10, 0], Array{Real}[[0.0, 0.0, 0.0, 1.0], [0.25, 0.25, 0.25, 0.25], [0.5, 0.5, 0.0, 0.0]])\n",
      "a = B1\n",
      "r = 0\n",
      "\n",
      "s = State([0, 0, 10, 0], Array{Real}[[0.0, 0.0, 0.0, 1.0], [0.25, 0.25, 0.25, 0.25], [0.5, 0.5, 0.0, 0.0]])\n",
      "a = C1\n",
      "r = 0.0\n",
      "\n",
      "s = State([0, 0, 10, 0], Array{Real}[[0.0, 0.0, 0.0, 1.0], [0.25, 0.25, 0.25, 0.25], [0.5, 0.5, 0.0, 0.0]])\n",
      "a = B2\n",
      "r = 0\n",
      "\n",
      "s = State([0, 0, 10, 0], Array{Real}[[0.0, 0.0, 0.0, 1.0], [0.25, 0.25, 0.25, 0.25], [0.5, 0.5, 0.0, 0.0]])\n",
      "a = C3\n",
      "r = 0.0\n",
      "\n",
      "s = State([0, 0, 10, 0], Array{Real}[[0.0, 0.0, 0.0, 1.0], [0.25, 0.25, 0.25, 0.25], [0.5, 0.5, 0.0, 0.0]])\n",
      "a = C1\n",
      "r = 0.0\n",
      "\n",
      "s = State([0, 0, 10, 0], Array{Real}[[0.0, 0.0, 0.0, 1.0], [0.25, 0.25, 0.25, 0.25], [0.5, 0.5, 0.0, 0.0]])\n",
      "a = B2\n",
      "r = 0\n",
      "\n"
     ]
    }
   ],
   "source": [
    "policy = RandomPolicy(mdp)\n",
    "\n",
    "for (s,a,r) in stepthrough(mdp, policy, \"s,a,r\", max_steps=10)\n",
    "    @show s\n",
    "    @show a\n",
    "    @show r\n",
    "#     println()\n",
    "end"
   ]
  },
  {
   "cell_type": "code",
   "execution_count": 25,
   "metadata": {
    "scrolled": false
   },
   "outputs": [],
   "source": [
    "solver = ValueIterationSolver(max_iterations=20);\n",
    "# show_requirements(get_requirements(POMDPs.solve, (solver, mdp)))"
   ]
  },
  {
   "cell_type": "code",
   "execution_count": 26,
   "metadata": {},
   "outputs": [
    {
     "data": {
      "text/plain": [
       "ValueIterationPolicy:\n",
       " State([10, 0, 0, 0], Array{Real}[[0.25, 0.25, 0.25, 0.25], [1.0, 0.0, 0.0, 0.0], [0.5, 0.5, 0.0, 0.0]]) -> C2\n",
       " State([0, 10, 0, 0], Array{Real}[[0.25, 0.25, 0.25, 0.25], [1.0, 0.0, 0.0, 0.0], [0.5, 0.5, 0.0, 0.0]]) -> C3\n",
       " State([0, 0, 10, 0], Array{Real}[[0.25, 0.25, 0.25, 0.25], [1.0, 0.0, 0.0, 0.0], [0.5, 0.5, 0.0, 0.0]]) -> C1\n",
       " State([0, 0, 0, 10], Array{Real}[[0.25, 0.25, 0.25, 0.25], [1.0, 0.0, 0.0, 0.0], [0.5, 0.5, 0.0, 0.0]]) -> C1\n",
       " State([10, 0, 0, 0], Array{Real}[[0.0, 0.0, 0.0, 1.0], [0.25, 0.25, 0.25, 0.25], [0.5, 0.5, 0.0, 0.0]]) -> C3\n",
       " State([0, 10, 0, 0], Array{Real}[[0.0, 0.0, 0.0, 1.0], [0.25, 0.25, 0.25, 0.25], [0.5, 0.5, 0.0, 0.0]]) -> C3\n",
       " State([0, 0, 10, 0], Array{Real}[[0.0, 0.0, 0.0, 1.0], [0.25, 0.25, 0.25, 0.25], [0.5, 0.5, 0.0, 0.0]]) -> C2\n",
       " State([0, 0, 0, 10], Array{Real}[[0.0, 0.0, 0.0, 1.0], [0.25, 0.25, 0.25, 0.25], [0.5, 0.5, 0.0, 0.0]]) -> C1"
      ]
     },
     "execution_count": 26,
     "metadata": {},
     "output_type": "execute_result"
    }
   ],
   "source": [
    "policy = solve(solver, mdp)\n",
    "policy"
   ]
  },
  {
   "cell_type": "code",
   "execution_count": null,
   "metadata": {},
   "outputs": [],
   "source": []
  }
 ],
 "metadata": {
  "kernelspec": {
   "display_name": "Julia 1.7.3",
   "language": "julia",
   "name": "julia-1.7"
  },
  "language_info": {
   "file_extension": ".jl",
   "mimetype": "application/julia",
   "name": "julia",
   "version": "1.7.3"
  }
 },
 "nbformat": 4,
 "nbformat_minor": 2
}
