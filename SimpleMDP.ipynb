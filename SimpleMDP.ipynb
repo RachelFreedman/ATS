{
 "cells": [
  {
   "cell_type": "markdown",
   "metadata": {},
   "source": [
    "Discrete MDP implemented using `github.com/JuliaPOMDP/QuickPOMDPs.jl` and tutorial [here](https://htmlview.glitch.me/?https://github.com/JuliaAcademy/Decision-Making-Under-Uncertainty/blob/master/html/1-MDPs.jl.html)."
   ]
  },
  {
   "cell_type": "code",
   "execution_count": 1,
   "metadata": {},
   "outputs": [],
   "source": [
    "# throws warnings sometimes\n",
    "using POMDPs, QuickPOMDPs, POMDPModelTools, POMDPPolicies, Parameters, Random, Plots, LinearAlgebra"
   ]
  },
  {
   "cell_type": "code",
   "execution_count": 2,
   "metadata": {},
   "outputs": [
    {
     "name": "stdout",
     "output_type": "stream",
     "text": [
      "Hello World"
     ]
    }
   ],
   "source": [
    "# check Julia exists\n",
    "print(\"Hello World\")"
   ]
  },
  {
   "cell_type": "code",
   "execution_count": 3,
   "metadata": {},
   "outputs": [
    {
     "data": {
      "text/plain": [
       "MyParameters\n",
       "  N: Int64 4\n",
       "  K: Int64 3\n",
       "  M: Int64 2\n",
       "  y: Float64 1.0\n",
       "  umax: Int64 10\n"
      ]
     },
     "execution_count": 3,
     "metadata": {},
     "output_type": "execute_result"
    }
   ],
   "source": [
    "# TODO: figure out what a struct is\n",
    "@with_kw struct MyParameters\n",
    "    N::Int = 4   # size of item set\n",
    "    K::Int = 3   # size of arm set\n",
    "    M::Int = 2   # size of beta set\n",
    "    y::Real = 1.0 # discount factor\n",
    "    umax::Real = 10  # max utility\n",
    "end\n",
    "\n",
    "params = MyParameters()"
   ]
  },
  {
   "cell_type": "code",
   "execution_count": 4,
   "metadata": {},
   "outputs": [],
   "source": [
    "struct State\n",
    "    u::Array{Int}          # list of N utility values for N items\n",
    "    d::Array{Array{Real}}  # list of K arm distributions, each assigning probabilities to N items\n",
    "end"
   ]
  },
  {
   "cell_type": "code",
   "execution_count": 5,
   "metadata": {},
   "outputs": [],
   "source": [
    "# space of possible utility functions\n",
    "umax = 10\n",
    "U = [[params.umax, 0, 0, 0],\n",
    "    [0, params.umax, 0, 0],\n",
    "    [0, 0, params.umax, 0],\n",
    "    [0, 0, 0, params.umax]]\n",
    "\n",
    "# space of possible arm distributions\n",
    "D = [[[1/params.N, 1/params.N, 1/params.N, 1/params.N], [1, 0, 0, 0], [0.5, 0.5, 0, 0]],\n",
    "    [[0, 0, 0, 1], [1/params.N, 1/params.N, 1/params.N, 1/params.N], [0.5, 0.5, 0, 0]]    ]\n",
    "\n",
    "# State space\n",
    "S = [State(u,d) for u in U, d in D]\n",
    "\n",
    "# state comparator\n",
    "Base.:(==)(s1::State, s2::State) = (s1.u == s2.u) && (s1.d == s2.d)"
   ]
  },
  {
   "cell_type": "code",
   "execution_count": 6,
   "metadata": {},
   "outputs": [
    {
     "data": {
      "text/plain": [
       "5-element Vector{Action}:\n",
       " C1::Action = 0\n",
       " C2::Action = 1\n",
       " C3::Action = 2\n",
       " B1::Action = 3\n",
       " B2::Action = 4"
      ]
     },
     "execution_count": 6,
     "metadata": {},
     "output_type": "execute_result"
    }
   ],
   "source": [
    "# Action space - actions are arm choices (K) or beta selections (M)\n",
    "@enum Action C1 C2 C3 B1 B2\n",
    "A = [C1, C2, C3, B1, B2]\n"
   ]
  },
  {
   "cell_type": "code",
   "execution_count": 7,
   "metadata": {},
   "outputs": [
    {
     "data": {
      "text/plain": [
       "T (generic function with 1 method)"
      ]
     },
     "execution_count": 7,
     "metadata": {},
     "output_type": "execute_result"
    }
   ],
   "source": [
    "# Transition function\n",
    "function T(s::State, a::Action)\n",
    "    return (s, 1.0)    # categorical distribution\n",
    "end"
   ]
  },
  {
   "cell_type": "code",
   "execution_count": 12,
   "metadata": {},
   "outputs": [
    {
     "data": {
      "text/plain": [
       "R (generic function with 1 method)"
      ]
     },
     "execution_count": 12,
     "metadata": {},
     "output_type": "execute_result"
    }
   ],
   "source": [
    "# Reward function\n",
    "function R(s::State, a::Action)\n",
    "    # if arm pulled, return that arm's avg utility\n",
    "    if a == C1\n",
    "        utilities = s.u\n",
    "        arm_dist = s.d[1]\n",
    "        return dot(utilities, arm_dist)\n",
    "    elseif a == C2\n",
    "        utilities = s.u\n",
    "        arm_dist = s.d[2]\n",
    "        return dot(utilities, arm_dist)\n",
    "    elseif a == C3\n",
    "        utilities = s.u\n",
    "        arm_dist = s.d[3]\n",
    "        return dot(utilities, arm_dist)\n",
    "    # if beta selected, return 0\n",
    "    else\n",
    "        return 0\n",
    "    end\n",
    "end"
   ]
  },
  {
   "cell_type": "code",
   "execution_count": 13,
   "metadata": {},
   "outputs": [],
   "source": [
    "# define MDP...?\n",
    "abstract type MyMDP <: MDP{State, Action} end\n",
    "mdp = QuickMDP(MyMDP,\n",
    "    states       = S,\n",
    "    actions      = A,\n",
    "    transition   = T,\n",
    "    reward       = R,\n",
    "    discount     = params.y,\n",
    "    initialstate = S);"
   ]
  },
  {
   "cell_type": "code",
   "execution_count": 14,
   "metadata": {},
   "outputs": [],
   "source": [
    "using DiscreteValueIteration"
   ]
  },
  {
   "cell_type": "code",
   "execution_count": 15,
   "metadata": {},
   "outputs": [
    {
     "name": "stdout",
     "output_type": "stream",
     "text": [
      "INFO: POMDPLinter requirements for \u001b[34msolve(::ValueIterationSolver, ::Union{MDP,POMDP})\u001b[39m and dependencies. ([✔] = implemented correctly; [X] = not implemented; [?] = could not determine)\n",
      "\n",
      "For \u001b[34msolve(::ValueIterationSolver, ::Union{MDP,POMDP})\u001b[39m:\n",
      "\u001b[32m  [✔] discount(::QuickMDP{MyMDPStateActionNamedTuple{(:stateindex, :isterminal, :actionindex, :transition, :reward, :states, :actions, :discount, :initialstate), Tuple{Dict{State, Int64}, Bool, Dict{Action, Int64}, typeof(T), typeof(R), Matrix{State}, Vector{Action}, Float64, Matrix{State}}}})\u001b[39m\n",
      "\u001b[32m  [✔] transition(::QuickMDP{MyMDPStateActionNamedTuple{(:stateindex, :isterminal, :actionindex, :transition, :reward, :states, :actions, :discount, :initialstate), Tuple{Dict{State, Int64}, Bool, Dict{Action, Int64}, typeof(T), typeof(R), Matrix{State}, Vector{Action}, Float64, Matrix{State}}}}, ::State, ::Action)\u001b[39m\n",
      "\u001b[32m  [✔] reward(::QuickMDP{MyMDPStateActionNamedTuple{(:stateindex, :isterminal, :actionindex, :transition, :reward, :states, :actions, :discount, :initialstate), Tuple{Dict{State, Int64}, Bool, Dict{Action, Int64}, typeof(T), typeof(R), Matrix{State}, Vector{Action}, Float64, Matrix{State}}}}, ::State, ::Action, ::State)\u001b[39m\n",
      "\u001b[32m  [✔] stateindex(::QuickMDP{MyMDPStateActionNamedTuple{(:stateindex, :isterminal, :actionindex, :transition, :reward, :states, :actions, :discount, :initialstate), Tuple{Dict{State, Int64}, Bool, Dict{Action, Int64}, typeof(T), typeof(R), Matrix{State}, Vector{Action}, Float64, Matrix{State}}}}, ::State)\u001b[39m\n",
      "\u001b[32m  [✔] actionindex(::QuickMDP{MyMDPStateActionNamedTuple{(:stateindex, :isterminal, :actionindex, :transition, :reward, :states, :actions, :discount, :initialstate), Tuple{Dict{State, Int64}, Bool, Dict{Action, Int64}, typeof(T), typeof(R), Matrix{State}, Vector{Action}, Float64, Matrix{State}}}}, ::Action)\u001b[39m\n",
      "\u001b[32m  [✔] actions(::QuickMDP{MyMDPStateActionNamedTuple{(:stateindex, :isterminal, :actionindex, :transition, :reward, :states, :actions, :discount, :initialstate), Tuple{Dict{State, Int64}, Bool, Dict{Action, Int64}, typeof(T), typeof(R), Matrix{State}, Vector{Action}, Float64, Matrix{State}}}}, ::State)\u001b[39m\n",
      "\u001b[32m  [✔] length(::Array{State2})\u001b[39m\n",
      "\u001b[32m  [✔] length(::Array{Action1})\u001b[39m\n",
      "\u001b[32m  [✔] support(::Tuple{StateFloat64})\u001b[39m\n",
      "\u001b[31m  [X] pdf(::Tuple{StateFloat64}, ::State)\u001b[39m\n",
      "For \u001b[34mordered_states(::Union{MDP,POMDP})\u001b[39m (in solve(::ValueIterationSolver, ::Union{MDP,POMDP})):\n",
      "\u001b[32m  [✔] states(::QuickMDP{MyMDPStateActionNamedTuple{(:stateindex, :isterminal, :actionindex, :transition, :reward, :states, :actions, :discount, :initialstate), Tuple{Dict{State, Int64}, Bool, Dict{Action, Int64}, typeof(T), typeof(R), Matrix{State}, Vector{Action}, Float64, Matrix{State}}}})\u001b[39m\n",
      "For \u001b[34mordered_actions(::Union{MDP,POMDP})\u001b[39m (in solve(::ValueIterationSolver, ::Union{MDP,POMDP})):\n",
      "\u001b[32m  [✔] actions(::QuickMDP{MyMDPStateActionNamedTuple{(:stateindex, :isterminal, :actionindex, :transition, :reward, :states, :actions, :discount, :initialstate), Tuple{Dict{State, Int64}, Bool, Dict{Action, Int64}, typeof(T), typeof(R), Matrix{State}, Vector{Action}, Float64, Matrix{State}}}})\u001b[39m\n",
      "Note: Missing methods are often due to incorrect importing. You must explicitly import POMDPs functions to add new methods.\n",
      "\n"
     ]
    },
    {
     "ename": "LoadError",
     "evalue": "MethodError: no method matching pdf(::Tuple{State, Float64}, ::State)\n\u001b[0mClosest candidates are:\n\u001b[0m  pdf(\u001b[91m::POMDPTools.BeliefUpdaters.DiscreteBelief\u001b[39m, ::Any) at ~/.julia/packages/POMDPTools/TTBlb/src/BeliefUpdaters/discrete.jl:59\n\u001b[0m  pdf(\u001b[91m::Uniform\u001b[39m, ::Any) at ~/.julia/packages/POMDPTools/TTBlb/src/POMDPDistributions/uniform.jl:29\n\u001b[0m  pdf(\u001b[91m::UnsafeUniform\u001b[39m, ::Any) at ~/.julia/packages/POMDPTools/TTBlb/src/POMDPDistributions/uniform.jl:50\n\u001b[0m  ...",
     "output_type": "error",
     "traceback": [
      "MethodError: no method matching pdf(::Tuple{State, Float64}, ::State)\n\u001b[0mClosest candidates are:\n\u001b[0m  pdf(\u001b[91m::POMDPTools.BeliefUpdaters.DiscreteBelief\u001b[39m, ::Any) at ~/.julia/packages/POMDPTools/TTBlb/src/BeliefUpdaters/discrete.jl:59\n\u001b[0m  pdf(\u001b[91m::Uniform\u001b[39m, ::Any) at ~/.julia/packages/POMDPTools/TTBlb/src/POMDPDistributions/uniform.jl:29\n\u001b[0m  pdf(\u001b[91m::UnsafeUniform\u001b[39m, ::Any) at ~/.julia/packages/POMDPTools/TTBlb/src/POMDPDistributions/uniform.jl:50\n\u001b[0m  ...",
      "",
      "Stacktrace:",
      " [1] (::POMDPTools.POMDPDistributions.var\"#1#2\"{Tuple{State, Float64}})(x::State)",
      "   @ POMDPTools.POMDPDistributions ./none:0",
      " [2] iterate",
      "   @ ./generator.jl:47 [inlined]",
      " [3] macro expansion",
      "   @ ~/.julia/packages/DiscreteValueIteration/bqPuV/src/vanilla.jl:118 [inlined]",
      " [4] macro expansion",
      "   @ ./timing.jl:299 [inlined]",
      " [5] solve(solver::ValueIterationSolver, mdp::QuickMDP{MyMDP, State, Action, NamedTuple{(:stateindex, :isterminal, :actionindex, :transition, :reward, :states, :actions, :discount, :initialstate), Tuple{Dict{State, Int64}, Bool, Dict{Action, Int64}, typeof(T), typeof(R), Matrix{State}, Vector{Action}, Float64, Matrix{State}}}}; kwargs::Base.Pairs{Symbol, Union{}, Tuple{}, NamedTuple{(), Tuple{}}})",
      "   @ DiscreteValueIteration ~/.julia/packages/DiscreteValueIteration/bqPuV/src/vanilla.jl:102",
      " [6] solve(solver::ValueIterationSolver, mdp::QuickMDP{MyMDP, State, Action, NamedTuple{(:stateindex, :isterminal, :actionindex, :transition, :reward, :states, :actions, :discount, :initialstate), Tuple{Dict{State, Int64}, Bool, Dict{Action, Int64}, typeof(T), typeof(R), Matrix{State}, Vector{Action}, Float64, Matrix{State}}}})",
      "   @ DiscreteValueIteration ~/.julia/packages/DiscreteValueIteration/bqPuV/src/vanilla.jl:67",
      " [7] top-level scope",
      "   @ In[15]:2",
      " [8] eval",
      "   @ ./boot.jl:373 [inlined]",
      " [9] include_string(mapexpr::typeof(REPL.softscope), mod::Module, code::String, filename::String)",
      "   @ Base ./loading.jl:1196"
     ]
    }
   ],
   "source": [
    "solver = ValueIterationSolver(max_iterations=20)\n",
    "policy = solve(solver, mdp)\n",
    "policy"
   ]
  },
  {
   "cell_type": "code",
   "execution_count": null,
   "metadata": {},
   "outputs": [],
   "source": []
  }
 ],
 "metadata": {
  "kernelspec": {
   "display_name": "Julia 1.7.3",
   "language": "julia",
   "name": "julia-1.7"
  },
  "language_info": {
   "file_extension": ".jl",
   "mimetype": "application/julia",
   "name": "julia",
   "version": "1.7.3"
  }
 },
 "nbformat": 4,
 "nbformat_minor": 2
}
