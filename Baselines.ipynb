{
 "cells": [
  {
   "cell_type": "code",
   "execution_count": 1,
   "metadata": {},
   "outputs": [],
   "source": [
    "using POMDPs, QuickPOMDPs, POMDPModelTools, POMDPPolicies, Parameters, Random, Plots, LinearAlgebra, Serialization\n",
    "using POMDPTools, BasicPOMCP, D3Trees, GridInterpolations, POMCPOW, POMDPModels, Combinatorics, Dates, CSV, ParticleFilters"
   ]
  },
  {
   "cell_type": "code",
   "execution_count": 2,
   "metadata": {},
   "outputs": [
    {
     "data": {
      "text/plain": [
       "log (generic function with 1 method)"
      ]
     },
     "execution_count": 2,
     "metadata": {},
     "output_type": "execute_result"
    }
   ],
   "source": [
    "function log(s::String)\n",
    "    s_time = Dates.format(Dates.now(), \"HH:MM:SS\\t\") * s * \"\\n\"\n",
    "    open(\"./logs/\" * expID * \".txt\", \"a\") do file\n",
    "        write(file, s_time)\n",
    "    end\n",
    "    print(s_time)\n",
    "end"
   ]
  },
  {
   "cell_type": "markdown",
   "metadata": {},
   "source": [
    "# Experiment Parameters"
   ]
  },
  {
   "cell_type": "code",
   "execution_count": 3,
   "metadata": {},
   "outputs": [
    {
     "data": {
      "text/plain": [
       "1×8 Matrix{Float64}:\n",
       " 3.0  3.0  0.9  6.0  6.0  2.0  100.0  5003.0"
      ]
     },
     "execution_count": 3,
     "metadata": {},
     "output_type": "execute_result"
    }
   ],
   "source": [
    "# set these or use command line parameters\n",
    "args = [3 3 0.9 6 6 2 100 5003]"
   ]
  },
  {
   "cell_type": "code",
   "execution_count": null,
   "metadata": {},
   "outputs": [],
   "source": []
  },
  {
   "cell_type": "markdown",
   "metadata": {},
   "source": [
    "# Random Baselines"
   ]
  },
  {
   "cell_type": "markdown",
   "metadata": {},
   "source": [
    "## Random: Actions\n",
    "Selects actions uniformly at random."
   ]
  },
  {
   "cell_type": "code",
   "execution_count": 4,
   "metadata": {},
   "outputs": [
    {
     "name": "stdout",
     "output_type": "stream",
     "text": [
      "13:36:53\tRunning experiment with ID base_rand_act_22105_133653\n"
     ]
    }
   ],
   "source": [
    "exp_name = \"base_rand_act_\"\n",
    "expID = exp_name * Dates.format(Dates.now(), \"yymd_HHMMS\")\n",
    "log(\"Running experiment with ID \" * expID)"
   ]
  },
  {
   "cell_type": "markdown",
   "metadata": {},
   "source": [
    "### create POMDP"
   ]
  },
  {
   "cell_type": "code",
   "execution_count": 5,
   "metadata": {},
   "outputs": [
    {
     "name": "stdout",
     "output_type": "stream",
     "text": [
      "13:36:54\tMyParameters\n",
      "  N: Int64 3\n",
      "  K: Int64 3\n",
      "  M: Int64 2\n",
      "  y: Float64 0.9\n",
      "  umax: Int64 10\n",
      "  u_grain: Int64 6\n",
      "  d_grain: Int64 6\n",
      "  beta: Array{Float64}((2,)) [0.01, 10.0]\n",
      "  exp_iters: Int64 2\n",
      "  exp_steps: Int64 100\n",
      "  s_index: Int64 5003\n",
      "\n"
     ]
    }
   ],
   "source": [
    "if @isdefined args\n",
    "    @with_kw struct MyParameters\n",
    "        N::Int = convert(Int64, args[1])         # size of item set\n",
    "        K::Int = convert(Int64, args[2])         # size of arm set\n",
    "        M::Int = 2                               # size of beta set\n",
    "        y::Float64 = args[3]                     # discount factor\n",
    "        umax::Real = 10                          # max utility\n",
    "        u_grain::Int = convert(Int64, args[4])   # granularity of utility approximation\n",
    "        d_grain::Int = convert(Int64, args[5])   # granularity of arm distribution approximation\n",
    "        beta::Array{Float64} = [0.01, 10.0]      # teacher beta values\n",
    "        exp_iters::Int = convert(Int64, args[6]) # number of rollouts to run\n",
    "        exp_steps::Int = convert(Int64, args[7]) # number of timesteps per rollout\n",
    "        s_index::Int = convert(Int64, args[8])   # index of true state\n",
    "    end\n",
    "else\n",
    "    @with_kw struct MyParameters\n",
    "        N::Int = parse(Int64, ARGS[1])           # size of item set\n",
    "        K::Int = parse(Int64, ARGS[2])           # size of arm set\n",
    "        M::Int = 2                               # size of beta set\n",
    "        y::Float64 = parse(Float64, ARGS[3])     # discount factor\n",
    "        umax::Real = 10                          # max utility\n",
    "        u_grain::Int = parse(Int64, ARGS[4])     # granularity of utility approximation\n",
    "        d_grain::Int = parse(Int64, ARGS[5])     # granularity of arm distribution approximation\n",
    "        beta::Array{Float64} = [0.01, 10.0]      # teacher beta values\n",
    "        exp_iters::Int = parse(Int64, ARGS[6])   # number of rollouts to run\n",
    "        exp_steps::Int = parse(Int64, ARGS[7])   # number of timesteps per rollout\n",
    "        s_index::Int = parse(Int64, ARGS[8])     # index of true state\n",
    "    end\n",
    "end\n",
    "\n",
    "params = MyParameters()\n",
    "log(string(params))\n",
    "\n"
   ]
  },
  {
   "cell_type": "code",
   "execution_count": 6,
   "metadata": {},
   "outputs": [
    {
     "name": "stdout",
     "output_type": "stream",
     "text": [
      "13:36:54\tgenerated 216 utilities (each length 3 items)\n",
      "13:36:54\tgenerated 9261 arm distribution sets (each shape 3 arms x 3 items)\n",
      "13:36:54\tgenerated 1 beta value sets (each length 2 teachers)\n",
      "13:36:55\tgenerated 2000376 states\n",
      "13:36:55\tgenerated 5 actions\n",
      "13:36:55\tgenerated transition function\n",
      "13:36:55\tgenerated reward function\n",
      "13:36:55\tgenerated 21 observations\n",
      "13:36:55\tgenerated observation function\n",
      "13:36:56\tcreated POMDP\n"
     ]
    }
   ],
   "source": [
    "struct State\n",
    "    u::Array{Float64}         # list of N utility values for N items\n",
    "    d::Array{Array{Float64}}  # list of K arm distributions, each assigning probabilities to N items\n",
    "    b::Array{Float64}         # list of M beta values\n",
    "end\n",
    "\n",
    "# space of utility functions\n",
    "umin = 0\n",
    "grid_coor = fill(range(umin, params.umax, length=params.u_grain), params.N)\n",
    "U = RectangleGrid(grid_coor...)\n",
    "\n",
    "@assert length(U[1]) == params.N\n",
    "log(\"generated \" * string(length(U)) * \" utilities (each length \" * string(length(U[1])) * \" items)\")\n",
    "\n",
    "function generate_probability_distributions(N::Int, coor::Array{Float64}, S::Float64=1.0)\n",
    "    if S == 0\n",
    "        return [[0.0 for _ in 1:N]]\n",
    "    end\n",
    "    if N == 1\n",
    "        return [[float(S)]]\n",
    "    end\n",
    "    out = []\n",
    "    range = coor[1:findall(x -> isapprox(x, S, atol=1e-15), coor)[1]]\n",
    "    for k in range\n",
    "        subsolution = generate_probability_distributions(N - 1, coor, S - k)\n",
    "        for lst in subsolution\n",
    "            if typeof(lst[1]) != Float64\n",
    "                log(\"ERROR: lst \" * string(lst) * \" has type \" * string(typeof(lst[1])) * \". Must be Float64.\")\n",
    "            end\n",
    "            prepend!(lst, float(k))\n",
    "        end\n",
    "        out = vcat(out, subsolution)\n",
    "    end\n",
    "    return out\n",
    "end\n",
    "\n",
    "# space of arm distributions\n",
    "coor = collect(range(0.0, 1.0, length=params.d_grain))\n",
    "simplex_list = generate_probability_distributions(params.N, coor)\n",
    "D_tuples = vec(collect(Base.product(fill(simplex_list, params.K)...)))\n",
    "D = [collect(d) for d in D_tuples]\n",
    "\n",
    "@assert length(D[1]) == params.K\n",
    "@assert length(D[1][1]) == params.N\n",
    "log(\"generated \" * string(length(D)) * \" arm distribution sets (each shape \" * string(length(D[1])) * \" arms x \" * string(length(D[1][1])) * \" items)\")\n",
    "\n",
    "# beta values\n",
    "B = [params.beta]\n",
    "\n",
    "# each beta value set must be length M\n",
    "@assert length(B[1]) == params.M\n",
    "log(\"generated \" * string(length(B)) * \" beta value sets (each length \" * string(length(B[1])) * \" teachers)\")\n",
    "\n",
    "# State space\n",
    "S = [[State(u, d, b) for u in U, d in D, b in B]...,]\n",
    "\n",
    "log(\"generated \" * string(length(S)) * \" states\")\n",
    "\n",
    "# Action space - actions are arm choices (K) or beta selections (M)\n",
    "struct Action\n",
    "    name::String      # valid names are {B,C} + index\n",
    "    isBeta::Bool      # true if 'B' action, false if 'C' action\n",
    "    index::Integer    # index of beta (if 'B' action) or arm choice (if 'C' action)\n",
    "end\n",
    "\n",
    "A = Array{Action}(undef, params.K + params.M)\n",
    "for i in 1:params.K+params.M\n",
    "    if i <= params.K\n",
    "        A[i] = Action(\"C\" * string(i), false, i)\n",
    "    else\n",
    "        A[i] = Action(\"B\" * string(i - params.K), true, i - params.K)\n",
    "    end\n",
    "end\n",
    "log(\"generated \" * string(length(A)) * \" actions\")\n",
    "\n",
    "# Transition function\n",
    "function T(s::State, a::Action)\n",
    "    return SparseCat([s], [1.0])    # categorical distribution\n",
    "end\n",
    "log(\"generated transition function\")\n",
    "\n",
    "# Reward function\n",
    "function R(s::State, a::Action)\n",
    "    # if beta selected, return 0\n",
    "    if a.isBeta\n",
    "        return 0\n",
    "        # if arm pulled, return that arm's avg utility\n",
    "    else\n",
    "        utilities = s.u\n",
    "        arm_dist = s.d[a.index]\n",
    "        return dot(utilities, arm_dist)\n",
    "    end\n",
    "end\n",
    "log(\"generated reward function\")\n",
    "\n",
    "# item space\n",
    "I = 1:params.N\n",
    "\n",
    "# preference space\n",
    "struct Preference\n",
    "    i0::Int    # first item to compare, in {1,2,...,N}\n",
    "    i1::Int    # second item to compare, in {1,2,...,N}\n",
    "    label::Int # feedback label, in {0,1}\n",
    "end\n",
    "\n",
    "P = [[Preference(i0, i1, label) for i0 in I, i1 in I, label in [0, 1]]...,]\n",
    "\n",
    "# observation space\n",
    "struct Observation\n",
    "    isItem::Bool    # true if item returned, false otherwise\n",
    "    i::Int          # item, if item returned\n",
    "    p::Preference   # preference, if preference returned\n",
    "end\n",
    "\n",
    "invalid_i = -1\n",
    "invalid_p = Preference(-1, -1, -1)\n",
    "I_obs = [Observation(true, i, invalid_p) for i in I]\n",
    "P_obs = [Observation(false, invalid_i, p) for p in P]\n",
    "omega = union(I_obs, P_obs)\n",
    "\n",
    "log(\"generated \" * string(length(omega)) * \" observations\")\n",
    "\n",
    "# unnormalized query profile (likelihood of querying 1,1; 2,1; 3,1; ... ; N,1; 1,2; 2,2; ... ; N,N)\n",
    "Q = ones(params.N * params.N)\n",
    "\n",
    "# preference probability (expected preference, or probability that preference=1)\n",
    "function Pr(p::Preference, s::State, b::Float64)\n",
    "    prob_pref_1 = exp(Float64(b) * s.u[p.i1]) / (exp(Float64(b) * s.u[p.i1]) + exp(Float64(b) * s.u[p.i0]))\n",
    "    if p.label == 1\n",
    "        return prob_pref_1\n",
    "    else\n",
    "        return 1.0 - prob_pref_1\n",
    "    end\n",
    "end\n",
    "\n",
    "function O(s::State, a::Action, sp::State)\n",
    "    # if B action, obs in P_obs\n",
    "    if a.isBeta\n",
    "        prob_of_pref = [Pr(o.p, s, s.b[a.index]) for o in P_obs]\n",
    "        prob_of_query = vcat(Q, Q)   # doubled because each query appears once for each label\n",
    "\n",
    "        # weight by querying profile to get dist\n",
    "        dist = [prob_of_pref[i] * prob_of_query[i] for i in 1:length(prob_of_pref)]\n",
    "        normalized_dist = dist / sum(dist)\n",
    "        return SparseCat(P_obs, normalized_dist)\n",
    "        # if C action, obs in I_obs\n",
    "    else\n",
    "        return SparseCat(I_obs, s.d[a.index])\n",
    "    end\n",
    "end\n",
    "\n",
    "log(\"generated observation function\")\n",
    "\n",
    "# define POMDP\n",
    "abstract type MyPOMDP <: POMDP{State,Action,Observation} end\n",
    "pomdp = QuickPOMDP(MyPOMDP,\n",
    "    states=S,\n",
    "    actions=A,\n",
    "    observations=omega,\n",
    "    transition=T,\n",
    "    observation=O,\n",
    "    reward=R,\n",
    "    discount=params.y,\n",
    "    initialstate=S);\n",
    "\n",
    "log(\"created POMDP\")"
   ]
  },
  {
   "cell_type": "markdown",
   "metadata": {},
   "source": [
    "### generate random rollouts"
   ]
  },
  {
   "cell_type": "code",
   "execution_count": 18,
   "metadata": {},
   "outputs": [
    {
     "name": "stdout",
     "output_type": "stream",
     "text": [
      "13:47:55\ttrue state State([8.0, 10.0, 0.0], Array{Float64}[[0.0, 0.4, 0.6], [0.0, 0.2, 0.8], [0.0, 0.0, 1.0]], [0.01, 10.0])\n",
      "13:47:55\tlogging random action simulation 2 to ./sims/base_rand_B_22105_133744_run1.txt\n",
      "13:47:56\tlogging random action simulation 2 to ./sims/base_rand_B_22105_133744_run2.txt\n",
      "13:47:56\tran 2 random rollouts for 100 timesteps each\n",
      "13:47:56\tRandom R: [118.0, 110.0]\n"
     ]
    }
   ],
   "source": [
    "prior = Uniform(S)\n",
    "sim = RolloutSimulator(max_steps=params.exp_steps)\n",
    "true_state = S[params.s_index]\n",
    "log(\"true state \"*string(true_state))\n",
    "\n",
    "random_R = zeros(params.exp_iters)\n",
    "for iter in 1:params.exp_iters\n",
    "    log(\"logging random action simulation \"*string(params.exp_iters)*\" to \"*\"./sims/\"*expID*\"_run\"*string(iter)*\".txt\")\n",
    "    t = 1\n",
    "    r_accum = 0.\n",
    "    policy = RandomPolicy(pomdp)\n",
    "    for (s, a, o, r) in stepthrough(pomdp, policy, updater(policy), Uniform(S), true_state, \"s,a,o,r\", max_steps=params.exp_steps)\n",
    "        r_accum = r_accum + r\n",
    "        if t == 1\n",
    "            open(\"./sims/\"*expID*\"_run\"*string(iter)*\".txt\", \"w\") do file\n",
    "                write(file, string(s))\n",
    "            end\n",
    "        end\n",
    "        if a.isBeta\n",
    "            msg = \"\\n\"*string(t)*\",B,\"*a.name*\",(i\"*string(o.p.i0)*\"-i\"*string(o.p.i1)*\";\"*string(o.p.label)*\"),\"*string(r)\n",
    "        else\n",
    "            msg = \"\\n\"*string(t)*\",C,\"*a.name*\",i\"*string(o.i)*\",\"*string(r)\n",
    "        end\n",
    "        open(\"./sims/\"*expID*\"_run\"*string(iter)*\".txt\", \"a\") do file\n",
    "            write(file, msg)\n",
    "        end\n",
    "        t = t + 1\n",
    "    end\n",
    "    random_R[iter] = r_accum\n",
    "end\n",
    "\n",
    "log(\"ran \"*string(params.exp_iters)*\" random rollouts for \"*string(params.exp_steps)*\" timesteps each\")\n",
    "log(\"Random R: \"*string(random_R))"
   ]
  },
  {
   "cell_type": "code",
   "execution_count": 61,
   "metadata": {},
   "outputs": [],
   "source": [
    "n = 100\n",
    "\n",
    "prior = Uniform(S)\n",
    "sim = RolloutSimulator(max_steps=n)\n",
    "true_state = S[params.s_index]\n",
    "random_R = zeros(params.exp_iters)\n",
    "policy = RandomPolicy(pomdp)\n",
    "upd = updater(policy)\n",
    ";"
   ]
  },
  {
   "cell_type": "code",
   "execution_count": 76,
   "metadata": {},
   "outputs": [
    {
     "name": "stdout",
     "output_type": "stream",
     "text": [
      "15:12:58\tSimulated R: [17.01586689413212, 10.61364470939606]\n",
      "done15:12:58\tStepthrough-ed R: [14.004138206932748, 0.0003028753489254493]\n"
     ]
    }
   ],
   "source": [
    "y = 0.9\n",
    "\n",
    "for iter in 1:params.exp_iters\n",
    "    result = simulate(sim, pomdp, policy, upd, prior, true_state)\n",
    "    random_R[iter] = result\n",
    "end\n",
    "\n",
    "log(\"Simulated R: \"*string(random_R))\n",
    "\n",
    "disc = 1\n",
    "for iter in 1:params.exp_iters\n",
    "    r_accum = 0.\n",
    "    for (r) in stepthrough(pomdp, policy, upd, prior, true_state, \"r\", max_steps=n)\n",
    "        r_accum = r_accum + r*disc\n",
    "        disc = disc*y\n",
    "    end\n",
    "    random_R[iter] = r_accum\n",
    "end\n",
    "\n",
    "print(\"done\")\n",
    "log(\"Stepthrough-ed R: \"*string(random_R))"
   ]
  },
  {
   "cell_type": "code",
   "execution_count": 69,
   "metadata": {},
   "outputs": [
    {
     "name": "stdout",
     "output_type": "stream",
     "text": [
      "0.9\n",
      "0.81\n",
      "0.7290000000000001\n",
      "0.6561\n",
      "0.5904900000000001\n",
      "0.531441\n",
      "0.4782969000000001\n",
      "0.4304672100000001\n",
      "0.3874204890000001\n",
      "0.3486784401000001\n",
      "0.3138105960900001\n",
      "0.2824295364810001\n",
      "0.2541865828329001\n",
      "0.22876792454961006\n",
      "0.20589113209464907\n",
      "0.18530201888518416\n",
      "0.16677181699666577\n",
      "0.15009463529699918\n",
      "0.13508517176729928\n",
      "0.12157665459056935\n",
      "0.10941898913151242\n",
      "0.09847709021836118\n",
      "0.08862938119652507\n",
      "0.07976644307687256\n",
      "0.0717897987691853\n",
      "0.06461081889226677\n",
      "0.058149737003040096\n",
      "0.05233476330273609\n",
      "0.047101286972462485\n",
      "0.04239115827521624\n",
      "0.038152042447694615\n",
      "0.03433683820292515\n",
      "0.030903154382632636\n",
      "0.027812838944369374\n",
      "0.025031555049932437\n",
      "0.022528399544939192\n",
      "0.020275559590445275\n",
      "0.018248003631400746\n",
      "0.016423203268260675\n",
      "0.014780882941434606\n",
      "0.013302794647291146\n",
      "0.011972515182562031\n",
      "0.01077526366430583\n",
      "0.009697737297875247\n",
      "0.008727963568087723\n",
      "0.007855167211278949\n",
      "0.007069650490151055\n",
      "0.0063626854411359506\n",
      "0.005726416897022355\n",
      "0.00515377520732012\n",
      "0.004638397686588107\n",
      "0.004174557917929297\n",
      "0.003757102126136368\n",
      "0.0033813919135227306\n",
      "0.0030432527221704577\n",
      "0.002738927449953412\n",
      "0.002465034704958071\n",
      "0.002218531234462264\n",
      "0.0019966781110160375\n",
      "0.001797010299914434\n",
      "0.0016173092699229904\n",
      "0.0014555783429306916\n",
      "0.0013100205086376225\n",
      "0.0011790184577738603\n",
      "0.001061116611996474\n",
      "0.0009550049507968268\n",
      "0.0008595044557171441\n",
      "0.0007735540101454297\n",
      "0.0006961986091308868\n",
      "0.0006265787482177981\n",
      "0.0005639208733960182\n",
      "0.0005075287860564165\n",
      "0.00045677590745077487\n",
      "0.0004110983167056974\n",
      "0.0003699884850351277\n",
      "0.0003329896365316149\n",
      "0.0002996906728784534\n",
      "0.0002697216055906081\n",
      "0.0002427494450315473\n",
      "0.00021847450052839255\n",
      "0.00019662705047555332\n",
      "0.000176964345427998\n",
      "0.00015926791088519818\n",
      "0.00014334111979667836\n",
      "0.00012900700781701054\n",
      "0.00011610630703530949\n",
      "0.00010449567633177854\n",
      "9.40461086986007e-5\n",
      "8.464149782874062e-5\n",
      "7.617734804586657e-5\n",
      "6.85596132412799e-5\n",
      "6.170365191715192e-5\n",
      "5.553328672543673e-5\n",
      "4.997995805289305e-5\n",
      "4.4981962247603756e-5\n",
      "4.0483766022843375e-5\n",
      "3.6435389420559045e-5\n",
      "3.279185047850314e-5\n",
      "2.9512665430652825e-5\n",
      "2.6561398887587544e-5\n"
     ]
    }
   ],
   "source": [
    "for i in 1:100\n",
    "    println(0.9^i)\n",
    "end"
   ]
  },
  {
   "cell_type": "markdown",
   "metadata": {},
   "source": [
    "## Random: Teacher\n",
    "Can choose whether or not to query teacher, but can't choose which teacher to query. When queries teacher, teacher beta sampled uniformly at random."
   ]
  },
  {
   "cell_type": "code",
   "execution_count": 11,
   "metadata": {},
   "outputs": [
    {
     "name": "stdout",
     "output_type": "stream",
     "text": [
      "13:37:44\tRunning experiment with ID base_rand_B_22105_133744\n"
     ]
    }
   ],
   "source": [
    "exp_name = \"base_rand_B_\"\n",
    "expID = exp_name * Dates.format(Dates.now(), \"yymd_HHMMS\")\n",
    "log(\"Running experiment with ID \" * expID)"
   ]
  },
  {
   "cell_type": "code",
   "execution_count": null,
   "metadata": {},
   "outputs": [],
   "source": []
  },
  {
   "cell_type": "code",
   "execution_count": null,
   "metadata": {},
   "outputs": [],
   "source": []
  }
 ],
 "metadata": {
  "kernelspec": {
   "display_name": "Julia 1.8.1",
   "language": "julia",
   "name": "julia-1.8"
  },
  "language_info": {
   "file_extension": ".jl",
   "mimetype": "application/julia",
   "name": "julia",
   "version": "1.8.1"
  }
 },
 "nbformat": 4,
 "nbformat_minor": 2
}
